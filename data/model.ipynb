{
 "cells": [
  {
   "cell_type": "code",
   "execution_count": 871,
   "id": "d32bd1be-c839-490f-a83d-d4891db9b7b1",
   "metadata": {},
   "outputs": [],
   "source": [
    "import pandas as pd\n",
    "import numpy as np\n",
    "import re\n",
    "from sklearn.impute import SimpleImputer\n",
    "from sklearn.preprocessing import LabelEncoder\n",
    "from sklearn.model_selection import train_test_split\n",
    "from sklearn.linear_model import LinearRegression\n",
    "from sklearn.metrics import mean_absolute_error, mean_squared_error, r2_score\n",
    "from sklearn.preprocessing import LabelEncoder\n"
   ]
  },
  {
   "cell_type": "code",
   "execution_count": 872,
   "id": "c6b1d686-3a25-488d-8eef-d44176326dff",
   "metadata": {},
   "outputs": [],
   "source": [
    "df = pd.read_csv('combined_output.csv', low_memory=False)"
   ]
  },
  {
   "cell_type": "code",
   "execution_count": 873,
   "id": "65bf34c1-afd8-4852-98d8-394a7d805d28",
   "metadata": {},
   "outputs": [
    {
     "data": {
      "text/plain": [
       "Index(['name', 'id', 'publicationDate', 'isCreditAvailable', 'isNewAuto',\n",
       "       'isTradeInAuto', 'photoCount', 'section', 'categoryString', 'category',\n",
       "       'categoryId', 'availability', 'region', 'city', 'lastUpdate', 'status',\n",
       "       'unitPrice', 'url', 'appliedPaidServices', 'video', 'seller_userId',\n",
       "       'seller_userTypeId', 'attributes_model', 'attributes_brand',\n",
       "       'attributes_avgPrice', 'parameters_Город', 'parameters_Поколение',\n",
       "       'parameters_Кузов', 'parameters_Объем двигателя, л',\n",
       "       'parameters_Коробка передач', 'parameters_Привод', 'parameters_Руль',\n",
       "       'parameters_Цвет', 'parameters_Растаможен в Казахстане',\n",
       "       'parameters_Пробег', 'parameters_Наличие', 'parameters_Двигатель',\n",
       "       'source_file', 'new', 'add_date-desc', 'price-asc',\n",
       "       'year.price-desc.asc', 'price-desc'],\n",
       "      dtype='object')"
      ]
     },
     "execution_count": 873,
     "metadata": {},
     "output_type": "execute_result"
    }
   ],
   "source": [
    "df.columns"
   ]
  },
  {
   "cell_type": "code",
   "execution_count": 874,
   "id": "e0b120a1-9e8a-4726-a8f8-697d0ccdefb6",
   "metadata": {},
   "outputs": [
    {
     "data": {
      "text/html": [
       "<div>\n",
       "<style scoped>\n",
       "    .dataframe tbody tr th:only-of-type {\n",
       "        vertical-align: middle;\n",
       "    }\n",
       "\n",
       "    .dataframe tbody tr th {\n",
       "        vertical-align: top;\n",
       "    }\n",
       "\n",
       "    .dataframe thead th {\n",
       "        text-align: right;\n",
       "    }\n",
       "</style>\n",
       "<table border=\"1\" class=\"dataframe\">\n",
       "  <thead>\n",
       "    <tr style=\"text-align: right;\">\n",
       "      <th></th>\n",
       "      <th>name</th>\n",
       "      <th>id</th>\n",
       "      <th>publicationDate</th>\n",
       "      <th>isCreditAvailable</th>\n",
       "      <th>isNewAuto</th>\n",
       "      <th>isTradeInAuto</th>\n",
       "      <th>photoCount</th>\n",
       "      <th>section</th>\n",
       "      <th>categoryString</th>\n",
       "      <th>category</th>\n",
       "      <th>...</th>\n",
       "      <th>parameters_Растаможен в Казахстане</th>\n",
       "      <th>parameters_Пробег</th>\n",
       "      <th>parameters_Наличие</th>\n",
       "      <th>parameters_Двигатель</th>\n",
       "      <th>source_file</th>\n",
       "      <th>new</th>\n",
       "      <th>add_date-desc</th>\n",
       "      <th>price-asc</th>\n",
       "      <th>year.price-desc.asc</th>\n",
       "      <th>price-desc</th>\n",
       "    </tr>\n",
       "  </thead>\n",
       "  <tbody>\n",
       "    <tr>\n",
       "      <th>0</th>\n",
       "      <td>Mercedes-Benz S 500 2008 г.</td>\n",
       "      <td>182258672.0</td>\n",
       "      <td>2025-02-18T23:59:59+05:00</td>\n",
       "      <td>True</td>\n",
       "      <td>False</td>\n",
       "      <td>False</td>\n",
       "      <td>10.0</td>\n",
       "      <td>auto</td>\n",
       "      <td>auto.car</td>\n",
       "      <td>auto</td>\n",
       "      <td>...</td>\n",
       "      <td>Да</td>\n",
       "      <td>NaN</td>\n",
       "      <td>NaN</td>\n",
       "      <td>NaN</td>\n",
       "      <td>cars_add_date-desc_2025-02-18_10-36-47.json</td>\n",
       "      <td>NaN</td>\n",
       "      <td>NaN</td>\n",
       "      <td>NaN</td>\n",
       "      <td>NaN</td>\n",
       "      <td>NaN</td>\n",
       "    </tr>\n",
       "    <tr>\n",
       "      <th>1</th>\n",
       "      <td>Mercedes-Benz S 500 2008 г.</td>\n",
       "      <td>182258672.0</td>\n",
       "      <td>2025-02-18T23:59:59+05:00</td>\n",
       "      <td>True</td>\n",
       "      <td>False</td>\n",
       "      <td>False</td>\n",
       "      <td>10.0</td>\n",
       "      <td>auto</td>\n",
       "      <td>auto.car</td>\n",
       "      <td>auto.car</td>\n",
       "      <td>...</td>\n",
       "      <td>Да</td>\n",
       "      <td>NaN</td>\n",
       "      <td>NaN</td>\n",
       "      <td>NaN</td>\n",
       "      <td>cars_add_date-desc_2025-02-18_10-36-47.json</td>\n",
       "      <td>NaN</td>\n",
       "      <td>NaN</td>\n",
       "      <td>NaN</td>\n",
       "      <td>NaN</td>\n",
       "      <td>NaN</td>\n",
       "    </tr>\n",
       "    <tr>\n",
       "      <th>2</th>\n",
       "      <td>Chevrolet Spark 2022 г.</td>\n",
       "      <td>180886528.0</td>\n",
       "      <td>2025-02-18T23:59:59+05:00</td>\n",
       "      <td>True</td>\n",
       "      <td>False</td>\n",
       "      <td>False</td>\n",
       "      <td>15.0</td>\n",
       "      <td>auto</td>\n",
       "      <td>auto.car</td>\n",
       "      <td>auto</td>\n",
       "      <td>...</td>\n",
       "      <td>Да</td>\n",
       "      <td>74 564 км</td>\n",
       "      <td>NaN</td>\n",
       "      <td>NaN</td>\n",
       "      <td>cars_add_date-desc_2025-02-18_10-36-47.json</td>\n",
       "      <td>NaN</td>\n",
       "      <td>NaN</td>\n",
       "      <td>NaN</td>\n",
       "      <td>NaN</td>\n",
       "      <td>NaN</td>\n",
       "    </tr>\n",
       "    <tr>\n",
       "      <th>3</th>\n",
       "      <td>Chevrolet Spark 2022 г.</td>\n",
       "      <td>180886528.0</td>\n",
       "      <td>2025-02-18T23:59:59+05:00</td>\n",
       "      <td>True</td>\n",
       "      <td>False</td>\n",
       "      <td>False</td>\n",
       "      <td>15.0</td>\n",
       "      <td>auto</td>\n",
       "      <td>auto.car</td>\n",
       "      <td>auto</td>\n",
       "      <td>...</td>\n",
       "      <td>Да</td>\n",
       "      <td>74 564 км</td>\n",
       "      <td>NaN</td>\n",
       "      <td>NaN</td>\n",
       "      <td>cars_add_date-desc_2025-02-18_10-36-47.json</td>\n",
       "      <td>NaN</td>\n",
       "      <td>NaN</td>\n",
       "      <td>NaN</td>\n",
       "      <td>NaN</td>\n",
       "      <td>NaN</td>\n",
       "    </tr>\n",
       "    <tr>\n",
       "      <th>4</th>\n",
       "      <td>Chevrolet Spark 2022 г.</td>\n",
       "      <td>180886528.0</td>\n",
       "      <td>2025-02-18T23:59:59+05:00</td>\n",
       "      <td>True</td>\n",
       "      <td>False</td>\n",
       "      <td>False</td>\n",
       "      <td>15.0</td>\n",
       "      <td>auto</td>\n",
       "      <td>auto.car</td>\n",
       "      <td>auto</td>\n",
       "      <td>...</td>\n",
       "      <td>Да</td>\n",
       "      <td>74 564 км</td>\n",
       "      <td>NaN</td>\n",
       "      <td>NaN</td>\n",
       "      <td>cars_add_date-desc_2025-02-18_10-36-47.json</td>\n",
       "      <td>NaN</td>\n",
       "      <td>NaN</td>\n",
       "      <td>NaN</td>\n",
       "      <td>NaN</td>\n",
       "      <td>NaN</td>\n",
       "    </tr>\n",
       "  </tbody>\n",
       "</table>\n",
       "<p>5 rows × 43 columns</p>\n",
       "</div>"
      ],
      "text/plain": [
       "                          name           id            publicationDate  \\\n",
       "0  Mercedes-Benz S 500 2008 г.  182258672.0  2025-02-18T23:59:59+05:00   \n",
       "1  Mercedes-Benz S 500 2008 г.  182258672.0  2025-02-18T23:59:59+05:00   \n",
       "2      Chevrolet Spark 2022 г.  180886528.0  2025-02-18T23:59:59+05:00   \n",
       "3      Chevrolet Spark 2022 г.  180886528.0  2025-02-18T23:59:59+05:00   \n",
       "4      Chevrolet Spark 2022 г.  180886528.0  2025-02-18T23:59:59+05:00   \n",
       "\n",
       "  isCreditAvailable isNewAuto isTradeInAuto  photoCount section  \\\n",
       "0              True     False         False        10.0    auto   \n",
       "1              True     False         False        10.0    auto   \n",
       "2              True     False         False        15.0    auto   \n",
       "3              True     False         False        15.0    auto   \n",
       "4              True     False         False        15.0    auto   \n",
       "\n",
       "  categoryString  category  ...  parameters_Растаможен в Казахстане  \\\n",
       "0       auto.car      auto  ...                                  Да   \n",
       "1       auto.car  auto.car  ...                                  Да   \n",
       "2       auto.car      auto  ...                                  Да   \n",
       "3       auto.car      auto  ...                                  Да   \n",
       "4       auto.car      auto  ...                                  Да   \n",
       "\n",
       "  parameters_Пробег parameters_Наличие parameters_Двигатель  \\\n",
       "0               NaN                NaN                  NaN   \n",
       "1               NaN                NaN                  NaN   \n",
       "2         74 564 км                NaN                  NaN   \n",
       "3         74 564 км                NaN                  NaN   \n",
       "4         74 564 км                NaN                  NaN   \n",
       "\n",
       "                                   source_file new  add_date-desc price-asc  \\\n",
       "0  cars_add_date-desc_2025-02-18_10-36-47.json NaN            NaN       NaN   \n",
       "1  cars_add_date-desc_2025-02-18_10-36-47.json NaN            NaN       NaN   \n",
       "2  cars_add_date-desc_2025-02-18_10-36-47.json NaN            NaN       NaN   \n",
       "3  cars_add_date-desc_2025-02-18_10-36-47.json NaN            NaN       NaN   \n",
       "4  cars_add_date-desc_2025-02-18_10-36-47.json NaN            NaN       NaN   \n",
       "\n",
       "  year.price-desc.asc price-desc  \n",
       "0                 NaN        NaN  \n",
       "1                 NaN        NaN  \n",
       "2                 NaN        NaN  \n",
       "3                 NaN        NaN  \n",
       "4                 NaN        NaN  \n",
       "\n",
       "[5 rows x 43 columns]"
      ]
     },
     "execution_count": 874,
     "metadata": {},
     "output_type": "execute_result"
    }
   ],
   "source": [
    "df.head()"
   ]
  },
  {
   "cell_type": "code",
   "execution_count": 875,
   "id": "78911cb1-0a72-43a9-b359-869474a8383a",
   "metadata": {},
   "outputs": [],
   "source": [
    "cols = df.columns"
   ]
  },
  {
   "cell_type": "code",
   "execution_count": 876,
   "id": "c22f70ae-5c09-4ff7-8636-948cbf04500f",
   "metadata": {},
   "outputs": [
    {
     "name": "stdout",
     "output_type": "stream",
     "text": [
      "'name'\n",
      "'id'\n",
      "'publicationDate'\n",
      "'isCreditAvailable'\n",
      "'isNewAuto'\n",
      "'isTradeInAuto'\n",
      "'photoCount'\n",
      "'section'\n",
      "'categoryString'\n",
      "'category'\n",
      "'categoryId'\n",
      "'availability'\n",
      "'region'\n",
      "'city'\n",
      "'lastUpdate'\n",
      "'status'\n",
      "'unitPrice'\n",
      "'url'\n",
      "'appliedPaidServices'\n",
      "'video'\n",
      "'seller_userId'\n",
      "'seller_userTypeId'\n",
      "'attributes_model'\n",
      "'attributes_brand'\n",
      "'attributes_avgPrice'\n",
      "'parameters_Город'\n",
      "'parameters_Поколение'\n",
      "'parameters_Кузов'\n",
      "'parameters_Объем двигателя, л'\n",
      "'parameters_Коробка передач'\n",
      "'parameters_Привод'\n",
      "'parameters_Руль'\n",
      "'parameters_Цвет'\n",
      "'parameters_Растаможен в Казахстане'\n",
      "'parameters_Пробег'\n",
      "'parameters_Наличие'\n",
      "'parameters_Двигатель'\n",
      "'source_file'\n",
      "'new'\n",
      "'add_date-desc'\n",
      "'price-asc'\n",
      "'year.price-desc.asc'\n",
      "'price-desc'\n"
     ]
    }
   ],
   "source": [
    "for i in cols:\n",
    "    print('\\'' + i + '\\'')"
   ]
  },
  {
   "cell_type": "code",
   "execution_count": 877,
   "id": "08b86c88-8eb0-4635-8feb-daa6a9269428",
   "metadata": {},
   "outputs": [],
   "source": [
    "columns_to_drop = ['publicationDate', 'isTradeInAuto', 'photoCount', 'categoryString','category', 'lastUpdate', 'source_file', 'add_date-desc',\n",
    "                  'price-asc', 'year.price-desc.asc', 'price-desc', 'seller_userTypeId', 'seller_userId', 'video', 'appliedPaidServices', 'new',  'status',\n",
    "                  'availability','url', 'section', 'id', 'parameters_Город', 'parameters_Цвет', 'parameters_Наличие', 'parameters_Поколение',\n",
    "                  'city', 'region', 'categoryId', 'isCreditAvailable', 'attributes_avgPrice']"
   ]
  },
  {
   "cell_type": "code",
   "execution_count": 878,
   "id": "dfb50693-b50d-4116-82aa-45ff2a759388",
   "metadata": {},
   "outputs": [],
   "source": [
    "df_new = df.drop(columns=columns_to_drop, axis=1).copy()"
   ]
  },
  {
   "cell_type": "code",
   "execution_count": 879,
   "id": "9b78356a-03b3-471f-9374-a44edec3a36d",
   "metadata": {},
   "outputs": [
    {
     "name": "stdout",
     "output_type": "stream",
     "text": [
      "                                 name isNewAuto    unitPrice attributes_model  \\\n",
      "0         Mercedes-Benz S 500 2008 г.     False    8500000.0            S 500   \n",
      "1         Mercedes-Benz S 500 2008 г.     False    8500000.0            S 500   \n",
      "2             Chevrolet Spark 2022 г.     False    5050000.0            Spark   \n",
      "3             Chevrolet Spark 2022 г.     False    5050000.0            Spark   \n",
      "4             Chevrolet Spark 2022 г.     False    5050000.0            Spark   \n",
      "...                               ...       ...          ...              ...   \n",
      "84194  Mercedes-Benz G 63 AMG 2025 г.     False  154000000.0         G 63 AMG   \n",
      "84195  Mercedes-Benz G 63 AMG 2025 г.     False  154000000.0         G 63 AMG   \n",
      "84196  Mercedes-Benz G 63 AMG 2025 г.     False  212000000.0         G 63 AMG   \n",
      "84197  Mercedes-Benz G 63 AMG 2025 г.     False  212000000.0         G 63 AMG   \n",
      "84198                             NaN       NaN          NaN              NaN   \n",
      "\n",
      "      attributes_brand parameters_Кузов parameters_Объем двигателя, л  \\\n",
      "0        Mercedes-Benz            Седан                  5.5 (бензин)   \n",
      "1        Mercedes-Benz            Седан                  5.5 (бензин)   \n",
      "2            Chevrolet          Хэтчбек                  1.2 (бензин)   \n",
      "3            Chevrolet          Хэтчбек                  1.2 (бензин)   \n",
      "4            Chevrolet          Хэтчбек                  1.2 (бензин)   \n",
      "...                ...              ...                           ...   \n",
      "84194    Mercedes-Benz              NaN                           NaN   \n",
      "84195    Mercedes-Benz              NaN                           NaN   \n",
      "84196    Mercedes-Benz              NaN                           NaN   \n",
      "84197    Mercedes-Benz              NaN                           NaN   \n",
      "84198              NaN              NaN                           NaN   \n",
      "\n",
      "      parameters_Коробка передач parameters_Привод parameters_Руль  \\\n",
      "0                        Автомат     Задний привод           Слева   \n",
      "1                        Автомат     Задний привод           Слева   \n",
      "2                        Автомат   Передний привод           Слева   \n",
      "3                        Автомат   Передний привод           Слева   \n",
      "4                        Автомат   Передний привод           Слева   \n",
      "...                          ...               ...             ...   \n",
      "84194                        NaN               NaN             NaN   \n",
      "84195                        NaN               NaN             NaN   \n",
      "84196                        NaN               NaN             NaN   \n",
      "84197                        NaN               NaN             NaN   \n",
      "84198                        NaN               NaN             NaN   \n",
      "\n",
      "      parameters_Растаможен в Казахстане parameters_Пробег  \\\n",
      "0                                     Да               NaN   \n",
      "1                                     Да               NaN   \n",
      "2                                     Да         74 564 км   \n",
      "3                                     Да         74 564 км   \n",
      "4                                     Да         74 564 км   \n",
      "...                                  ...               ...   \n",
      "84194                                NaN               NaN   \n",
      "84195                                NaN               NaN   \n",
      "84196                                NaN               NaN   \n",
      "84197                                NaN               NaN   \n",
      "84198                                NaN               NaN   \n",
      "\n",
      "      parameters_Двигатель  \n",
      "0                      NaN  \n",
      "1                      NaN  \n",
      "2                      NaN  \n",
      "3                      NaN  \n",
      "4                      NaN  \n",
      "...                    ...  \n",
      "84194                  NaN  \n",
      "84195                  NaN  \n",
      "84196                  NaN  \n",
      "84197                  NaN  \n",
      "84198                  NaN  \n",
      "\n",
      "[84199 rows x 13 columns]\n"
     ]
    }
   ],
   "source": [
    "\n",
    "\n",
    "print(df_new)"
   ]
  },
  {
   "cell_type": "code",
   "execution_count": 880,
   "id": "72587206-72c5-46a9-acb7-1e0a42c276da",
   "metadata": {
    "scrolled": true
   },
   "outputs": [
    {
     "data": {
      "text/html": [
       "<div>\n",
       "<style scoped>\n",
       "    .dataframe tbody tr th:only-of-type {\n",
       "        vertical-align: middle;\n",
       "    }\n",
       "\n",
       "    .dataframe tbody tr th {\n",
       "        vertical-align: top;\n",
       "    }\n",
       "\n",
       "    .dataframe thead th {\n",
       "        text-align: right;\n",
       "    }\n",
       "</style>\n",
       "<table border=\"1\" class=\"dataframe\">\n",
       "  <thead>\n",
       "    <tr style=\"text-align: right;\">\n",
       "      <th></th>\n",
       "      <th>name</th>\n",
       "      <th>isNewAuto</th>\n",
       "      <th>unitPrice</th>\n",
       "      <th>attributes_model</th>\n",
       "      <th>attributes_brand</th>\n",
       "      <th>parameters_Кузов</th>\n",
       "      <th>parameters_Объем двигателя, л</th>\n",
       "      <th>parameters_Коробка передач</th>\n",
       "      <th>parameters_Привод</th>\n",
       "      <th>parameters_Руль</th>\n",
       "      <th>parameters_Растаможен в Казахстане</th>\n",
       "      <th>parameters_Пробег</th>\n",
       "      <th>parameters_Двигатель</th>\n",
       "    </tr>\n",
       "  </thead>\n",
       "  <tbody>\n",
       "    <tr>\n",
       "      <th>0</th>\n",
       "      <td>Mercedes-Benz S 500 2008 г.</td>\n",
       "      <td>False</td>\n",
       "      <td>8500000.0</td>\n",
       "      <td>S 500</td>\n",
       "      <td>Mercedes-Benz</td>\n",
       "      <td>Седан</td>\n",
       "      <td>5.5 (бензин)</td>\n",
       "      <td>Автомат</td>\n",
       "      <td>Задний привод</td>\n",
       "      <td>Слева</td>\n",
       "      <td>Да</td>\n",
       "      <td>NaN</td>\n",
       "      <td>NaN</td>\n",
       "    </tr>\n",
       "    <tr>\n",
       "      <th>1</th>\n",
       "      <td>Mercedes-Benz S 500 2008 г.</td>\n",
       "      <td>False</td>\n",
       "      <td>8500000.0</td>\n",
       "      <td>S 500</td>\n",
       "      <td>Mercedes-Benz</td>\n",
       "      <td>Седан</td>\n",
       "      <td>5.5 (бензин)</td>\n",
       "      <td>Автомат</td>\n",
       "      <td>Задний привод</td>\n",
       "      <td>Слева</td>\n",
       "      <td>Да</td>\n",
       "      <td>NaN</td>\n",
       "      <td>NaN</td>\n",
       "    </tr>\n",
       "    <tr>\n",
       "      <th>2</th>\n",
       "      <td>Chevrolet Spark 2022 г.</td>\n",
       "      <td>False</td>\n",
       "      <td>5050000.0</td>\n",
       "      <td>Spark</td>\n",
       "      <td>Chevrolet</td>\n",
       "      <td>Хэтчбек</td>\n",
       "      <td>1.2 (бензин)</td>\n",
       "      <td>Автомат</td>\n",
       "      <td>Передний привод</td>\n",
       "      <td>Слева</td>\n",
       "      <td>Да</td>\n",
       "      <td>74 564 км</td>\n",
       "      <td>NaN</td>\n",
       "    </tr>\n",
       "    <tr>\n",
       "      <th>3</th>\n",
       "      <td>Chevrolet Spark 2022 г.</td>\n",
       "      <td>False</td>\n",
       "      <td>5050000.0</td>\n",
       "      <td>Spark</td>\n",
       "      <td>Chevrolet</td>\n",
       "      <td>Хэтчбек</td>\n",
       "      <td>1.2 (бензин)</td>\n",
       "      <td>Автомат</td>\n",
       "      <td>Передний привод</td>\n",
       "      <td>Слева</td>\n",
       "      <td>Да</td>\n",
       "      <td>74 564 км</td>\n",
       "      <td>NaN</td>\n",
       "    </tr>\n",
       "    <tr>\n",
       "      <th>4</th>\n",
       "      <td>Chevrolet Spark 2022 г.</td>\n",
       "      <td>False</td>\n",
       "      <td>5050000.0</td>\n",
       "      <td>Spark</td>\n",
       "      <td>Chevrolet</td>\n",
       "      <td>Хэтчбек</td>\n",
       "      <td>1.2 (бензин)</td>\n",
       "      <td>Автомат</td>\n",
       "      <td>Передний привод</td>\n",
       "      <td>Слева</td>\n",
       "      <td>Да</td>\n",
       "      <td>74 564 км</td>\n",
       "      <td>NaN</td>\n",
       "    </tr>\n",
       "  </tbody>\n",
       "</table>\n",
       "</div>"
      ],
      "text/plain": [
       "                          name isNewAuto  unitPrice attributes_model  \\\n",
       "0  Mercedes-Benz S 500 2008 г.     False  8500000.0            S 500   \n",
       "1  Mercedes-Benz S 500 2008 г.     False  8500000.0            S 500   \n",
       "2      Chevrolet Spark 2022 г.     False  5050000.0            Spark   \n",
       "3      Chevrolet Spark 2022 г.     False  5050000.0            Spark   \n",
       "4      Chevrolet Spark 2022 г.     False  5050000.0            Spark   \n",
       "\n",
       "  attributes_brand parameters_Кузов parameters_Объем двигателя, л  \\\n",
       "0    Mercedes-Benz            Седан                  5.5 (бензин)   \n",
       "1    Mercedes-Benz            Седан                  5.5 (бензин)   \n",
       "2        Chevrolet          Хэтчбек                  1.2 (бензин)   \n",
       "3        Chevrolet          Хэтчбек                  1.2 (бензин)   \n",
       "4        Chevrolet          Хэтчбек                  1.2 (бензин)   \n",
       "\n",
       "  parameters_Коробка передач parameters_Привод parameters_Руль  \\\n",
       "0                    Автомат     Задний привод           Слева   \n",
       "1                    Автомат     Задний привод           Слева   \n",
       "2                    Автомат   Передний привод           Слева   \n",
       "3                    Автомат   Передний привод           Слева   \n",
       "4                    Автомат   Передний привод           Слева   \n",
       "\n",
       "  parameters_Растаможен в Казахстане parameters_Пробег parameters_Двигатель  \n",
       "0                                 Да               NaN                  NaN  \n",
       "1                                 Да               NaN                  NaN  \n",
       "2                                 Да         74 564 км                  NaN  \n",
       "3                                 Да         74 564 км                  NaN  \n",
       "4                                 Да         74 564 км                  NaN  "
      ]
     },
     "execution_count": 880,
     "metadata": {},
     "output_type": "execute_result"
    }
   ],
   "source": [
    "df_new.head()"
   ]
  },
  {
   "cell_type": "code",
   "execution_count": 881,
   "id": "8f25e7c5-c1aa-4668-88e9-49bd69d20be6",
   "metadata": {},
   "outputs": [
    {
     "data": {
      "text/plain": [
       "Index(['name', 'isNewAuto', 'unitPrice', 'attributes_model',\n",
       "       'attributes_brand', 'parameters_Кузов', 'parameters_Объем двигателя, л',\n",
       "       'parameters_Коробка передач', 'parameters_Привод', 'parameters_Руль',\n",
       "       'parameters_Растаможен в Казахстане', 'parameters_Пробег',\n",
       "       'parameters_Двигатель'],\n",
       "      dtype='object')"
      ]
     },
     "execution_count": 881,
     "metadata": {},
     "output_type": "execute_result"
    }
   ],
   "source": [
    "df_new.columns"
   ]
  },
  {
   "cell_type": "code",
   "execution_count": 882,
   "id": "3d2a583a-a875-427f-a055-f3d605497092",
   "metadata": {},
   "outputs": [],
   "source": [
    "df_new.drop_duplicates(inplace=True)"
   ]
  },
  {
   "cell_type": "code",
   "execution_count": 883,
   "id": "41f4a360-65b3-43c1-82bc-e8f05dd2f47a",
   "metadata": {},
   "outputs": [
    {
     "data": {
      "text/html": [
       "<div>\n",
       "<style scoped>\n",
       "    .dataframe tbody tr th:only-of-type {\n",
       "        vertical-align: middle;\n",
       "    }\n",
       "\n",
       "    .dataframe tbody tr th {\n",
       "        vertical-align: top;\n",
       "    }\n",
       "\n",
       "    .dataframe thead th {\n",
       "        text-align: right;\n",
       "    }\n",
       "</style>\n",
       "<table border=\"1\" class=\"dataframe\">\n",
       "  <thead>\n",
       "    <tr style=\"text-align: right;\">\n",
       "      <th></th>\n",
       "      <th>name</th>\n",
       "      <th>isNewAuto</th>\n",
       "      <th>unitPrice</th>\n",
       "      <th>attributes_model</th>\n",
       "      <th>attributes_brand</th>\n",
       "      <th>parameters_Кузов</th>\n",
       "      <th>parameters_Объем двигателя, л</th>\n",
       "      <th>parameters_Коробка передач</th>\n",
       "      <th>parameters_Привод</th>\n",
       "      <th>parameters_Руль</th>\n",
       "      <th>parameters_Растаможен в Казахстане</th>\n",
       "      <th>parameters_Пробег</th>\n",
       "      <th>parameters_Двигатель</th>\n",
       "    </tr>\n",
       "  </thead>\n",
       "  <tbody>\n",
       "    <tr>\n",
       "      <th>0</th>\n",
       "      <td>Mercedes-Benz S 500 2008 г.</td>\n",
       "      <td>False</td>\n",
       "      <td>8500000.0</td>\n",
       "      <td>S 500</td>\n",
       "      <td>Mercedes-Benz</td>\n",
       "      <td>Седан</td>\n",
       "      <td>5.5 (бензин)</td>\n",
       "      <td>Автомат</td>\n",
       "      <td>Задний привод</td>\n",
       "      <td>Слева</td>\n",
       "      <td>Да</td>\n",
       "      <td>NaN</td>\n",
       "      <td>NaN</td>\n",
       "    </tr>\n",
       "    <tr>\n",
       "      <th>2</th>\n",
       "      <td>Chevrolet Spark 2022 г.</td>\n",
       "      <td>False</td>\n",
       "      <td>5050000.0</td>\n",
       "      <td>Spark</td>\n",
       "      <td>Chevrolet</td>\n",
       "      <td>Хэтчбек</td>\n",
       "      <td>1.2 (бензин)</td>\n",
       "      <td>Автомат</td>\n",
       "      <td>Передний привод</td>\n",
       "      <td>Слева</td>\n",
       "      <td>Да</td>\n",
       "      <td>74 564 км</td>\n",
       "      <td>NaN</td>\n",
       "    </tr>\n",
       "    <tr>\n",
       "      <th>8</th>\n",
       "      <td>Toyota Alphard 2004 г.</td>\n",
       "      <td>False</td>\n",
       "      <td>7300000.0</td>\n",
       "      <td>Alphard</td>\n",
       "      <td>Toyota</td>\n",
       "      <td>Минивэн</td>\n",
       "      <td>2.4 (бензин)</td>\n",
       "      <td>Автомат</td>\n",
       "      <td>Передний привод</td>\n",
       "      <td>Слева</td>\n",
       "      <td>Да</td>\n",
       "      <td>230 000 км</td>\n",
       "      <td>NaN</td>\n",
       "    </tr>\n",
       "    <tr>\n",
       "      <th>10</th>\n",
       "      <td>BMW 520 1992 г.</td>\n",
       "      <td>False</td>\n",
       "      <td>1450000.0</td>\n",
       "      <td>520</td>\n",
       "      <td>BMW</td>\n",
       "      <td>Седан</td>\n",
       "      <td>2 (бензин)</td>\n",
       "      <td>Механика</td>\n",
       "      <td>Задний привод</td>\n",
       "      <td>Слева</td>\n",
       "      <td>Да</td>\n",
       "      <td>NaN</td>\n",
       "      <td>NaN</td>\n",
       "    </tr>\n",
       "    <tr>\n",
       "      <th>12</th>\n",
       "      <td>ВАЗ (Lada) Vesta SW Enjoy 2024 г.</td>\n",
       "      <td>True</td>\n",
       "      <td>8790000.0</td>\n",
       "      <td>Vesta SW</td>\n",
       "      <td>ВАЗ (Lada)</td>\n",
       "      <td>Универсал</td>\n",
       "      <td>1.8 (бензин)</td>\n",
       "      <td>Автомат</td>\n",
       "      <td>Передний привод</td>\n",
       "      <td>Слева</td>\n",
       "      <td>Да</td>\n",
       "      <td>NaN</td>\n",
       "      <td>NaN</td>\n",
       "    </tr>\n",
       "    <tr>\n",
       "      <th>...</th>\n",
       "      <td>...</td>\n",
       "      <td>...</td>\n",
       "      <td>...</td>\n",
       "      <td>...</td>\n",
       "      <td>...</td>\n",
       "      <td>...</td>\n",
       "      <td>...</td>\n",
       "      <td>...</td>\n",
       "      <td>...</td>\n",
       "      <td>...</td>\n",
       "      <td>...</td>\n",
       "      <td>...</td>\n",
       "      <td>...</td>\n",
       "    </tr>\n",
       "    <tr>\n",
       "      <th>84144</th>\n",
       "      <td>Toyota Corolla 2008 г.</td>\n",
       "      <td>False</td>\n",
       "      <td>4800000.0</td>\n",
       "      <td>Corolla</td>\n",
       "      <td>Toyota</td>\n",
       "      <td>NaN</td>\n",
       "      <td>NaN</td>\n",
       "      <td>NaN</td>\n",
       "      <td>NaN</td>\n",
       "      <td>NaN</td>\n",
       "      <td>NaN</td>\n",
       "      <td>NaN</td>\n",
       "      <td>NaN</td>\n",
       "    </tr>\n",
       "    <tr>\n",
       "      <th>84150</th>\n",
       "      <td>ВАЗ (Lada) Granta 2190 2017 г.</td>\n",
       "      <td>False</td>\n",
       "      <td>3700000.0</td>\n",
       "      <td>Granta 2190 (седан)</td>\n",
       "      <td>ВАЗ (Lada)</td>\n",
       "      <td>NaN</td>\n",
       "      <td>NaN</td>\n",
       "      <td>NaN</td>\n",
       "      <td>NaN</td>\n",
       "      <td>NaN</td>\n",
       "      <td>NaN</td>\n",
       "      <td>NaN</td>\n",
       "      <td>NaN</td>\n",
       "    </tr>\n",
       "    <tr>\n",
       "      <th>84166</th>\n",
       "      <td>Kia Cerato 2021 г.</td>\n",
       "      <td>False</td>\n",
       "      <td>10430000.0</td>\n",
       "      <td>Cerato</td>\n",
       "      <td>Kia</td>\n",
       "      <td>NaN</td>\n",
       "      <td>NaN</td>\n",
       "      <td>NaN</td>\n",
       "      <td>NaN</td>\n",
       "      <td>NaN</td>\n",
       "      <td>NaN</td>\n",
       "      <td>NaN</td>\n",
       "      <td>NaN</td>\n",
       "    </tr>\n",
       "    <tr>\n",
       "      <th>84180</th>\n",
       "      <td>Chevrolet Tracker 2023 г.</td>\n",
       "      <td>False</td>\n",
       "      <td>7690000.0</td>\n",
       "      <td>Tracker</td>\n",
       "      <td>Chevrolet</td>\n",
       "      <td>NaN</td>\n",
       "      <td>NaN</td>\n",
       "      <td>NaN</td>\n",
       "      <td>NaN</td>\n",
       "      <td>NaN</td>\n",
       "      <td>NaN</td>\n",
       "      <td>NaN</td>\n",
       "      <td>NaN</td>\n",
       "    </tr>\n",
       "    <tr>\n",
       "      <th>84198</th>\n",
       "      <td>NaN</td>\n",
       "      <td>NaN</td>\n",
       "      <td>NaN</td>\n",
       "      <td>NaN</td>\n",
       "      <td>NaN</td>\n",
       "      <td>NaN</td>\n",
       "      <td>NaN</td>\n",
       "      <td>NaN</td>\n",
       "      <td>NaN</td>\n",
       "      <td>NaN</td>\n",
       "      <td>NaN</td>\n",
       "      <td>NaN</td>\n",
       "      <td>NaN</td>\n",
       "    </tr>\n",
       "  </tbody>\n",
       "</table>\n",
       "<p>12677 rows × 13 columns</p>\n",
       "</div>"
      ],
      "text/plain": [
       "                                    name isNewAuto   unitPrice  \\\n",
       "0            Mercedes-Benz S 500 2008 г.     False   8500000.0   \n",
       "2                Chevrolet Spark 2022 г.     False   5050000.0   \n",
       "8                 Toyota Alphard 2004 г.     False   7300000.0   \n",
       "10                       BMW 520 1992 г.     False   1450000.0   \n",
       "12     ВАЗ (Lada) Vesta SW Enjoy 2024 г.      True   8790000.0   \n",
       "...                                  ...       ...         ...   \n",
       "84144             Toyota Corolla 2008 г.     False   4800000.0   \n",
       "84150     ВАЗ (Lada) Granta 2190 2017 г.     False   3700000.0   \n",
       "84166                 Kia Cerato 2021 г.     False  10430000.0   \n",
       "84180          Chevrolet Tracker 2023 г.     False   7690000.0   \n",
       "84198                                NaN       NaN         NaN   \n",
       "\n",
       "          attributes_model attributes_brand parameters_Кузов  \\\n",
       "0                    S 500    Mercedes-Benz            Седан   \n",
       "2                    Spark        Chevrolet          Хэтчбек   \n",
       "8                  Alphard           Toyota          Минивэн   \n",
       "10                     520              BMW            Седан   \n",
       "12                Vesta SW       ВАЗ (Lada)        Универсал   \n",
       "...                    ...              ...              ...   \n",
       "84144              Corolla           Toyota              NaN   \n",
       "84150  Granta 2190 (седан)       ВАЗ (Lada)              NaN   \n",
       "84166               Cerato              Kia              NaN   \n",
       "84180              Tracker        Chevrolet              NaN   \n",
       "84198                  NaN              NaN              NaN   \n",
       "\n",
       "      parameters_Объем двигателя, л parameters_Коробка передач  \\\n",
       "0                      5.5 (бензин)                    Автомат   \n",
       "2                      1.2 (бензин)                    Автомат   \n",
       "8                      2.4 (бензин)                    Автомат   \n",
       "10                       2 (бензин)                   Механика   \n",
       "12                     1.8 (бензин)                    Автомат   \n",
       "...                             ...                        ...   \n",
       "84144                           NaN                        NaN   \n",
       "84150                           NaN                        NaN   \n",
       "84166                           NaN                        NaN   \n",
       "84180                           NaN                        NaN   \n",
       "84198                           NaN                        NaN   \n",
       "\n",
       "      parameters_Привод parameters_Руль parameters_Растаможен в Казахстане  \\\n",
       "0         Задний привод           Слева                                 Да   \n",
       "2       Передний привод           Слева                                 Да   \n",
       "8       Передний привод           Слева                                 Да   \n",
       "10        Задний привод           Слева                                 Да   \n",
       "12      Передний привод           Слева                                 Да   \n",
       "...                 ...             ...                                ...   \n",
       "84144               NaN             NaN                                NaN   \n",
       "84150               NaN             NaN                                NaN   \n",
       "84166               NaN             NaN                                NaN   \n",
       "84180               NaN             NaN                                NaN   \n",
       "84198               NaN             NaN                                NaN   \n",
       "\n",
       "      parameters_Пробег parameters_Двигатель  \n",
       "0                   NaN                  NaN  \n",
       "2             74 564 км                  NaN  \n",
       "8            230 000 км                  NaN  \n",
       "10                  NaN                  NaN  \n",
       "12                  NaN                  NaN  \n",
       "...                 ...                  ...  \n",
       "84144               NaN                  NaN  \n",
       "84150               NaN                  NaN  \n",
       "84166               NaN                  NaN  \n",
       "84180               NaN                  NaN  \n",
       "84198               NaN                  NaN  \n",
       "\n",
       "[12677 rows x 13 columns]"
      ]
     },
     "execution_count": 883,
     "metadata": {},
     "output_type": "execute_result"
    }
   ],
   "source": [
    "df_new"
   ]
  },
  {
   "cell_type": "code",
   "execution_count": 884,
   "id": "42a029f3-b084-41a5-b60d-ee7994d5904e",
   "metadata": {},
   "outputs": [],
   "source": [
    "pattern = r\"\\b(19|20)\\d{2}\\b\""
   ]
  },
  {
   "cell_type": "code",
   "execution_count": 885,
   "id": "48f94573-cfa0-43b2-a236-3d195497fb9a",
   "metadata": {},
   "outputs": [
    {
     "name": "stdout",
     "output_type": "stream",
     "text": [
      "                            name isNewAuto   unitPrice     attributes_model  \\\n",
      "0            Mercedes-Benz S 500     False   8500000.0                S 500   \n",
      "2                Chevrolet Spark     False   5050000.0                Spark   \n",
      "8                 Toyota Alphard     False   7300000.0              Alphard   \n",
      "10                       BMW 520     False   1450000.0                  520   \n",
      "12     ВАЗ (Lada) Vesta SW Enjoy      True   8790000.0             Vesta SW   \n",
      "...                          ...       ...         ...                  ...   \n",
      "84144             Toyota Corolla     False   4800000.0              Corolla   \n",
      "84150     ВАЗ (Lada) Granta 2190     False   3700000.0  Granta 2190 (седан)   \n",
      "84166                 Kia Cerato     False  10430000.0               Cerato   \n",
      "84180          Chevrolet Tracker     False   7690000.0              Tracker   \n",
      "84198                        NaN       NaN         NaN                  NaN   \n",
      "\n",
      "      attributes_brand parameters_Кузов parameters_Объем двигателя, л  \\\n",
      "0        Mercedes-Benz            Седан                  5.5 (бензин)   \n",
      "2            Chevrolet          Хэтчбек                  1.2 (бензин)   \n",
      "8               Toyota          Минивэн                  2.4 (бензин)   \n",
      "10                 BMW            Седан                    2 (бензин)   \n",
      "12          ВАЗ (Lada)        Универсал                  1.8 (бензин)   \n",
      "...                ...              ...                           ...   \n",
      "84144           Toyota              NaN                           NaN   \n",
      "84150       ВАЗ (Lada)              NaN                           NaN   \n",
      "84166              Kia              NaN                           NaN   \n",
      "84180        Chevrolet              NaN                           NaN   \n",
      "84198              NaN              NaN                           NaN   \n",
      "\n",
      "      parameters_Коробка передач parameters_Привод parameters_Руль  \\\n",
      "0                        Автомат     Задний привод           Слева   \n",
      "2                        Автомат   Передний привод           Слева   \n",
      "8                        Автомат   Передний привод           Слева   \n",
      "10                      Механика     Задний привод           Слева   \n",
      "12                       Автомат   Передний привод           Слева   \n",
      "...                          ...               ...             ...   \n",
      "84144                        NaN               NaN             NaN   \n",
      "84150                        NaN               NaN             NaN   \n",
      "84166                        NaN               NaN             NaN   \n",
      "84180                        NaN               NaN             NaN   \n",
      "84198                        NaN               NaN             NaN   \n",
      "\n",
      "      parameters_Растаможен в Казахстане parameters_Пробег  \\\n",
      "0                                     Да               NaN   \n",
      "2                                     Да         74 564 км   \n",
      "8                                     Да        230 000 км   \n",
      "10                                    Да               NaN   \n",
      "12                                    Да               NaN   \n",
      "...                                  ...               ...   \n",
      "84144                                NaN               NaN   \n",
      "84150                                NaN               NaN   \n",
      "84166                                NaN               NaN   \n",
      "84180                                NaN               NaN   \n",
      "84198                                NaN               NaN   \n",
      "\n",
      "      parameters_Двигатель  year  \n",
      "0                      NaN  2008  \n",
      "2                      NaN  2022  \n",
      "8                      NaN  2004  \n",
      "10                     NaN  1992  \n",
      "12                     NaN  2024  \n",
      "...                    ...   ...  \n",
      "84144                  NaN  2008  \n",
      "84150                  NaN  2017  \n",
      "84166                  NaN  2021  \n",
      "84180                  NaN  2023  \n",
      "84198                  NaN  <NA>  \n",
      "\n",
      "[12677 rows x 14 columns]\n"
     ]
    }
   ],
   "source": [
    "df_new[\"year\"] = pd.to_numeric(df_new[\"name\"].fillna(\"\").str.extract(f\"({pattern})\")[0], errors=\"coerce\").astype(\"Int64\")\n",
    "df_new[\"name\"] = df_new[\"name\"].str.replace(r\"\\s\\d{4}\\s*г?\\.\", \"\", regex=True)\n",
    "print(df_new)"
   ]
  },
  {
   "cell_type": "code",
   "execution_count": 886,
   "id": "4927d231-5685-4e3e-9a35-33fb56fe14ed",
   "metadata": {
    "scrolled": true
   },
   "outputs": [
    {
     "data": {
      "text/html": [
       "<div>\n",
       "<style scoped>\n",
       "    .dataframe tbody tr th:only-of-type {\n",
       "        vertical-align: middle;\n",
       "    }\n",
       "\n",
       "    .dataframe tbody tr th {\n",
       "        vertical-align: top;\n",
       "    }\n",
       "\n",
       "    .dataframe thead th {\n",
       "        text-align: right;\n",
       "    }\n",
       "</style>\n",
       "<table border=\"1\" class=\"dataframe\">\n",
       "  <thead>\n",
       "    <tr style=\"text-align: right;\">\n",
       "      <th></th>\n",
       "      <th>name</th>\n",
       "      <th>isNewAuto</th>\n",
       "      <th>unitPrice</th>\n",
       "      <th>attributes_model</th>\n",
       "      <th>attributes_brand</th>\n",
       "      <th>parameters_Кузов</th>\n",
       "      <th>parameters_Объем двигателя, л</th>\n",
       "      <th>parameters_Коробка передач</th>\n",
       "      <th>parameters_Привод</th>\n",
       "      <th>parameters_Руль</th>\n",
       "      <th>parameters_Растаможен в Казахстане</th>\n",
       "      <th>parameters_Пробег</th>\n",
       "      <th>parameters_Двигатель</th>\n",
       "      <th>year</th>\n",
       "    </tr>\n",
       "  </thead>\n",
       "  <tbody>\n",
       "    <tr>\n",
       "      <th>0</th>\n",
       "      <td>Mercedes-Benz S 500</td>\n",
       "      <td>False</td>\n",
       "      <td>8500000.0</td>\n",
       "      <td>S 500</td>\n",
       "      <td>Mercedes-Benz</td>\n",
       "      <td>Седан</td>\n",
       "      <td>5.5 (бензин)</td>\n",
       "      <td>Автомат</td>\n",
       "      <td>Задний привод</td>\n",
       "      <td>Слева</td>\n",
       "      <td>Да</td>\n",
       "      <td>NaN</td>\n",
       "      <td>NaN</td>\n",
       "      <td>2008</td>\n",
       "    </tr>\n",
       "    <tr>\n",
       "      <th>2</th>\n",
       "      <td>Chevrolet Spark</td>\n",
       "      <td>False</td>\n",
       "      <td>5050000.0</td>\n",
       "      <td>Spark</td>\n",
       "      <td>Chevrolet</td>\n",
       "      <td>Хэтчбек</td>\n",
       "      <td>1.2 (бензин)</td>\n",
       "      <td>Автомат</td>\n",
       "      <td>Передний привод</td>\n",
       "      <td>Слева</td>\n",
       "      <td>Да</td>\n",
       "      <td>74 564 км</td>\n",
       "      <td>NaN</td>\n",
       "      <td>2022</td>\n",
       "    </tr>\n",
       "    <tr>\n",
       "      <th>8</th>\n",
       "      <td>Toyota Alphard</td>\n",
       "      <td>False</td>\n",
       "      <td>7300000.0</td>\n",
       "      <td>Alphard</td>\n",
       "      <td>Toyota</td>\n",
       "      <td>Минивэн</td>\n",
       "      <td>2.4 (бензин)</td>\n",
       "      <td>Автомат</td>\n",
       "      <td>Передний привод</td>\n",
       "      <td>Слева</td>\n",
       "      <td>Да</td>\n",
       "      <td>230 000 км</td>\n",
       "      <td>NaN</td>\n",
       "      <td>2004</td>\n",
       "    </tr>\n",
       "    <tr>\n",
       "      <th>10</th>\n",
       "      <td>BMW 520</td>\n",
       "      <td>False</td>\n",
       "      <td>1450000.0</td>\n",
       "      <td>520</td>\n",
       "      <td>BMW</td>\n",
       "      <td>Седан</td>\n",
       "      <td>2 (бензин)</td>\n",
       "      <td>Механика</td>\n",
       "      <td>Задний привод</td>\n",
       "      <td>Слева</td>\n",
       "      <td>Да</td>\n",
       "      <td>NaN</td>\n",
       "      <td>NaN</td>\n",
       "      <td>1992</td>\n",
       "    </tr>\n",
       "    <tr>\n",
       "      <th>12</th>\n",
       "      <td>ВАЗ (Lada) Vesta SW Enjoy</td>\n",
       "      <td>True</td>\n",
       "      <td>8790000.0</td>\n",
       "      <td>Vesta SW</td>\n",
       "      <td>ВАЗ (Lada)</td>\n",
       "      <td>Универсал</td>\n",
       "      <td>1.8 (бензин)</td>\n",
       "      <td>Автомат</td>\n",
       "      <td>Передний привод</td>\n",
       "      <td>Слева</td>\n",
       "      <td>Да</td>\n",
       "      <td>NaN</td>\n",
       "      <td>NaN</td>\n",
       "      <td>2024</td>\n",
       "    </tr>\n",
       "    <tr>\n",
       "      <th>...</th>\n",
       "      <td>...</td>\n",
       "      <td>...</td>\n",
       "      <td>...</td>\n",
       "      <td>...</td>\n",
       "      <td>...</td>\n",
       "      <td>...</td>\n",
       "      <td>...</td>\n",
       "      <td>...</td>\n",
       "      <td>...</td>\n",
       "      <td>...</td>\n",
       "      <td>...</td>\n",
       "      <td>...</td>\n",
       "      <td>...</td>\n",
       "      <td>...</td>\n",
       "    </tr>\n",
       "    <tr>\n",
       "      <th>84144</th>\n",
       "      <td>Toyota Corolla</td>\n",
       "      <td>False</td>\n",
       "      <td>4800000.0</td>\n",
       "      <td>Corolla</td>\n",
       "      <td>Toyota</td>\n",
       "      <td>NaN</td>\n",
       "      <td>NaN</td>\n",
       "      <td>NaN</td>\n",
       "      <td>NaN</td>\n",
       "      <td>NaN</td>\n",
       "      <td>NaN</td>\n",
       "      <td>NaN</td>\n",
       "      <td>NaN</td>\n",
       "      <td>2008</td>\n",
       "    </tr>\n",
       "    <tr>\n",
       "      <th>84150</th>\n",
       "      <td>ВАЗ (Lada) Granta 2190</td>\n",
       "      <td>False</td>\n",
       "      <td>3700000.0</td>\n",
       "      <td>Granta 2190 (седан)</td>\n",
       "      <td>ВАЗ (Lada)</td>\n",
       "      <td>NaN</td>\n",
       "      <td>NaN</td>\n",
       "      <td>NaN</td>\n",
       "      <td>NaN</td>\n",
       "      <td>NaN</td>\n",
       "      <td>NaN</td>\n",
       "      <td>NaN</td>\n",
       "      <td>NaN</td>\n",
       "      <td>2017</td>\n",
       "    </tr>\n",
       "    <tr>\n",
       "      <th>84166</th>\n",
       "      <td>Kia Cerato</td>\n",
       "      <td>False</td>\n",
       "      <td>10430000.0</td>\n",
       "      <td>Cerato</td>\n",
       "      <td>Kia</td>\n",
       "      <td>NaN</td>\n",
       "      <td>NaN</td>\n",
       "      <td>NaN</td>\n",
       "      <td>NaN</td>\n",
       "      <td>NaN</td>\n",
       "      <td>NaN</td>\n",
       "      <td>NaN</td>\n",
       "      <td>NaN</td>\n",
       "      <td>2021</td>\n",
       "    </tr>\n",
       "    <tr>\n",
       "      <th>84180</th>\n",
       "      <td>Chevrolet Tracker</td>\n",
       "      <td>False</td>\n",
       "      <td>7690000.0</td>\n",
       "      <td>Tracker</td>\n",
       "      <td>Chevrolet</td>\n",
       "      <td>NaN</td>\n",
       "      <td>NaN</td>\n",
       "      <td>NaN</td>\n",
       "      <td>NaN</td>\n",
       "      <td>NaN</td>\n",
       "      <td>NaN</td>\n",
       "      <td>NaN</td>\n",
       "      <td>NaN</td>\n",
       "      <td>2023</td>\n",
       "    </tr>\n",
       "    <tr>\n",
       "      <th>84198</th>\n",
       "      <td>NaN</td>\n",
       "      <td>NaN</td>\n",
       "      <td>NaN</td>\n",
       "      <td>NaN</td>\n",
       "      <td>NaN</td>\n",
       "      <td>NaN</td>\n",
       "      <td>NaN</td>\n",
       "      <td>NaN</td>\n",
       "      <td>NaN</td>\n",
       "      <td>NaN</td>\n",
       "      <td>NaN</td>\n",
       "      <td>NaN</td>\n",
       "      <td>NaN</td>\n",
       "      <td>&lt;NA&gt;</td>\n",
       "    </tr>\n",
       "  </tbody>\n",
       "</table>\n",
       "<p>12677 rows × 14 columns</p>\n",
       "</div>"
      ],
      "text/plain": [
       "                            name isNewAuto   unitPrice     attributes_model  \\\n",
       "0            Mercedes-Benz S 500     False   8500000.0                S 500   \n",
       "2                Chevrolet Spark     False   5050000.0                Spark   \n",
       "8                 Toyota Alphard     False   7300000.0              Alphard   \n",
       "10                       BMW 520     False   1450000.0                  520   \n",
       "12     ВАЗ (Lada) Vesta SW Enjoy      True   8790000.0             Vesta SW   \n",
       "...                          ...       ...         ...                  ...   \n",
       "84144             Toyota Corolla     False   4800000.0              Corolla   \n",
       "84150     ВАЗ (Lada) Granta 2190     False   3700000.0  Granta 2190 (седан)   \n",
       "84166                 Kia Cerato     False  10430000.0               Cerato   \n",
       "84180          Chevrolet Tracker     False   7690000.0              Tracker   \n",
       "84198                        NaN       NaN         NaN                  NaN   \n",
       "\n",
       "      attributes_brand parameters_Кузов parameters_Объем двигателя, л  \\\n",
       "0        Mercedes-Benz            Седан                  5.5 (бензин)   \n",
       "2            Chevrolet          Хэтчбек                  1.2 (бензин)   \n",
       "8               Toyota          Минивэн                  2.4 (бензин)   \n",
       "10                 BMW            Седан                    2 (бензин)   \n",
       "12          ВАЗ (Lada)        Универсал                  1.8 (бензин)   \n",
       "...                ...              ...                           ...   \n",
       "84144           Toyota              NaN                           NaN   \n",
       "84150       ВАЗ (Lada)              NaN                           NaN   \n",
       "84166              Kia              NaN                           NaN   \n",
       "84180        Chevrolet              NaN                           NaN   \n",
       "84198              NaN              NaN                           NaN   \n",
       "\n",
       "      parameters_Коробка передач parameters_Привод parameters_Руль  \\\n",
       "0                        Автомат     Задний привод           Слева   \n",
       "2                        Автомат   Передний привод           Слева   \n",
       "8                        Автомат   Передний привод           Слева   \n",
       "10                      Механика     Задний привод           Слева   \n",
       "12                       Автомат   Передний привод           Слева   \n",
       "...                          ...               ...             ...   \n",
       "84144                        NaN               NaN             NaN   \n",
       "84150                        NaN               NaN             NaN   \n",
       "84166                        NaN               NaN             NaN   \n",
       "84180                        NaN               NaN             NaN   \n",
       "84198                        NaN               NaN             NaN   \n",
       "\n",
       "      parameters_Растаможен в Казахстане parameters_Пробег  \\\n",
       "0                                     Да               NaN   \n",
       "2                                     Да         74 564 км   \n",
       "8                                     Да        230 000 км   \n",
       "10                                    Да               NaN   \n",
       "12                                    Да               NaN   \n",
       "...                                  ...               ...   \n",
       "84144                                NaN               NaN   \n",
       "84150                                NaN               NaN   \n",
       "84166                                NaN               NaN   \n",
       "84180                                NaN               NaN   \n",
       "84198                                NaN               NaN   \n",
       "\n",
       "      parameters_Двигатель  year  \n",
       "0                      NaN  2008  \n",
       "2                      NaN  2022  \n",
       "8                      NaN  2004  \n",
       "10                     NaN  1992  \n",
       "12                     NaN  2024  \n",
       "...                    ...   ...  \n",
       "84144                  NaN  2008  \n",
       "84150                  NaN  2017  \n",
       "84166                  NaN  2021  \n",
       "84180                  NaN  2023  \n",
       "84198                  NaN  <NA>  \n",
       "\n",
       "[12677 rows x 14 columns]"
      ]
     },
     "execution_count": 886,
     "metadata": {},
     "output_type": "execute_result"
    }
   ],
   "source": [
    "df_new"
   ]
  },
  {
   "cell_type": "code",
   "execution_count": 887,
   "id": "6b1bb7e7-e1b2-4f72-a28e-6ab90bf950a0",
   "metadata": {},
   "outputs": [],
   "source": [
    "df_new['mileage'] = pd.to_numeric(df_new[\"parameters_Пробег\"].str.replace(r\"\\D+\", \"\", regex=True), errors=\"coerce\").astype(\"Int64\")"
   ]
  },
  {
   "cell_type": "code",
   "execution_count": 888,
   "id": "96a3345c-5b3f-4ec6-8932-514e16ac6de7",
   "metadata": {},
   "outputs": [
    {
     "data": {
      "text/html": [
       "<div>\n",
       "<style scoped>\n",
       "    .dataframe tbody tr th:only-of-type {\n",
       "        vertical-align: middle;\n",
       "    }\n",
       "\n",
       "    .dataframe tbody tr th {\n",
       "        vertical-align: top;\n",
       "    }\n",
       "\n",
       "    .dataframe thead th {\n",
       "        text-align: right;\n",
       "    }\n",
       "</style>\n",
       "<table border=\"1\" class=\"dataframe\">\n",
       "  <thead>\n",
       "    <tr style=\"text-align: right;\">\n",
       "      <th></th>\n",
       "      <th>name</th>\n",
       "      <th>isNewAuto</th>\n",
       "      <th>unitPrice</th>\n",
       "      <th>attributes_model</th>\n",
       "      <th>attributes_brand</th>\n",
       "      <th>parameters_Кузов</th>\n",
       "      <th>parameters_Объем двигателя, л</th>\n",
       "      <th>parameters_Коробка передач</th>\n",
       "      <th>parameters_Привод</th>\n",
       "      <th>parameters_Руль</th>\n",
       "      <th>parameters_Растаможен в Казахстане</th>\n",
       "      <th>parameters_Пробег</th>\n",
       "      <th>parameters_Двигатель</th>\n",
       "      <th>year</th>\n",
       "      <th>mileage</th>\n",
       "    </tr>\n",
       "  </thead>\n",
       "  <tbody>\n",
       "    <tr>\n",
       "      <th>0</th>\n",
       "      <td>Mercedes-Benz S 500</td>\n",
       "      <td>False</td>\n",
       "      <td>8500000.0</td>\n",
       "      <td>S 500</td>\n",
       "      <td>Mercedes-Benz</td>\n",
       "      <td>Седан</td>\n",
       "      <td>5.5 (бензин)</td>\n",
       "      <td>Автомат</td>\n",
       "      <td>Задний привод</td>\n",
       "      <td>Слева</td>\n",
       "      <td>Да</td>\n",
       "      <td>NaN</td>\n",
       "      <td>NaN</td>\n",
       "      <td>2008</td>\n",
       "      <td>&lt;NA&gt;</td>\n",
       "    </tr>\n",
       "    <tr>\n",
       "      <th>2</th>\n",
       "      <td>Chevrolet Spark</td>\n",
       "      <td>False</td>\n",
       "      <td>5050000.0</td>\n",
       "      <td>Spark</td>\n",
       "      <td>Chevrolet</td>\n",
       "      <td>Хэтчбек</td>\n",
       "      <td>1.2 (бензин)</td>\n",
       "      <td>Автомат</td>\n",
       "      <td>Передний привод</td>\n",
       "      <td>Слева</td>\n",
       "      <td>Да</td>\n",
       "      <td>74 564 км</td>\n",
       "      <td>NaN</td>\n",
       "      <td>2022</td>\n",
       "      <td>74564</td>\n",
       "    </tr>\n",
       "    <tr>\n",
       "      <th>8</th>\n",
       "      <td>Toyota Alphard</td>\n",
       "      <td>False</td>\n",
       "      <td>7300000.0</td>\n",
       "      <td>Alphard</td>\n",
       "      <td>Toyota</td>\n",
       "      <td>Минивэн</td>\n",
       "      <td>2.4 (бензин)</td>\n",
       "      <td>Автомат</td>\n",
       "      <td>Передний привод</td>\n",
       "      <td>Слева</td>\n",
       "      <td>Да</td>\n",
       "      <td>230 000 км</td>\n",
       "      <td>NaN</td>\n",
       "      <td>2004</td>\n",
       "      <td>230000</td>\n",
       "    </tr>\n",
       "    <tr>\n",
       "      <th>10</th>\n",
       "      <td>BMW 520</td>\n",
       "      <td>False</td>\n",
       "      <td>1450000.0</td>\n",
       "      <td>520</td>\n",
       "      <td>BMW</td>\n",
       "      <td>Седан</td>\n",
       "      <td>2 (бензин)</td>\n",
       "      <td>Механика</td>\n",
       "      <td>Задний привод</td>\n",
       "      <td>Слева</td>\n",
       "      <td>Да</td>\n",
       "      <td>NaN</td>\n",
       "      <td>NaN</td>\n",
       "      <td>1992</td>\n",
       "      <td>&lt;NA&gt;</td>\n",
       "    </tr>\n",
       "    <tr>\n",
       "      <th>12</th>\n",
       "      <td>ВАЗ (Lada) Vesta SW Enjoy</td>\n",
       "      <td>True</td>\n",
       "      <td>8790000.0</td>\n",
       "      <td>Vesta SW</td>\n",
       "      <td>ВАЗ (Lada)</td>\n",
       "      <td>Универсал</td>\n",
       "      <td>1.8 (бензин)</td>\n",
       "      <td>Автомат</td>\n",
       "      <td>Передний привод</td>\n",
       "      <td>Слева</td>\n",
       "      <td>Да</td>\n",
       "      <td>NaN</td>\n",
       "      <td>NaN</td>\n",
       "      <td>2024</td>\n",
       "      <td>&lt;NA&gt;</td>\n",
       "    </tr>\n",
       "    <tr>\n",
       "      <th>...</th>\n",
       "      <td>...</td>\n",
       "      <td>...</td>\n",
       "      <td>...</td>\n",
       "      <td>...</td>\n",
       "      <td>...</td>\n",
       "      <td>...</td>\n",
       "      <td>...</td>\n",
       "      <td>...</td>\n",
       "      <td>...</td>\n",
       "      <td>...</td>\n",
       "      <td>...</td>\n",
       "      <td>...</td>\n",
       "      <td>...</td>\n",
       "      <td>...</td>\n",
       "      <td>...</td>\n",
       "    </tr>\n",
       "    <tr>\n",
       "      <th>84144</th>\n",
       "      <td>Toyota Corolla</td>\n",
       "      <td>False</td>\n",
       "      <td>4800000.0</td>\n",
       "      <td>Corolla</td>\n",
       "      <td>Toyota</td>\n",
       "      <td>NaN</td>\n",
       "      <td>NaN</td>\n",
       "      <td>NaN</td>\n",
       "      <td>NaN</td>\n",
       "      <td>NaN</td>\n",
       "      <td>NaN</td>\n",
       "      <td>NaN</td>\n",
       "      <td>NaN</td>\n",
       "      <td>2008</td>\n",
       "      <td>&lt;NA&gt;</td>\n",
       "    </tr>\n",
       "    <tr>\n",
       "      <th>84150</th>\n",
       "      <td>ВАЗ (Lada) Granta 2190</td>\n",
       "      <td>False</td>\n",
       "      <td>3700000.0</td>\n",
       "      <td>Granta 2190 (седан)</td>\n",
       "      <td>ВАЗ (Lada)</td>\n",
       "      <td>NaN</td>\n",
       "      <td>NaN</td>\n",
       "      <td>NaN</td>\n",
       "      <td>NaN</td>\n",
       "      <td>NaN</td>\n",
       "      <td>NaN</td>\n",
       "      <td>NaN</td>\n",
       "      <td>NaN</td>\n",
       "      <td>2017</td>\n",
       "      <td>&lt;NA&gt;</td>\n",
       "    </tr>\n",
       "    <tr>\n",
       "      <th>84166</th>\n",
       "      <td>Kia Cerato</td>\n",
       "      <td>False</td>\n",
       "      <td>10430000.0</td>\n",
       "      <td>Cerato</td>\n",
       "      <td>Kia</td>\n",
       "      <td>NaN</td>\n",
       "      <td>NaN</td>\n",
       "      <td>NaN</td>\n",
       "      <td>NaN</td>\n",
       "      <td>NaN</td>\n",
       "      <td>NaN</td>\n",
       "      <td>NaN</td>\n",
       "      <td>NaN</td>\n",
       "      <td>2021</td>\n",
       "      <td>&lt;NA&gt;</td>\n",
       "    </tr>\n",
       "    <tr>\n",
       "      <th>84180</th>\n",
       "      <td>Chevrolet Tracker</td>\n",
       "      <td>False</td>\n",
       "      <td>7690000.0</td>\n",
       "      <td>Tracker</td>\n",
       "      <td>Chevrolet</td>\n",
       "      <td>NaN</td>\n",
       "      <td>NaN</td>\n",
       "      <td>NaN</td>\n",
       "      <td>NaN</td>\n",
       "      <td>NaN</td>\n",
       "      <td>NaN</td>\n",
       "      <td>NaN</td>\n",
       "      <td>NaN</td>\n",
       "      <td>2023</td>\n",
       "      <td>&lt;NA&gt;</td>\n",
       "    </tr>\n",
       "    <tr>\n",
       "      <th>84198</th>\n",
       "      <td>NaN</td>\n",
       "      <td>NaN</td>\n",
       "      <td>NaN</td>\n",
       "      <td>NaN</td>\n",
       "      <td>NaN</td>\n",
       "      <td>NaN</td>\n",
       "      <td>NaN</td>\n",
       "      <td>NaN</td>\n",
       "      <td>NaN</td>\n",
       "      <td>NaN</td>\n",
       "      <td>NaN</td>\n",
       "      <td>NaN</td>\n",
       "      <td>NaN</td>\n",
       "      <td>&lt;NA&gt;</td>\n",
       "      <td>&lt;NA&gt;</td>\n",
       "    </tr>\n",
       "  </tbody>\n",
       "</table>\n",
       "<p>12677 rows × 15 columns</p>\n",
       "</div>"
      ],
      "text/plain": [
       "                            name isNewAuto   unitPrice     attributes_model  \\\n",
       "0            Mercedes-Benz S 500     False   8500000.0                S 500   \n",
       "2                Chevrolet Spark     False   5050000.0                Spark   \n",
       "8                 Toyota Alphard     False   7300000.0              Alphard   \n",
       "10                       BMW 520     False   1450000.0                  520   \n",
       "12     ВАЗ (Lada) Vesta SW Enjoy      True   8790000.0             Vesta SW   \n",
       "...                          ...       ...         ...                  ...   \n",
       "84144             Toyota Corolla     False   4800000.0              Corolla   \n",
       "84150     ВАЗ (Lada) Granta 2190     False   3700000.0  Granta 2190 (седан)   \n",
       "84166                 Kia Cerato     False  10430000.0               Cerato   \n",
       "84180          Chevrolet Tracker     False   7690000.0              Tracker   \n",
       "84198                        NaN       NaN         NaN                  NaN   \n",
       "\n",
       "      attributes_brand parameters_Кузов parameters_Объем двигателя, л  \\\n",
       "0        Mercedes-Benz            Седан                  5.5 (бензин)   \n",
       "2            Chevrolet          Хэтчбек                  1.2 (бензин)   \n",
       "8               Toyota          Минивэн                  2.4 (бензин)   \n",
       "10                 BMW            Седан                    2 (бензин)   \n",
       "12          ВАЗ (Lada)        Универсал                  1.8 (бензин)   \n",
       "...                ...              ...                           ...   \n",
       "84144           Toyota              NaN                           NaN   \n",
       "84150       ВАЗ (Lada)              NaN                           NaN   \n",
       "84166              Kia              NaN                           NaN   \n",
       "84180        Chevrolet              NaN                           NaN   \n",
       "84198              NaN              NaN                           NaN   \n",
       "\n",
       "      parameters_Коробка передач parameters_Привод parameters_Руль  \\\n",
       "0                        Автомат     Задний привод           Слева   \n",
       "2                        Автомат   Передний привод           Слева   \n",
       "8                        Автомат   Передний привод           Слева   \n",
       "10                      Механика     Задний привод           Слева   \n",
       "12                       Автомат   Передний привод           Слева   \n",
       "...                          ...               ...             ...   \n",
       "84144                        NaN               NaN             NaN   \n",
       "84150                        NaN               NaN             NaN   \n",
       "84166                        NaN               NaN             NaN   \n",
       "84180                        NaN               NaN             NaN   \n",
       "84198                        NaN               NaN             NaN   \n",
       "\n",
       "      parameters_Растаможен в Казахстане parameters_Пробег  \\\n",
       "0                                     Да               NaN   \n",
       "2                                     Да         74 564 км   \n",
       "8                                     Да        230 000 км   \n",
       "10                                    Да               NaN   \n",
       "12                                    Да               NaN   \n",
       "...                                  ...               ...   \n",
       "84144                                NaN               NaN   \n",
       "84150                                NaN               NaN   \n",
       "84166                                NaN               NaN   \n",
       "84180                                NaN               NaN   \n",
       "84198                                NaN               NaN   \n",
       "\n",
       "      parameters_Двигатель  year  mileage  \n",
       "0                      NaN  2008     <NA>  \n",
       "2                      NaN  2022    74564  \n",
       "8                      NaN  2004   230000  \n",
       "10                     NaN  1992     <NA>  \n",
       "12                     NaN  2024     <NA>  \n",
       "...                    ...   ...      ...  \n",
       "84144                  NaN  2008     <NA>  \n",
       "84150                  NaN  2017     <NA>  \n",
       "84166                  NaN  2021     <NA>  \n",
       "84180                  NaN  2023     <NA>  \n",
       "84198                  NaN  <NA>     <NA>  \n",
       "\n",
       "[12677 rows x 15 columns]"
      ]
     },
     "execution_count": 888,
     "metadata": {},
     "output_type": "execute_result"
    }
   ],
   "source": [
    "df_new"
   ]
  },
  {
   "cell_type": "code",
   "execution_count": 889,
   "id": "96f68c05-b55b-46c9-80b1-9a11b903e0ee",
   "metadata": {},
   "outputs": [],
   "source": [
    "df_new.drop(columns=['parameters_Пробег'], axis=1, inplace=True)\n"
   ]
  },
  {
   "cell_type": "code",
   "execution_count": null,
   "id": "87a3ad44-503f-4b43-8538-599c0b7458ec",
   "metadata": {},
   "outputs": [],
   "source": []
  },
  {
   "cell_type": "code",
   "execution_count": 890,
   "id": "e0be1fa9-7f7f-47ad-9105-9b4c8902ca38",
   "metadata": {},
   "outputs": [],
   "source": [
    "avg_mileage = df_new.groupby('year')['mileage'].mean()"
   ]
  },
  {
   "cell_type": "code",
   "execution_count": 891,
   "id": "61ce2998-c2a8-44d9-8b37-3c098931d47e",
   "metadata": {},
   "outputs": [
    {
     "data": {
      "text/plain": [
       "year\n",
       "1955         125000.0\n",
       "1958             <NA>\n",
       "1962             <NA>\n",
       "1963             <NA>\n",
       "1965         111111.0\n",
       "1975          55555.0\n",
       "1982             <NA>\n",
       "1983           1111.0\n",
       "1984             <NA>\n",
       "1985             <NA>\n",
       "1986         321280.5\n",
       "1987         500000.0\n",
       "1988         133313.5\n",
       "1989    320222.111111\n",
       "1990    258050.074074\n",
       "1991    280394.029412\n",
       "1992        275916.68\n",
       "1993    261595.723404\n",
       "1994    297527.931034\n",
       "1995    315615.981132\n",
       "1996        270610.08\n",
       "1997    329787.649351\n",
       "1998    292509.666667\n",
       "1999    260945.472727\n",
       "2000    221077.869565\n",
       "2001    238950.854167\n",
       "2002     259194.15942\n",
       "2003    281439.047619\n",
       "2004    256014.537313\n",
       "2005    257688.942857\n",
       "2006    247940.837607\n",
       "2007    218353.494186\n",
       "2008    229052.941176\n",
       "2009    216334.913043\n",
       "2010    219906.412371\n",
       "2011    197865.796748\n",
       "2012    201824.512563\n",
       "2013    191111.429508\n",
       "2014    179383.029032\n",
       "2015    165202.629032\n",
       "2016    147143.298387\n",
       "2017    134357.827068\n",
       "2018    126812.782353\n",
       "2019     105520.35443\n",
       "2020     87575.369295\n",
       "2021     72451.306494\n",
       "2022     48482.489231\n",
       "2023     28227.087065\n",
       "2024      5874.502183\n",
       "2025        2238.8125\n",
       "Name: mileage, dtype: Float64"
      ]
     },
     "execution_count": 891,
     "metadata": {},
     "output_type": "execute_result"
    }
   ],
   "source": [
    "avg_mileage "
   ]
  },
  {
   "cell_type": "code",
   "execution_count": 892,
   "id": "fa0fd5ea-f322-4d7d-b368-833d57c04e7b",
   "metadata": {},
   "outputs": [],
   "source": [
    "avg_mileage = avg_mileage.fillna(0)"
   ]
  },
  {
   "cell_type": "code",
   "execution_count": 893,
   "id": "bc545dad-7b00-4aa0-9cac-879139d491bb",
   "metadata": {},
   "outputs": [
    {
     "data": {
      "text/plain": [
       "year\n",
       "1955         125000.0\n",
       "1958              0.0\n",
       "1962              0.0\n",
       "1963              0.0\n",
       "1965         111111.0\n",
       "1975          55555.0\n",
       "1982              0.0\n",
       "1983           1111.0\n",
       "1984              0.0\n",
       "1985              0.0\n",
       "1986         321280.5\n",
       "1987         500000.0\n",
       "1988         133313.5\n",
       "1989    320222.111111\n",
       "1990    258050.074074\n",
       "1991    280394.029412\n",
       "1992        275916.68\n",
       "1993    261595.723404\n",
       "1994    297527.931034\n",
       "1995    315615.981132\n",
       "1996        270610.08\n",
       "1997    329787.649351\n",
       "1998    292509.666667\n",
       "1999    260945.472727\n",
       "2000    221077.869565\n",
       "2001    238950.854167\n",
       "2002     259194.15942\n",
       "2003    281439.047619\n",
       "2004    256014.537313\n",
       "2005    257688.942857\n",
       "2006    247940.837607\n",
       "2007    218353.494186\n",
       "2008    229052.941176\n",
       "2009    216334.913043\n",
       "2010    219906.412371\n",
       "2011    197865.796748\n",
       "2012    201824.512563\n",
       "2013    191111.429508\n",
       "2014    179383.029032\n",
       "2015    165202.629032\n",
       "2016    147143.298387\n",
       "2017    134357.827068\n",
       "2018    126812.782353\n",
       "2019     105520.35443\n",
       "2020     87575.369295\n",
       "2021     72451.306494\n",
       "2022     48482.489231\n",
       "2023     28227.087065\n",
       "2024      5874.502183\n",
       "2025        2238.8125\n",
       "Name: mileage, dtype: Float64"
      ]
     },
     "execution_count": 893,
     "metadata": {},
     "output_type": "execute_result"
    }
   ],
   "source": [
    "avg_mileage"
   ]
  },
  {
   "cell_type": "code",
   "execution_count": 894,
   "id": "2f8f2641-4719-4804-8d10-4d77f984a957",
   "metadata": {},
   "outputs": [],
   "source": [
    "df_new['mileage'] = df_new['mileage'].astype('float64')"
   ]
  },
  {
   "cell_type": "code",
   "execution_count": 895,
   "id": "7db7b9d3-5109-43b9-bd48-481b3737d71e",
   "metadata": {},
   "outputs": [],
   "source": [
    "df_new = df_new.dropna(subset=['year'])"
   ]
  },
  {
   "cell_type": "code",
   "execution_count": 896,
   "id": "e6f2f8c7-aab8-44cf-bd63-381de2da5ff2",
   "metadata": {
    "scrolled": true
   },
   "outputs": [
    {
     "name": "stderr",
     "output_type": "stream",
     "text": [
      "C:\\Users\\temir\\AppData\\Local\\Temp\\ipykernel_5672\\2569646852.py:1: SettingWithCopyWarning: \n",
      "A value is trying to be set on a copy of a slice from a DataFrame.\n",
      "Try using .loc[row_indexer,col_indexer] = value instead\n",
      "\n",
      "See the caveats in the documentation: https://pandas.pydata.org/pandas-docs/stable/user_guide/indexing.html#returning-a-view-versus-a-copy\n",
      "  df_new['mileage'] = df_new.apply(\n"
     ]
    }
   ],
   "source": [
    "df_new['mileage'] = df_new.apply(\n",
    "    lambda row: 0 if row['isNewAuto'] == 1 else (avg_mileage[row['year']] if pd.isna(row['mileage']) else row['mileage']), \n",
    "    axis=1\n",
    ")"
   ]
  },
  {
   "cell_type": "code",
   "execution_count": 897,
   "id": "e5d2497f-61a0-45eb-a3d2-13567454d207",
   "metadata": {},
   "outputs": [],
   "source": [
    "# label_encoder_brand = LabelEncoder()\n",
    "# label_encoder_model = LabelEncoder()\n",
    "\n",
    "# # Кодируем\n",
    "# df_new['attributes_brand'] = label_encoder_brand.fit_transform(df_new['attributes_brand'])\n",
    "# df_new['attributes_model'] = label_encoder_model.fit_transform(df_new['attributes_model'])\n",
    "\n",
    "# # Сохраняем соответствия для возможного обратного преобразования\n",
    "# brand_mapping = dict(zip(label_encoder_brand.classes_, label_encoder_brand.transform(label_encoder_brand.classes_)))\n",
    "# model_mapping = dict(zip(label_encoder_model.classes_, label_encoder_model.transform(label_encoder_model.classes_)))"
   ]
  },
  {
   "cell_type": "code",
   "execution_count": 898,
   "id": "925808e6-a51e-4ec5-93bb-12d78fa735bb",
   "metadata": {},
   "outputs": [
    {
     "data": {
      "text/plain": [
       "0        Mercedes-Benz\n",
       "2            Chevrolet\n",
       "8               Toyota\n",
       "10                 BMW\n",
       "12          ВАЗ (Lada)\n",
       "             ...      \n",
       "84124    Mercedes-Benz\n",
       "84144           Toyota\n",
       "84150       ВАЗ (Lada)\n",
       "84166              Kia\n",
       "84180        Chevrolet\n",
       "Name: attributes_brand, Length: 12676, dtype: object"
      ]
     },
     "execution_count": 898,
     "metadata": {},
     "output_type": "execute_result"
    }
   ],
   "source": [
    "df_new['attributes_brand']"
   ]
  },
  {
   "cell_type": "code",
   "execution_count": 899,
   "id": "cc2cadc4-5796-4a66-96d4-91b1934201be",
   "metadata": {
    "scrolled": true
   },
   "outputs": [
    {
     "name": "stdout",
     "output_type": "stream",
     "text": [
      "<class 'pandas.core.series.Series'>\n",
      "Index: 12676 entries, 0 to 84180\n",
      "Series name: mileage\n",
      "Non-Null Count  Dtype  \n",
      "--------------  -----  \n",
      "12676 non-null  float64\n",
      "dtypes: float64(1)\n",
      "memory usage: 198.1 KB\n"
     ]
    }
   ],
   "source": [
    "df_new['mileage'].info()"
   ]
  },
  {
   "cell_type": "code",
   "execution_count": 900,
   "id": "d8e03609-8eec-4d54-a134-86656f8b06f0",
   "metadata": {},
   "outputs": [
    {
     "name": "stdout",
     "output_type": "stream",
     "text": [
      "<class 'pandas.core.frame.DataFrame'>\n",
      "Index: 12676 entries, 0 to 84180\n",
      "Data columns (total 14 columns):\n",
      " #   Column                              Non-Null Count  Dtype  \n",
      "---  ------                              --------------  -----  \n",
      " 0   name                                12676 non-null  object \n",
      " 1   isNewAuto                           12676 non-null  object \n",
      " 2   unitPrice                           12676 non-null  float64\n",
      " 3   attributes_model                    12649 non-null  object \n",
      " 4   attributes_brand                    12676 non-null  object \n",
      " 5   parameters_Кузов                    6422 non-null   object \n",
      " 6   parameters_Объем двигателя, л       6324 non-null   object \n",
      " 7   parameters_Коробка передач          6422 non-null   object \n",
      " 8   parameters_Привод                   6422 non-null   object \n",
      " 9   parameters_Руль                     6422 non-null   object \n",
      " 10  parameters_Растаможен в Казахстане  6422 non-null   object \n",
      " 11  parameters_Двигатель                98 non-null     object \n",
      " 12  year                                12676 non-null  Int64  \n",
      " 13  mileage                             12676 non-null  float64\n",
      "dtypes: Int64(1), float64(2), object(11)\n",
      "memory usage: 1.5+ MB\n"
     ]
    }
   ],
   "source": [
    "df_new.info()"
   ]
  },
  {
   "cell_type": "code",
   "execution_count": 901,
   "id": "6809f759-19e6-4db8-8208-d90c332071dd",
   "metadata": {},
   "outputs": [],
   "source": [
    "df_new = df_new.dropna(subset=['attributes_model'])"
   ]
  },
  {
   "cell_type": "code",
   "execution_count": 902,
   "id": "0592a2b9-712b-496a-82ed-20949814a723",
   "metadata": {},
   "outputs": [
    {
     "data": {
      "text/html": [
       "<div>\n",
       "<style scoped>\n",
       "    .dataframe tbody tr th:only-of-type {\n",
       "        vertical-align: middle;\n",
       "    }\n",
       "\n",
       "    .dataframe tbody tr th {\n",
       "        vertical-align: top;\n",
       "    }\n",
       "\n",
       "    .dataframe thead th {\n",
       "        text-align: right;\n",
       "    }\n",
       "</style>\n",
       "<table border=\"1\" class=\"dataframe\">\n",
       "  <thead>\n",
       "    <tr style=\"text-align: right;\">\n",
       "      <th></th>\n",
       "      <th>name</th>\n",
       "      <th>isNewAuto</th>\n",
       "      <th>unitPrice</th>\n",
       "      <th>attributes_model</th>\n",
       "      <th>attributes_brand</th>\n",
       "      <th>parameters_Кузов</th>\n",
       "      <th>parameters_Объем двигателя, л</th>\n",
       "      <th>parameters_Коробка передач</th>\n",
       "      <th>parameters_Привод</th>\n",
       "      <th>parameters_Руль</th>\n",
       "      <th>parameters_Растаможен в Казахстане</th>\n",
       "      <th>parameters_Двигатель</th>\n",
       "      <th>year</th>\n",
       "      <th>mileage</th>\n",
       "    </tr>\n",
       "  </thead>\n",
       "  <tbody>\n",
       "    <tr>\n",
       "      <th>0</th>\n",
       "      <td>Mercedes-Benz S 500</td>\n",
       "      <td>False</td>\n",
       "      <td>8500000.0</td>\n",
       "      <td>S 500</td>\n",
       "      <td>Mercedes-Benz</td>\n",
       "      <td>Седан</td>\n",
       "      <td>5.5 (бензин)</td>\n",
       "      <td>Автомат</td>\n",
       "      <td>Задний привод</td>\n",
       "      <td>Слева</td>\n",
       "      <td>Да</td>\n",
       "      <td>NaN</td>\n",
       "      <td>2008</td>\n",
       "      <td>229052.941176</td>\n",
       "    </tr>\n",
       "    <tr>\n",
       "      <th>2</th>\n",
       "      <td>Chevrolet Spark</td>\n",
       "      <td>False</td>\n",
       "      <td>5050000.0</td>\n",
       "      <td>Spark</td>\n",
       "      <td>Chevrolet</td>\n",
       "      <td>Хэтчбек</td>\n",
       "      <td>1.2 (бензин)</td>\n",
       "      <td>Автомат</td>\n",
       "      <td>Передний привод</td>\n",
       "      <td>Слева</td>\n",
       "      <td>Да</td>\n",
       "      <td>NaN</td>\n",
       "      <td>2022</td>\n",
       "      <td>74564.000000</td>\n",
       "    </tr>\n",
       "    <tr>\n",
       "      <th>8</th>\n",
       "      <td>Toyota Alphard</td>\n",
       "      <td>False</td>\n",
       "      <td>7300000.0</td>\n",
       "      <td>Alphard</td>\n",
       "      <td>Toyota</td>\n",
       "      <td>Минивэн</td>\n",
       "      <td>2.4 (бензин)</td>\n",
       "      <td>Автомат</td>\n",
       "      <td>Передний привод</td>\n",
       "      <td>Слева</td>\n",
       "      <td>Да</td>\n",
       "      <td>NaN</td>\n",
       "      <td>2004</td>\n",
       "      <td>230000.000000</td>\n",
       "    </tr>\n",
       "    <tr>\n",
       "      <th>10</th>\n",
       "      <td>BMW 520</td>\n",
       "      <td>False</td>\n",
       "      <td>1450000.0</td>\n",
       "      <td>520</td>\n",
       "      <td>BMW</td>\n",
       "      <td>Седан</td>\n",
       "      <td>2 (бензин)</td>\n",
       "      <td>Механика</td>\n",
       "      <td>Задний привод</td>\n",
       "      <td>Слева</td>\n",
       "      <td>Да</td>\n",
       "      <td>NaN</td>\n",
       "      <td>1992</td>\n",
       "      <td>275916.680000</td>\n",
       "    </tr>\n",
       "    <tr>\n",
       "      <th>12</th>\n",
       "      <td>ВАЗ (Lada) Vesta SW Enjoy</td>\n",
       "      <td>True</td>\n",
       "      <td>8790000.0</td>\n",
       "      <td>Vesta SW</td>\n",
       "      <td>ВАЗ (Lada)</td>\n",
       "      <td>Универсал</td>\n",
       "      <td>1.8 (бензин)</td>\n",
       "      <td>Автомат</td>\n",
       "      <td>Передний привод</td>\n",
       "      <td>Слева</td>\n",
       "      <td>Да</td>\n",
       "      <td>NaN</td>\n",
       "      <td>2024</td>\n",
       "      <td>0.000000</td>\n",
       "    </tr>\n",
       "    <tr>\n",
       "      <th>...</th>\n",
       "      <td>...</td>\n",
       "      <td>...</td>\n",
       "      <td>...</td>\n",
       "      <td>...</td>\n",
       "      <td>...</td>\n",
       "      <td>...</td>\n",
       "      <td>...</td>\n",
       "      <td>...</td>\n",
       "      <td>...</td>\n",
       "      <td>...</td>\n",
       "      <td>...</td>\n",
       "      <td>...</td>\n",
       "      <td>...</td>\n",
       "      <td>...</td>\n",
       "    </tr>\n",
       "    <tr>\n",
       "      <th>84124</th>\n",
       "      <td>Mercedes-Benz G 63 AMG</td>\n",
       "      <td>False</td>\n",
       "      <td>209500000.0</td>\n",
       "      <td>G 63 AMG</td>\n",
       "      <td>Mercedes-Benz</td>\n",
       "      <td>NaN</td>\n",
       "      <td>NaN</td>\n",
       "      <td>NaN</td>\n",
       "      <td>NaN</td>\n",
       "      <td>NaN</td>\n",
       "      <td>NaN</td>\n",
       "      <td>NaN</td>\n",
       "      <td>2025</td>\n",
       "      <td>2238.812500</td>\n",
       "    </tr>\n",
       "    <tr>\n",
       "      <th>84144</th>\n",
       "      <td>Toyota Corolla</td>\n",
       "      <td>False</td>\n",
       "      <td>4800000.0</td>\n",
       "      <td>Corolla</td>\n",
       "      <td>Toyota</td>\n",
       "      <td>NaN</td>\n",
       "      <td>NaN</td>\n",
       "      <td>NaN</td>\n",
       "      <td>NaN</td>\n",
       "      <td>NaN</td>\n",
       "      <td>NaN</td>\n",
       "      <td>NaN</td>\n",
       "      <td>2008</td>\n",
       "      <td>229052.941176</td>\n",
       "    </tr>\n",
       "    <tr>\n",
       "      <th>84150</th>\n",
       "      <td>ВАЗ (Lada) Granta 2190</td>\n",
       "      <td>False</td>\n",
       "      <td>3700000.0</td>\n",
       "      <td>Granta 2190 (седан)</td>\n",
       "      <td>ВАЗ (Lada)</td>\n",
       "      <td>NaN</td>\n",
       "      <td>NaN</td>\n",
       "      <td>NaN</td>\n",
       "      <td>NaN</td>\n",
       "      <td>NaN</td>\n",
       "      <td>NaN</td>\n",
       "      <td>NaN</td>\n",
       "      <td>2017</td>\n",
       "      <td>134357.827068</td>\n",
       "    </tr>\n",
       "    <tr>\n",
       "      <th>84166</th>\n",
       "      <td>Kia Cerato</td>\n",
       "      <td>False</td>\n",
       "      <td>10430000.0</td>\n",
       "      <td>Cerato</td>\n",
       "      <td>Kia</td>\n",
       "      <td>NaN</td>\n",
       "      <td>NaN</td>\n",
       "      <td>NaN</td>\n",
       "      <td>NaN</td>\n",
       "      <td>NaN</td>\n",
       "      <td>NaN</td>\n",
       "      <td>NaN</td>\n",
       "      <td>2021</td>\n",
       "      <td>72451.306494</td>\n",
       "    </tr>\n",
       "    <tr>\n",
       "      <th>84180</th>\n",
       "      <td>Chevrolet Tracker</td>\n",
       "      <td>False</td>\n",
       "      <td>7690000.0</td>\n",
       "      <td>Tracker</td>\n",
       "      <td>Chevrolet</td>\n",
       "      <td>NaN</td>\n",
       "      <td>NaN</td>\n",
       "      <td>NaN</td>\n",
       "      <td>NaN</td>\n",
       "      <td>NaN</td>\n",
       "      <td>NaN</td>\n",
       "      <td>NaN</td>\n",
       "      <td>2023</td>\n",
       "      <td>28227.087065</td>\n",
       "    </tr>\n",
       "  </tbody>\n",
       "</table>\n",
       "<p>12649 rows × 14 columns</p>\n",
       "</div>"
      ],
      "text/plain": [
       "                            name isNewAuto    unitPrice     attributes_model  \\\n",
       "0            Mercedes-Benz S 500     False    8500000.0                S 500   \n",
       "2                Chevrolet Spark     False    5050000.0                Spark   \n",
       "8                 Toyota Alphard     False    7300000.0              Alphard   \n",
       "10                       BMW 520     False    1450000.0                  520   \n",
       "12     ВАЗ (Lada) Vesta SW Enjoy      True    8790000.0             Vesta SW   \n",
       "...                          ...       ...          ...                  ...   \n",
       "84124     Mercedes-Benz G 63 AMG     False  209500000.0             G 63 AMG   \n",
       "84144             Toyota Corolla     False    4800000.0              Corolla   \n",
       "84150     ВАЗ (Lada) Granta 2190     False    3700000.0  Granta 2190 (седан)   \n",
       "84166                 Kia Cerato     False   10430000.0               Cerato   \n",
       "84180          Chevrolet Tracker     False    7690000.0              Tracker   \n",
       "\n",
       "      attributes_brand parameters_Кузов parameters_Объем двигателя, л  \\\n",
       "0        Mercedes-Benz            Седан                  5.5 (бензин)   \n",
       "2            Chevrolet          Хэтчбек                  1.2 (бензин)   \n",
       "8               Toyota          Минивэн                  2.4 (бензин)   \n",
       "10                 BMW            Седан                    2 (бензин)   \n",
       "12          ВАЗ (Lada)        Универсал                  1.8 (бензин)   \n",
       "...                ...              ...                           ...   \n",
       "84124    Mercedes-Benz              NaN                           NaN   \n",
       "84144           Toyota              NaN                           NaN   \n",
       "84150       ВАЗ (Lada)              NaN                           NaN   \n",
       "84166              Kia              NaN                           NaN   \n",
       "84180        Chevrolet              NaN                           NaN   \n",
       "\n",
       "      parameters_Коробка передач parameters_Привод parameters_Руль  \\\n",
       "0                        Автомат     Задний привод           Слева   \n",
       "2                        Автомат   Передний привод           Слева   \n",
       "8                        Автомат   Передний привод           Слева   \n",
       "10                      Механика     Задний привод           Слева   \n",
       "12                       Автомат   Передний привод           Слева   \n",
       "...                          ...               ...             ...   \n",
       "84124                        NaN               NaN             NaN   \n",
       "84144                        NaN               NaN             NaN   \n",
       "84150                        NaN               NaN             NaN   \n",
       "84166                        NaN               NaN             NaN   \n",
       "84180                        NaN               NaN             NaN   \n",
       "\n",
       "      parameters_Растаможен в Казахстане parameters_Двигатель  year  \\\n",
       "0                                     Да                  NaN  2008   \n",
       "2                                     Да                  NaN  2022   \n",
       "8                                     Да                  NaN  2004   \n",
       "10                                    Да                  NaN  1992   \n",
       "12                                    Да                  NaN  2024   \n",
       "...                                  ...                  ...   ...   \n",
       "84124                                NaN                  NaN  2025   \n",
       "84144                                NaN                  NaN  2008   \n",
       "84150                                NaN                  NaN  2017   \n",
       "84166                                NaN                  NaN  2021   \n",
       "84180                                NaN                  NaN  2023   \n",
       "\n",
       "             mileage  \n",
       "0      229052.941176  \n",
       "2       74564.000000  \n",
       "8      230000.000000  \n",
       "10     275916.680000  \n",
       "12          0.000000  \n",
       "...              ...  \n",
       "84124    2238.812500  \n",
       "84144  229052.941176  \n",
       "84150  134357.827068  \n",
       "84166   72451.306494  \n",
       "84180   28227.087065  \n",
       "\n",
       "[12649 rows x 14 columns]"
      ]
     },
     "execution_count": 902,
     "metadata": {},
     "output_type": "execute_result"
    }
   ],
   "source": [
    "df_new"
   ]
  },
  {
   "cell_type": "code",
   "execution_count": 903,
   "id": "8170ab4a-5cb2-4584-8f23-182f90f9f0d4",
   "metadata": {},
   "outputs": [
    {
     "name": "stderr",
     "output_type": "stream",
     "text": [
      "C:\\Users\\temir\\AppData\\Local\\Temp\\ipykernel_5672\\13146444.py:8: SettingWithCopyWarning: \n",
      "A value is trying to be set on a copy of a slice from a DataFrame.\n",
      "Try using .loc[row_indexer,col_indexer] = value instead\n",
      "\n",
      "See the caveats in the documentation: https://pandas.pydata.org/pandas-docs/stable/user_guide/indexing.html#returning-a-view-versus-a-copy\n",
      "  df_new[\"Car_encoded\"] = encodera.fit_transform(df_new[\"name\"])\n"
     ]
    }
   ],
   "source": [
    "encoder = LabelEncoder()\n",
    "encodera = LabelEncoder()\n",
    "\n",
    "\n",
    "df_new = df_new[df_new.duplicated(subset=['name'], keep=False)]\n",
    "\n",
    "\n",
    "df_new[\"Car_encoded\"] = encodera.fit_transform(df_new[\"name\"])\n"
   ]
  },
  {
   "cell_type": "code",
   "execution_count": 904,
   "id": "d079ba40-46a2-42a3-baab-da18b4733c51",
   "metadata": {},
   "outputs": [
    {
     "data": {
      "text/plain": [
       "0        508\n",
       "2        135\n",
       "8        647\n",
       "10        33\n",
       "20       695\n",
       "        ... \n",
       "84124    478\n",
       "84144    663\n",
       "84150    747\n",
       "84166    332\n",
       "84180    137\n",
       "Name: Car_encoded, Length: 12228, dtype: int32"
      ]
     },
     "execution_count": 904,
     "metadata": {},
     "output_type": "execute_result"
    }
   ],
   "source": [
    "df_new[\"Car_encoded\"] "
   ]
  },
  {
   "cell_type": "code",
   "execution_count": null,
   "id": "356b52dd-48ab-4c5b-bc27-9350e48f91ff",
   "metadata": {},
   "outputs": [],
   "source": []
  },
  {
   "cell_type": "code",
   "execution_count": null,
   "id": "6020fa09-5e8f-4ccb-870c-b3addfcb1c20",
   "metadata": {},
   "outputs": [],
   "source": []
  },
  {
   "cell_type": "code",
   "execution_count": null,
   "id": "9d9414a5-8878-49aa-a79b-7894a69f4123",
   "metadata": {},
   "outputs": [],
   "source": []
  },
  {
   "cell_type": "code",
   "execution_count": null,
   "id": "757a6961-795b-4578-be3c-3b61e3869471",
   "metadata": {},
   "outputs": [],
   "source": []
  },
  {
   "cell_type": "code",
   "execution_count": null,
   "id": "9a044f15-3fc6-4364-a795-cff3ef1835a1",
   "metadata": {},
   "outputs": [],
   "source": []
  },
  {
   "cell_type": "code",
   "execution_count": null,
   "id": "6006fc02-0969-4221-b1cc-702c8914d6a4",
   "metadata": {},
   "outputs": [],
   "source": []
  },
  {
   "cell_type": "code",
   "execution_count": null,
   "id": "f634a56f-41c8-4524-a0d1-11eb30859117",
   "metadata": {},
   "outputs": [],
   "source": []
  },
  {
   "cell_type": "code",
   "execution_count": null,
   "id": "09cf9835-5578-4ce6-b07f-3ada36c46104",
   "metadata": {},
   "outputs": [],
   "source": []
  },
  {
   "cell_type": "code",
   "execution_count": null,
   "id": "0173fa7f-32ce-43a1-bd79-a2d3b7f0fa14",
   "metadata": {},
   "outputs": [],
   "source": []
  },
  {
   "cell_type": "code",
   "execution_count": null,
   "id": "00f91f3c-d4f8-45a1-af83-80eec08a9b49",
   "metadata": {},
   "outputs": [],
   "source": []
  },
  {
   "cell_type": "code",
   "execution_count": 905,
   "id": "d67c7f08-ff91-4316-983d-5ad845ca0a9b",
   "metadata": {},
   "outputs": [],
   "source": [
    "# df_new.drop(columns=['parameters_Кузов'], axis=1, inplace=True)"
   ]
  },
  {
   "cell_type": "code",
   "execution_count": 906,
   "id": "f3f00472-7e52-4a1d-81b4-a474beef9c8d",
   "metadata": {},
   "outputs": [
    {
     "name": "stderr",
     "output_type": "stream",
     "text": [
      "C:\\Users\\temir\\AppData\\Local\\Temp\\ipykernel_5672\\1669990850.py:1: SettingWithCopyWarning: \n",
      "A value is trying to be set on a copy of a slice from a DataFrame.\n",
      "Try using .loc[row_indexer,col_indexer] = value instead\n",
      "\n",
      "See the caveats in the documentation: https://pandas.pydata.org/pandas-docs/stable/user_guide/indexing.html#returning-a-view-versus-a-copy\n",
      "  df_new['parameters_Кузов'] = df_new['parameters_Кузов'].fillna(df_new['parameters_Кузов'].mode().iloc[0])\n"
     ]
    }
   ],
   "source": [
    "df_new['parameters_Кузов'] = df_new['parameters_Кузов'].fillna(df_new['parameters_Кузов'].mode().iloc[0])"
   ]
  },
  {
   "cell_type": "code",
   "execution_count": 907,
   "id": "ea42b472-d33d-49fe-a2a2-141c2fa15efd",
   "metadata": {},
   "outputs": [
    {
     "name": "stderr",
     "output_type": "stream",
     "text": [
      "C:\\Users\\temir\\AppData\\Local\\Temp\\ipykernel_5672\\3831326267.py:1: SettingWithCopyWarning: \n",
      "A value is trying to be set on a copy of a slice from a DataFrame.\n",
      "Try using .loc[row_indexer,col_indexer] = value instead\n",
      "\n",
      "See the caveats in the documentation: https://pandas.pydata.org/pandas-docs/stable/user_guide/indexing.html#returning-a-view-versus-a-copy\n",
      "  df_new[\"Body_encoded\"] = encoder.fit_transform(df_new[\"parameters_Кузов\"])\n"
     ]
    }
   ],
   "source": [
    "df_new[\"Body_encoded\"] = encoder.fit_transform(df_new[\"parameters_Кузов\"])"
   ]
  },
  {
   "cell_type": "code",
   "execution_count": 908,
   "id": "aef55bde-18d4-4372-bee1-2c681fd100bf",
   "metadata": {},
   "outputs": [],
   "source": [
    "# df_new.drop(columns=['parameters_Кузов'], axis=1, inplace=True)"
   ]
  },
  {
   "cell_type": "code",
   "execution_count": 909,
   "id": "9e15904e-d8b4-4349-b1dd-9d876ea4a400",
   "metadata": {},
   "outputs": [
    {
     "data": {
      "text/plain": [
       "0         Да\n",
       "2         Да\n",
       "8         Да\n",
       "10        Да\n",
       "20        Да\n",
       "        ... \n",
       "84124    NaN\n",
       "84144    NaN\n",
       "84150    NaN\n",
       "84166    NaN\n",
       "84180    NaN\n",
       "Name: parameters_Растаможен в Казахстане, Length: 12228, dtype: object"
      ]
     },
     "execution_count": 909,
     "metadata": {},
     "output_type": "execute_result"
    }
   ],
   "source": [
    "df_new['parameters_Растаможен в Казахстане']"
   ]
  },
  {
   "cell_type": "code",
   "execution_count": 910,
   "id": "7d792325-15f0-4d9a-93d0-b4b7f2453c3d",
   "metadata": {},
   "outputs": [
    {
     "name": "stderr",
     "output_type": "stream",
     "text": [
      "C:\\Users\\temir\\AppData\\Local\\Temp\\ipykernel_5672\\2970895296.py:1: SettingWithCopyWarning: \n",
      "A value is trying to be set on a copy of a slice from a DataFrame.\n",
      "Try using .loc[row_indexer,col_indexer] = value instead\n",
      "\n",
      "See the caveats in the documentation: https://pandas.pydata.org/pandas-docs/stable/user_guide/indexing.html#returning-a-view-versus-a-copy\n",
      "  df_new['parameters_Растаможен в Казахстане'] = df_new['parameters_Растаможен в Казахстане'].apply(\n"
     ]
    }
   ],
   "source": [
    "df_new['parameters_Растаможен в Казахстане'] = df_new['parameters_Растаможен в Казахстане'].apply(\n",
    "    lambda x: 1 if x == 'Да' else 0\n",
    ")"
   ]
  },
  {
   "cell_type": "code",
   "execution_count": 911,
   "id": "598098b3-1c92-4709-8d39-3dcc65029198",
   "metadata": {},
   "outputs": [
    {
     "name": "stdout",
     "output_type": "stream",
     "text": [
      "<class 'pandas.core.series.Series'>\n",
      "Index: 12228 entries, 0 to 84180\n",
      "Series name: parameters_Растаможен в Казахстане\n",
      "Non-Null Count  Dtype\n",
      "--------------  -----\n",
      "12228 non-null  int64\n",
      "dtypes: int64(1)\n",
      "memory usage: 191.1 KB\n"
     ]
    }
   ],
   "source": [
    "df_new['parameters_Растаможен в Казахстане'].info()"
   ]
  },
  {
   "cell_type": "code",
   "execution_count": 912,
   "id": "56b2f494-ccac-4709-93c9-fec81b3db3a2",
   "metadata": {},
   "outputs": [
    {
     "data": {
      "text/plain": [
       "array(['5.5 (бензин)', '1.2 (бензин)', '2.4 (бензин)', '2 (бензин)',\n",
       "       '1.6 (бензин)', '2.5 (бензин)', '3 (бензин)', '3.6 (бензин)',\n",
       "       '2.3 (бензин)', '6 (бензин)', '3 (дизель)', '2.9 (газ-бензин)',\n",
       "       '3.5 (бензин)', '2.5 (дизель)', '1.5 (бензин)', '3.9 (бензин)',\n",
       "       '2.4 (газ-бензин)', '1.3 (бензин)', '1.8 (бензин)', '1.4 (бензин)',\n",
       "       '4.4 (бензин)', '4 (бензин)', '3.2 (бензин)', '5.7 (бензин)', nan,\n",
       "       '1.5 (гибрид)', '4.8 (бензин)', '5.7 (газ-бензин)', '0.8 (бензин)',\n",
       "       '5.4 (бензин)', '2.7 (бензин)', '5 (бензин)', '4.7 (бензин)',\n",
       "       '3 (газ)', '4.6 (бензин)', '4.3 (бензин)', '4.2 (дизель)',\n",
       "       '2.5 (газ-бензин)', '2.5 (гибрид)', '1 (бензин)', '3.8 (бензин)',\n",
       "       '2.2 (дизель)', '2.2 (бензин)', '2.6 (бензин)', '4.5 (бензин)',\n",
       "       '2.8 (бензин)', '1.7 (бензин)', '4 (гибрид)', '2.7 (газ-бензин)',\n",
       "       '5.6 (бензин)', '2.8 (дизель)', '4.3 (газ-бензин)', '3.5 (гибрид)',\n",
       "       '2.3 (дизель)', '6.2 (бензин)', '4 (газ-бензин)', '2.4 (дизель)',\n",
       "       '1.8 (газ-бензин)', '2 (газ)', '1.4 (газ-бензин)',\n",
       "       '2 (газ-бензин)', '1.9 (дизель)', '5.8 (бензин)', '3.3 (бензин)',\n",
       "       '4.2 (бензин)', '3.7 (бензин)', '3 (газ-бензин)', '2.9 (бензин)',\n",
       "       '2.9 (дизель)', '1.6 (газ-бензин)', '3.3 (гибрид)', '1.1 (бензин)',\n",
       "       '3.2 (дизель)', '2.7 (дизель)', '2 (гибрид)', '4.8 (газ-бензин)',\n",
       "       '2 (дизель)', '4.5 (дизель)', '1.3 (гибрид)', '3.3 (дизель)',\n",
       "       '4.4 (дизель)', '0.7 (гибрид)', '1.8 (гибрид)', '3 (гибрид)',\n",
       "       '2.5 (газ)', '2.1 (бензин)', '3.5 (газ-бензин)',\n",
       "       '5.6 (газ-бензин)', '8 (газ)', '3.4 (бензин)', '2.4 (гибрид)',\n",
       "       '3.2 (газ-бензин)', '0.2 (бензин)', '5.3 (бензин)', '1.9 (бензин)',\n",
       "       '2.3 (газ-бензин)', '4.4 (гибрид)', '5.2 (бензин)', '1.5 (дизель)',\n",
       "       '4.6 (газ-бензин)', '2.6 (газ-бензин)', '3.5 (газ)',\n",
       "       '3.3 (газ-бензин)', '4.7 (газ-бензин)', '4 (дизель)', '2.7 (газ)',\n",
       "       '1.3 (газ-бензин)', '8 (бензин)', '6.7 (бензин)', '1.8 (дизель)',\n",
       "       '6.5 (бензин)'], dtype=object)"
      ]
     },
     "execution_count": 912,
     "metadata": {},
     "output_type": "execute_result"
    }
   ],
   "source": [
    "df_new['parameters_Объем двигателя, л'].unique()"
   ]
  },
  {
   "cell_type": "code",
   "execution_count": 913,
   "id": "a3a2fcf9-f8d1-4324-b526-0228fe970448",
   "metadata": {},
   "outputs": [
    {
     "name": "stderr",
     "output_type": "stream",
     "text": [
      "C:\\Users\\temir\\AppData\\Local\\Temp\\ipykernel_5672\\3756744192.py:1: SettingWithCopyWarning: \n",
      "A value is trying to be set on a copy of a slice from a DataFrame.\n",
      "Try using .loc[row_indexer,col_indexer] = value instead\n",
      "\n",
      "See the caveats in the documentation: https://pandas.pydata.org/pandas-docs/stable/user_guide/indexing.html#returning-a-view-versus-a-copy\n",
      "  df_new[['engine_volume', 'fuel_type']] = df_new['parameters_Объем двигателя, л'].str.extract(r'(\\d+\\.\\d+|\\d+) \\((.*?)\\)')\n",
      "C:\\Users\\temir\\AppData\\Local\\Temp\\ipykernel_5672\\3756744192.py:1: SettingWithCopyWarning: \n",
      "A value is trying to be set on a copy of a slice from a DataFrame.\n",
      "Try using .loc[row_indexer,col_indexer] = value instead\n",
      "\n",
      "See the caveats in the documentation: https://pandas.pydata.org/pandas-docs/stable/user_guide/indexing.html#returning-a-view-versus-a-copy\n",
      "  df_new[['engine_volume', 'fuel_type']] = df_new['parameters_Объем двигателя, л'].str.extract(r'(\\d+\\.\\d+|\\d+) \\((.*?)\\)')\n",
      "C:\\Users\\temir\\AppData\\Local\\Temp\\ipykernel_5672\\3756744192.py:2: SettingWithCopyWarning: \n",
      "A value is trying to be set on a copy of a slice from a DataFrame.\n",
      "Try using .loc[row_indexer,col_indexer] = value instead\n",
      "\n",
      "See the caveats in the documentation: https://pandas.pydata.org/pandas-docs/stable/user_guide/indexing.html#returning-a-view-versus-a-copy\n",
      "  df_new['engine_volume'] = df_new['engine_volume'].astype(float)\n"
     ]
    }
   ],
   "source": [
    "df_new[['engine_volume', 'fuel_type']] = df_new['parameters_Объем двигателя, л'].str.extract(r'(\\d+\\.\\d+|\\d+) \\((.*?)\\)')\n",
    "df_new['engine_volume'] = df_new['engine_volume'].astype(float)"
   ]
  },
  {
   "cell_type": "code",
   "execution_count": 914,
   "id": "2c59fbb4-dc20-4a7f-9da4-df506887c763",
   "metadata": {},
   "outputs": [
    {
     "data": {
      "text/plain": [
       "array([nan, 'Электрический'], dtype=object)"
      ]
     },
     "execution_count": 914,
     "metadata": {},
     "output_type": "execute_result"
    }
   ],
   "source": [
    "df_new['parameters_Двигатель'].unique()"
   ]
  },
  {
   "cell_type": "code",
   "execution_count": 915,
   "id": "b8ae922b-7a8f-4355-b158-9721118dac33",
   "metadata": {},
   "outputs": [
    {
     "name": "stderr",
     "output_type": "stream",
     "text": [
      "C:\\Users\\temir\\AppData\\Local\\Temp\\ipykernel_5672\\2692861541.py:1: SettingWithCopyWarning: \n",
      "A value is trying to be set on a copy of a slice from a DataFrame.\n",
      "Try using .loc[row_indexer,col_indexer] = value instead\n",
      "\n",
      "See the caveats in the documentation: https://pandas.pydata.org/pandas-docs/stable/user_guide/indexing.html#returning-a-view-versus-a-copy\n",
      "  df_new['fuel_type'] = df_new['fuel_type'].fillna(df_new['parameters_Двигатель'])\n",
      "C:\\Users\\temir\\AppData\\Local\\Temp\\ipykernel_5672\\2692861541.py:2: SettingWithCopyWarning: \n",
      "A value is trying to be set on a copy of a slice from a DataFrame\n",
      "\n",
      "See the caveats in the documentation: https://pandas.pydata.org/pandas-docs/stable/user_guide/indexing.html#returning-a-view-versus-a-copy\n",
      "  df_new.drop(columns=['parameters_Двигатель'], inplace=True)\n"
     ]
    }
   ],
   "source": [
    "df_new['fuel_type'] = df_new['fuel_type'].fillna(df_new['parameters_Двигатель'])\n",
    "df_new.drop(columns=['parameters_Двигатель'], inplace=True)"
   ]
  },
  {
   "cell_type": "code",
   "execution_count": 916,
   "id": "c0737e02-9d7e-4476-9dad-524c9c87f1cd",
   "metadata": {},
   "outputs": [
    {
     "data": {
      "text/plain": [
       "array(['бензин', 'дизель', 'газ-бензин', 'Электрический', 'гибрид', 'газ',\n",
       "       nan], dtype=object)"
      ]
     },
     "execution_count": 916,
     "metadata": {},
     "output_type": "execute_result"
    }
   ],
   "source": [
    "df_new['fuel_type'].unique()\n"
   ]
  },
  {
   "cell_type": "code",
   "execution_count": 917,
   "id": "fd8ab7e6-905e-4698-bd28-906ec89a7639",
   "metadata": {},
   "outputs": [
    {
     "name": "stderr",
     "output_type": "stream",
     "text": [
      "C:\\Users\\temir\\AppData\\Local\\Temp\\ipykernel_5672\\1024179672.py:1: SettingWithCopyWarning: \n",
      "A value is trying to be set on a copy of a slice from a DataFrame.\n",
      "Try using .loc[row_indexer,col_indexer] = value instead\n",
      "\n",
      "See the caveats in the documentation: https://pandas.pydata.org/pandas-docs/stable/user_guide/indexing.html#returning-a-view-versus-a-copy\n",
      "  df_new['fuel_type'] = df_new['fuel_type'].fillna('бензин')\n"
     ]
    }
   ],
   "source": [
    "df_new['fuel_type'] = df_new['fuel_type'].fillna('бензин')"
   ]
  },
  {
   "cell_type": "code",
   "execution_count": 918,
   "id": "0150449b-cb3c-4b6f-ad49-d9931c584133",
   "metadata": {},
   "outputs": [
    {
     "data": {
      "text/plain": [
       "array(['бензин', 'дизель', 'газ-бензин', 'Электрический', 'гибрид', 'газ'],\n",
       "      dtype=object)"
      ]
     },
     "execution_count": 918,
     "metadata": {},
     "output_type": "execute_result"
    }
   ],
   "source": [
    "df_new['fuel_type'].unique()"
   ]
  },
  {
   "cell_type": "code",
   "execution_count": 919,
   "id": "fddfb142-f5f3-4942-a0b4-e604d70d05c8",
   "metadata": {},
   "outputs": [
    {
     "name": "stdout",
     "output_type": "stream",
     "text": [
      "<class 'pandas.core.series.Series'>\n",
      "Index: 12228 entries, 0 to 84180\n",
      "Series name: fuel_type\n",
      "Non-Null Count  Dtype \n",
      "--------------  ----- \n",
      "12228 non-null  object\n",
      "dtypes: object(1)\n",
      "memory usage: 191.1+ KB\n"
     ]
    }
   ],
   "source": [
    "df_new['fuel_type'].info()"
   ]
  },
  {
   "cell_type": "code",
   "execution_count": 920,
   "id": "772247fc-a2e8-499b-bbe0-d833d4d8d33d",
   "metadata": {},
   "outputs": [
    {
     "name": "stderr",
     "output_type": "stream",
     "text": [
      "C:\\Users\\temir\\AppData\\Local\\Temp\\ipykernel_5672\\65439394.py:1: SettingWithCopyWarning: \n",
      "A value is trying to be set on a copy of a slice from a DataFrame.\n",
      "Try using .loc[row_indexer,col_indexer] = value instead\n",
      "\n",
      "See the caveats in the documentation: https://pandas.pydata.org/pandas-docs/stable/user_guide/indexing.html#returning-a-view-versus-a-copy\n",
      "  df_new['parameters_Руль'] = df_new['parameters_Руль'].apply(lambda x: 1 if x == 'Слева' else 0)\n"
     ]
    }
   ],
   "source": [
    "df_new['parameters_Руль'] = df_new['parameters_Руль'].apply(lambda x: 1 if x == 'Слева' else 0)"
   ]
  },
  {
   "cell_type": "code",
   "execution_count": 921,
   "id": "14b018f6-cddc-4d23-8bb3-ffc0d75ae837",
   "metadata": {},
   "outputs": [
    {
     "name": "stderr",
     "output_type": "stream",
     "text": [
      "C:\\Users\\temir\\AppData\\Local\\Temp\\ipykernel_5672\\1873995308.py:1: SettingWithCopyWarning: \n",
      "A value is trying to be set on a copy of a slice from a DataFrame.\n",
      "Try using .loc[row_indexer,col_indexer] = value instead\n",
      "\n",
      "See the caveats in the documentation: https://pandas.pydata.org/pandas-docs/stable/user_guide/indexing.html#returning-a-view-versus-a-copy\n",
      "  df_new['parameters_Руль'] = df_new['parameters_Руль'].fillna(1)\n"
     ]
    }
   ],
   "source": [
    "df_new['parameters_Руль'] = df_new['parameters_Руль'].fillna(1)"
   ]
  },
  {
   "cell_type": "code",
   "execution_count": 922,
   "id": "c6729325-d55a-4537-ad2e-8df0e0ad54ae",
   "metadata": {},
   "outputs": [
    {
     "name": "stdout",
     "output_type": "stream",
     "text": [
      "<class 'pandas.core.series.Series'>\n",
      "Index: 12228 entries, 0 to 84180\n",
      "Series name: parameters_Руль\n",
      "Non-Null Count  Dtype\n",
      "--------------  -----\n",
      "12228 non-null  int64\n",
      "dtypes: int64(1)\n",
      "memory usage: 191.1 KB\n"
     ]
    }
   ],
   "source": [
    "df_new['parameters_Руль'].info()"
   ]
  },
  {
   "cell_type": "code",
   "execution_count": 923,
   "id": "7c16296e-c0c8-435b-967a-38ae05e412cc",
   "metadata": {},
   "outputs": [
    {
     "data": {
      "text/plain": [
       "array([1, 0], dtype=int64)"
      ]
     },
     "execution_count": 923,
     "metadata": {},
     "output_type": "execute_result"
    }
   ],
   "source": [
    "df_new['parameters_Руль'].unique()"
   ]
  },
  {
   "cell_type": "code",
   "execution_count": 924,
   "id": "9d9bf05f-0d08-4349-b8ae-a48e5c38fe6c",
   "metadata": {},
   "outputs": [
    {
     "name": "stdout",
     "output_type": "stream",
     "text": [
      "<class 'pandas.core.frame.DataFrame'>\n",
      "Index: 12228 entries, 0 to 84180\n",
      "Data columns (total 17 columns):\n",
      " #   Column                              Non-Null Count  Dtype  \n",
      "---  ------                              --------------  -----  \n",
      " 0   name                                12228 non-null  object \n",
      " 1   isNewAuto                           12228 non-null  object \n",
      " 2   unitPrice                           12228 non-null  float64\n",
      " 3   attributes_model                    12228 non-null  object \n",
      " 4   attributes_brand                    12228 non-null  object \n",
      " 5   parameters_Кузов                    12228 non-null  object \n",
      " 6   parameters_Объем двигателя, л       6127 non-null   object \n",
      " 7   parameters_Коробка передач          6205 non-null   object \n",
      " 8   parameters_Привод                   6205 non-null   object \n",
      " 9   parameters_Руль                     12228 non-null  int64  \n",
      " 10  parameters_Растаможен в Казахстане  12228 non-null  int64  \n",
      " 11  year                                12228 non-null  Int64  \n",
      " 12  mileage                             12228 non-null  float64\n",
      " 13  Car_encoded                         12228 non-null  int32  \n",
      " 14  Body_encoded                        12228 non-null  int32  \n",
      " 15  engine_volume                       6127 non-null   float64\n",
      " 16  fuel_type                           12228 non-null  object \n",
      "dtypes: Int64(1), float64(3), int32(2), int64(2), object(9)\n",
      "memory usage: 1.6+ MB\n"
     ]
    }
   ],
   "source": [
    "df_new.info()"
   ]
  },
  {
   "cell_type": "code",
   "execution_count": 925,
   "id": "224aef23-483b-42b2-b740-845d3d2f86cb",
   "metadata": {},
   "outputs": [
    {
     "name": "stderr",
     "output_type": "stream",
     "text": [
      "C:\\Users\\temir\\AppData\\Local\\Temp\\ipykernel_5672\\541099156.py:2: SettingWithCopyWarning: \n",
      "A value is trying to be set on a copy of a slice from a DataFrame.\n",
      "Try using .loc[row_indexer,col_indexer] = value instead\n",
      "\n",
      "See the caveats in the documentation: https://pandas.pydata.org/pandas-docs/stable/user_guide/indexing.html#returning-a-view-versus-a-copy\n",
      "  df_new['engine_volume'] = df_new['engine_volume'].fillna(avg_engine_volume)\n"
     ]
    }
   ],
   "source": [
    "avg_engine_volume = df_new.groupby('year')['engine_volume'].transform('mean')\n",
    "df_new['engine_volume'] = df_new['engine_volume'].fillna(avg_engine_volume)"
   ]
  },
  {
   "cell_type": "code",
   "execution_count": 926,
   "id": "d95b94a8-a9ca-4c5f-9fbb-911d1b2916b4",
   "metadata": {},
   "outputs": [
    {
     "name": "stdout",
     "output_type": "stream",
     "text": [
      "<class 'pandas.core.series.Series'>\n",
      "Index: 12228 entries, 0 to 84180\n",
      "Series name: engine_volume\n",
      "Non-Null Count  Dtype  \n",
      "--------------  -----  \n",
      "12222 non-null  float64\n",
      "dtypes: float64(1)\n",
      "memory usage: 191.1 KB\n"
     ]
    }
   ],
   "source": [
    "df_new['engine_volume'].info()"
   ]
  },
  {
   "cell_type": "code",
   "execution_count": 927,
   "id": "bd8b5852-a497-44ab-b820-431d1838c553",
   "metadata": {},
   "outputs": [
    {
     "data": {
      "text/plain": [
       "0        5.500000\n",
       "2        1.200000\n",
       "8        2.400000\n",
       "10       2.000000\n",
       "20       2.000000\n",
       "           ...   \n",
       "84124    2.604545\n",
       "84144    2.937241\n",
       "84150    2.471622\n",
       "84166    2.211856\n",
       "84180    1.926895\n",
       "Name: engine_volume, Length: 12228, dtype: float64"
      ]
     },
     "execution_count": 927,
     "metadata": {},
     "output_type": "execute_result"
    }
   ],
   "source": [
    "df_new['engine_volume'].fillna(1.5)"
   ]
  },
  {
   "cell_type": "code",
   "execution_count": 928,
   "id": "b62d82b1-5ac7-4e43-b039-85f9df7fcc44",
   "metadata": {},
   "outputs": [
    {
     "name": "stderr",
     "output_type": "stream",
     "text": [
      "C:\\Users\\temir\\AppData\\Local\\Temp\\ipykernel_5672\\2444524687.py:1: SettingWithCopyWarning: \n",
      "A value is trying to be set on a copy of a slice from a DataFrame.\n",
      "Try using .loc[row_indexer,col_indexer] = value instead\n",
      "\n",
      "See the caveats in the documentation: https://pandas.pydata.org/pandas-docs/stable/user_guide/indexing.html#returning-a-view-versus-a-copy\n",
      "  df_new['engine_volume'] = df_new['engine_volume'].fillna(avg_engine_volume).apply(lambda x: round(x * 2) / 2 if not np.isnan(x) else x)\n"
     ]
    }
   ],
   "source": [
    "df_new['engine_volume'] = df_new['engine_volume'].fillna(avg_engine_volume).apply(lambda x: round(x * 2) / 2 if not np.isnan(x) else x)"
   ]
  },
  {
   "cell_type": "code",
   "execution_count": 929,
   "id": "d1f3f8a1-b682-42e4-8991-cb3cb661ab0e",
   "metadata": {},
   "outputs": [
    {
     "data": {
      "text/plain": [
       "engine_volume\n",
       "2.5    4308\n",
       "2.0    3436\n",
       "1.5    1816\n",
       "3.0    1681\n",
       "3.5     333\n",
       "4.5     182\n",
       "4.0     152\n",
       "1.0     115\n",
       "5.5     104\n",
       "5.0      57\n",
       "6.0      25\n",
       "6.5       9\n",
       "8.0       2\n",
       "0.5       1\n",
       "0.0       1\n",
       "Name: count, dtype: int64"
      ]
     },
     "execution_count": 929,
     "metadata": {},
     "output_type": "execute_result"
    }
   ],
   "source": [
    "df_new['engine_volume'].value_counts()"
   ]
  },
  {
   "cell_type": "code",
   "execution_count": 930,
   "id": "0d7b563a-03b6-4a07-9dac-07c380722d0f",
   "metadata": {},
   "outputs": [
    {
     "name": "stderr",
     "output_type": "stream",
     "text": [
      "C:\\Users\\temir\\AppData\\Local\\Temp\\ipykernel_5672\\3380069847.py:1: SettingWithCopyWarning: \n",
      "A value is trying to be set on a copy of a slice from a DataFrame.\n",
      "Try using .loc[row_indexer,col_indexer] = value instead\n",
      "\n",
      "See the caveats in the documentation: https://pandas.pydata.org/pandas-docs/stable/user_guide/indexing.html#returning-a-view-versus-a-copy\n",
      "  df_new['engine_volume'] = df_new['engine_volume'].fillna(2.5)\n"
     ]
    }
   ],
   "source": [
    "df_new['engine_volume'] = df_new['engine_volume'].fillna(2.5)"
   ]
  },
  {
   "cell_type": "code",
   "execution_count": 931,
   "id": "d3934e5d-d3df-48ce-8942-092383440e70",
   "metadata": {},
   "outputs": [
    {
     "name": "stdout",
     "output_type": "stream",
     "text": [
      "<class 'pandas.core.frame.DataFrame'>\n",
      "Index: 12228 entries, 0 to 84180\n",
      "Data columns (total 17 columns):\n",
      " #   Column                              Non-Null Count  Dtype  \n",
      "---  ------                              --------------  -----  \n",
      " 0   name                                12228 non-null  object \n",
      " 1   isNewAuto                           12228 non-null  object \n",
      " 2   unitPrice                           12228 non-null  float64\n",
      " 3   attributes_model                    12228 non-null  object \n",
      " 4   attributes_brand                    12228 non-null  object \n",
      " 5   parameters_Кузов                    12228 non-null  object \n",
      " 6   parameters_Объем двигателя, л       6127 non-null   object \n",
      " 7   parameters_Коробка передач          6205 non-null   object \n",
      " 8   parameters_Привод                   6205 non-null   object \n",
      " 9   parameters_Руль                     12228 non-null  int64  \n",
      " 10  parameters_Растаможен в Казахстане  12228 non-null  int64  \n",
      " 11  year                                12228 non-null  Int64  \n",
      " 12  mileage                             12228 non-null  float64\n",
      " 13  Car_encoded                         12228 non-null  int32  \n",
      " 14  Body_encoded                        12228 non-null  int32  \n",
      " 15  engine_volume                       12228 non-null  float64\n",
      " 16  fuel_type                           12228 non-null  object \n",
      "dtypes: Int64(1), float64(3), int32(2), int64(2), object(9)\n",
      "memory usage: 1.6+ MB\n"
     ]
    }
   ],
   "source": [
    "df_new.info()"
   ]
  },
  {
   "cell_type": "code",
   "execution_count": 932,
   "id": "72ab89fd-dd1c-42d4-ab06-e2c6548b7d5e",
   "metadata": {},
   "outputs": [
    {
     "data": {
      "text/plain": [
       "parameters_Привод\n",
       "Передний привод    3534\n",
       "Полный привод      2025\n",
       "Задний привод       646\n",
       "Name: count, dtype: int64"
      ]
     },
     "execution_count": 932,
     "metadata": {},
     "output_type": "execute_result"
    }
   ],
   "source": [
    "df_new['parameters_Привод'].value_counts()"
   ]
  },
  {
   "cell_type": "code",
   "execution_count": 933,
   "id": "c8345b11-9fcf-414a-ab2c-ee028a6331dc",
   "metadata": {},
   "outputs": [
    {
     "name": "stderr",
     "output_type": "stream",
     "text": [
      "C:\\Users\\temir\\AppData\\Local\\Temp\\ipykernel_5672\\3299293509.py:1: SettingWithCopyWarning: \n",
      "A value is trying to be set on a copy of a slice from a DataFrame.\n",
      "Try using .loc[row_indexer,col_indexer] = value instead\n",
      "\n",
      "See the caveats in the documentation: https://pandas.pydata.org/pandas-docs/stable/user_guide/indexing.html#returning-a-view-versus-a-copy\n",
      "  df_new['parameters_Привод'] = df_new['parameters_Привод'].apply(lambda x: 1 if x == 'Передний привод' else (0 if x == 'Полный привод' else (2 if x == 'Задний привод' else np.nan)))\n"
     ]
    }
   ],
   "source": [
    "df_new['parameters_Привод'] = df_new['parameters_Привод'].apply(lambda x: 1 if x == 'Передний привод' else (0 if x == 'Полный привод' else (2 if x == 'Задний привод' else np.nan)))"
   ]
  },
  {
   "cell_type": "code",
   "execution_count": 934,
   "id": "c8f9d760-ecc0-4e03-9d1f-e236ba3b181a",
   "metadata": {},
   "outputs": [
    {
     "data": {
      "text/plain": [
       "parameters_Привод\n",
       "1.0    3534\n",
       "0.0    2025\n",
       "2.0     646\n",
       "Name: count, dtype: int64"
      ]
     },
     "execution_count": 934,
     "metadata": {},
     "output_type": "execute_result"
    }
   ],
   "source": [
    "df_new['parameters_Привод'].value_counts()"
   ]
  },
  {
   "cell_type": "code",
   "execution_count": 935,
   "id": "f032a82d-141e-4753-bae0-723dc8d6a1f9",
   "metadata": {},
   "outputs": [
    {
     "name": "stderr",
     "output_type": "stream",
     "text": [
      "C:\\Users\\temir\\AppData\\Local\\Temp\\ipykernel_5672\\721866597.py:1: SettingWithCopyWarning: \n",
      "A value is trying to be set on a copy of a slice from a DataFrame.\n",
      "Try using .loc[row_indexer,col_indexer] = value instead\n",
      "\n",
      "See the caveats in the documentation: https://pandas.pydata.org/pandas-docs/stable/user_guide/indexing.html#returning-a-view-versus-a-copy\n",
      "  df_new['parameters_Привод'] = df_new['parameters_Привод'].astype('Int64')\n"
     ]
    }
   ],
   "source": [
    "df_new['parameters_Привод'] = df_new['parameters_Привод'].astype('Int64')"
   ]
  },
  {
   "cell_type": "code",
   "execution_count": 936,
   "id": "f4bb66b4-ee89-4ceb-b229-cba69542b478",
   "metadata": {},
   "outputs": [
    {
     "data": {
      "text/plain": [
       "parameters_Привод\n",
       "1    3534\n",
       "0    2025\n",
       "2     646\n",
       "Name: count, dtype: Int64"
      ]
     },
     "execution_count": 936,
     "metadata": {},
     "output_type": "execute_result"
    }
   ],
   "source": [
    "df_new['parameters_Привод'].value_counts()"
   ]
  },
  {
   "cell_type": "code",
   "execution_count": 937,
   "id": "c5eba562-9b91-40f4-83e9-8905a9a20f57",
   "metadata": {},
   "outputs": [],
   "source": [
    "drive_by_body = {\n",
    "    'Седан': 1,       # Передний привод (обычно)\n",
    "    'Кроссовер': 0,   # Полный привод (чаще всего)\n",
    "    'Внедорожник': 0, # Полный привод\n",
    "    'Хэтчбек': 1,     # Передний привод\n",
    "    'Минивэн': 1,     # Передний привод\n",
    "    'Универсал': 1,   # Передний привод\n",
    "    'Лифтбек': 1,     # Передний привод\n",
    "    'Пикап': 0,       # Полный привод\n",
    "    'Фургон': 1,      # Передний привод\n",
    "    'Купе': 2,        # Задний привод\n",
    "    'Кабриолет': 2,   # Задний привод\n",
    "    'Родстер': 2,     # Задний привод\n",
    "    'Микроавтобус': 1,# Передний привод\n",
    "    'Микровэн': 1,    # Передний привод\n",
    "    'Тарга': 2,       # Задний привод\n",
    "    'Фастбек': 2      # Задний привод\n",
    "}"
   ]
  },
  {
   "cell_type": "code",
   "execution_count": 938,
   "id": "61be30e7-5c39-45fb-814d-e8843b9bd0ca",
   "metadata": {},
   "outputs": [
    {
     "name": "stderr",
     "output_type": "stream",
     "text": [
      "C:\\Users\\temir\\AppData\\Local\\Temp\\ipykernel_5672\\2512737931.py:5: FutureWarning: A value is trying to be set on a copy of a DataFrame or Series through chained assignment using an inplace method.\n",
      "The behavior will change in pandas 3.0. This inplace method will never work because the intermediate object on which we are setting values always behaves as a copy.\n",
      "\n",
      "For example, when doing 'df[col].method(value, inplace=True)', try using 'df.method({col: value}, inplace=True)' or df[col] = df[col].method(value) instead, to perform the operation inplace on the original object.\n",
      "\n",
      "\n",
      "  df_new['parameters_Привод'].fillna(df_new['parameters_Привод'].mode()[0], inplace=True)\n",
      "C:\\Users\\temir\\AppData\\Local\\Temp\\ipykernel_5672\\2512737931.py:5: SettingWithCopyWarning: \n",
      "A value is trying to be set on a copy of a slice from a DataFrame\n",
      "\n",
      "See the caveats in the documentation: https://pandas.pydata.org/pandas-docs/stable/user_guide/indexing.html#returning-a-view-versus-a-copy\n",
      "  df_new['parameters_Привод'].fillna(df_new['parameters_Привод'].mode()[0], inplace=True)\n",
      "C:\\Users\\temir\\AppData\\Local\\Temp\\ipykernel_5672\\2512737931.py:8: SettingWithCopyWarning: \n",
      "A value is trying to be set on a copy of a slice from a DataFrame.\n",
      "Try using .loc[row_indexer,col_indexer] = value instead\n",
      "\n",
      "See the caveats in the documentation: https://pandas.pydata.org/pandas-docs/stable/user_guide/indexing.html#returning-a-view-versus-a-copy\n",
      "  df_new['parameters_Привод'] = df_new['parameters_Привод'].astype(int)\n"
     ]
    }
   ],
   "source": [
    "# Заполняем привод по кузову\n",
    "df_new.loc[df_new['parameters_Привод'].isna(), 'parameters_Привод'] = df_new['parameters_Кузов'].map(drive_by_body)\n",
    "\n",
    "# Заполняем оставшиеся NaN модой (наиболее частым значением)\n",
    "df_new['parameters_Привод'].fillna(df_new['parameters_Привод'].mode()[0], inplace=True)\n",
    "\n",
    "# Приводим к int\n",
    "df_new['parameters_Привод'] = df_new['parameters_Привод'].astype(int)"
   ]
  },
  {
   "cell_type": "code",
   "execution_count": 939,
   "id": "cbe08b53-854c-4d8b-ac05-934010926de9",
   "metadata": {},
   "outputs": [
    {
     "data": {
      "text/plain": [
       "parameters_Привод\n",
       "1    9557\n",
       "0    2025\n",
       "2     646\n",
       "Name: count, dtype: int64"
      ]
     },
     "execution_count": 939,
     "metadata": {},
     "output_type": "execute_result"
    }
   ],
   "source": [
    "df_new['parameters_Привод'].value_counts()"
   ]
  },
  {
   "cell_type": "code",
   "execution_count": 940,
   "id": "b3a113be-a4e9-40bd-b4d3-28ac14196ce4",
   "metadata": {},
   "outputs": [
    {
     "data": {
      "text/plain": [
       "parameters_Кузов\n",
       "Седан           8984\n",
       "Кроссовер       1312\n",
       "Внедорожник      747\n",
       "Хэтчбек          335\n",
       "Минивэн          250\n",
       "Универсал        248\n",
       "Лифтбек          129\n",
       "Пикап            119\n",
       "Фургон            53\n",
       "Купе              30\n",
       "Микроавтобус      15\n",
       "Микровэн           2\n",
       "Кабриолет          2\n",
       "Тарга              1\n",
       "Родстер            1\n",
       "Name: count, dtype: int64"
      ]
     },
     "execution_count": 940,
     "metadata": {},
     "output_type": "execute_result"
    }
   ],
   "source": [
    "df_new['parameters_Кузов'].value_counts()"
   ]
  },
  {
   "cell_type": "code",
   "execution_count": 941,
   "id": "400ba4b1-a44b-4725-b321-879e6b3065de",
   "metadata": {},
   "outputs": [
    {
     "name": "stdout",
     "output_type": "stream",
     "text": [
      "<class 'pandas.core.frame.DataFrame'>\n",
      "Index: 12228 entries, 0 to 84180\n",
      "Data columns (total 17 columns):\n",
      " #   Column                              Non-Null Count  Dtype  \n",
      "---  ------                              --------------  -----  \n",
      " 0   name                                12228 non-null  object \n",
      " 1   isNewAuto                           12228 non-null  object \n",
      " 2   unitPrice                           12228 non-null  float64\n",
      " 3   attributes_model                    12228 non-null  object \n",
      " 4   attributes_brand                    12228 non-null  object \n",
      " 5   parameters_Кузов                    12228 non-null  object \n",
      " 6   parameters_Объем двигателя, л       6127 non-null   object \n",
      " 7   parameters_Коробка передач          6205 non-null   object \n",
      " 8   parameters_Привод                   12228 non-null  int32  \n",
      " 9   parameters_Руль                     12228 non-null  int64  \n",
      " 10  parameters_Растаможен в Казахстане  12228 non-null  int64  \n",
      " 11  year                                12228 non-null  Int64  \n",
      " 12  mileage                             12228 non-null  float64\n",
      " 13  Car_encoded                         12228 non-null  int32  \n",
      " 14  Body_encoded                        12228 non-null  int32  \n",
      " 15  engine_volume                       12228 non-null  float64\n",
      " 16  fuel_type                           12228 non-null  object \n",
      "dtypes: Int64(1), float64(3), int32(3), int64(2), object(8)\n",
      "memory usage: 1.8+ MB\n"
     ]
    }
   ],
   "source": [
    "df_new.info()"
   ]
  },
  {
   "cell_type": "code",
   "execution_count": 942,
   "id": "eba78e71-340b-43c2-8ce6-decca3d9e720",
   "metadata": {},
   "outputs": [
    {
     "data": {
      "text/plain": [
       "parameters_Коробка передач\n",
       "Автомат     4207\n",
       "Механика    1395\n",
       "Вариатор     399\n",
       "Робот        204\n",
       "Name: count, dtype: int64"
      ]
     },
     "execution_count": 942,
     "metadata": {},
     "output_type": "execute_result"
    }
   ],
   "source": [
    "df_new['parameters_Коробка передач'].value_counts()"
   ]
  },
  {
   "cell_type": "code",
   "execution_count": 943,
   "id": "4e62b9c3-f645-4078-bdd9-ea8b0311d849",
   "metadata": {},
   "outputs": [
    {
     "name": "stderr",
     "output_type": "stream",
     "text": [
      "C:\\Users\\temir\\AppData\\Local\\Temp\\ipykernel_5672\\3303108302.py:1: SettingWithCopyWarning: \n",
      "A value is trying to be set on a copy of a slice from a DataFrame.\n",
      "Try using .loc[row_indexer,col_indexer] = value instead\n",
      "\n",
      "See the caveats in the documentation: https://pandas.pydata.org/pandas-docs/stable/user_guide/indexing.html#returning-a-view-versus-a-copy\n",
      "  df_new['parameters_Коробка передач'] = df_new['parameters_Коробка передач'].apply(\n",
      "C:\\Users\\temir\\AppData\\Local\\Temp\\ipykernel_5672\\3303108302.py:7: SettingWithCopyWarning: \n",
      "A value is trying to be set on a copy of a slice from a DataFrame.\n",
      "Try using .loc[row_indexer,col_indexer] = value instead\n",
      "\n",
      "See the caveats in the documentation: https://pandas.pydata.org/pandas-docs/stable/user_guide/indexing.html#returning-a-view-versus-a-copy\n",
      "  df_new['parameters_Коробка передач'] = df_new['parameters_Коробка передач'].astype('Int64')\n"
     ]
    }
   ],
   "source": [
    "df_new['parameters_Коробка передач'] = df_new['parameters_Коробка передач'].apply(\n",
    "    lambda x: 0 if x == 'Механика' else \n",
    "              1 if x == 'Автомат' else \n",
    "              2 if x == 'Вариатор' else \n",
    "              3 if x == 'Робот' else np.nan\n",
    ")\n",
    "df_new['parameters_Коробка передач'] = df_new['parameters_Коробка передач'].astype('Int64')"
   ]
  },
  {
   "cell_type": "code",
   "execution_count": 944,
   "id": "853d0f72-4086-46fb-87f5-415f7b5cc1bd",
   "metadata": {},
   "outputs": [
    {
     "data": {
      "text/plain": [
       "parameters_Коробка передач\n",
       "1    4207\n",
       "0    1395\n",
       "2     399\n",
       "3     204\n",
       "Name: count, dtype: Int64"
      ]
     },
     "execution_count": 944,
     "metadata": {},
     "output_type": "execute_result"
    }
   ],
   "source": [
    "df_new['parameters_Коробка передач'].value_counts()"
   ]
  },
  {
   "cell_type": "code",
   "execution_count": 945,
   "id": "90959515-34b0-4b03-8208-65ff1daad2dc",
   "metadata": {},
   "outputs": [
    {
     "name": "stderr",
     "output_type": "stream",
     "text": [
      "C:\\Users\\temir\\AppData\\Local\\Temp\\ipykernel_5672\\3831136712.py:1: SettingWithCopyWarning: \n",
      "A value is trying to be set on a copy of a slice from a DataFrame.\n",
      "Try using .loc[row_indexer,col_indexer] = value instead\n",
      "\n",
      "See the caveats in the documentation: https://pandas.pydata.org/pandas-docs/stable/user_guide/indexing.html#returning-a-view-versus-a-copy\n",
      "  df_new['parameters_Коробка передач'] = df_new.groupby('parameters_Кузов')['parameters_Коробка передач'].transform(lambda x: x.fillna(x.mode()[0] if not x.mode().empty else np.nan))\n"
     ]
    }
   ],
   "source": [
    "df_new['parameters_Коробка передач'] = df_new.groupby('parameters_Кузов')['parameters_Коробка передач'].transform(lambda x: x.fillna(x.mode()[0] if not x.mode().empty else np.nan))\n"
   ]
  },
  {
   "cell_type": "code",
   "execution_count": 946,
   "id": "a9bb62df-25f6-4a62-af0c-5da7c6dd3e33",
   "metadata": {},
   "outputs": [
    {
     "data": {
      "text/plain": [
       "parameters_Коробка передач\n",
       "1    10230\n",
       "0     1395\n",
       "2      399\n",
       "3      204\n",
       "Name: count, dtype: Int64"
      ]
     },
     "execution_count": 946,
     "metadata": {},
     "output_type": "execute_result"
    }
   ],
   "source": [
    "df_new['parameters_Коробка передач'].value_counts()"
   ]
  },
  {
   "cell_type": "code",
   "execution_count": 947,
   "id": "a04c88a9-9355-4b51-823f-1ce8e1ef334a",
   "metadata": {},
   "outputs": [
    {
     "name": "stdout",
     "output_type": "stream",
     "text": [
      "<class 'pandas.core.series.Series'>\n",
      "Index: 12228 entries, 0 to 84180\n",
      "Series name: parameters_Коробка передач\n",
      "Non-Null Count  Dtype\n",
      "--------------  -----\n",
      "12228 non-null  Int64\n",
      "dtypes: Int64(1)\n",
      "memory usage: 461.0 KB\n"
     ]
    }
   ],
   "source": [
    "df_new['parameters_Коробка передач'].info()"
   ]
  },
  {
   "cell_type": "code",
   "execution_count": 948,
   "id": "a5d52ebb-ccc1-4aeb-963a-5b6d31eff066",
   "metadata": {},
   "outputs": [
    {
     "name": "stdout",
     "output_type": "stream",
     "text": [
      "<class 'pandas.core.frame.DataFrame'>\n",
      "Index: 12228 entries, 0 to 84180\n",
      "Data columns (total 17 columns):\n",
      " #   Column                              Non-Null Count  Dtype  \n",
      "---  ------                              --------------  -----  \n",
      " 0   name                                12228 non-null  object \n",
      " 1   isNewAuto                           12228 non-null  object \n",
      " 2   unitPrice                           12228 non-null  float64\n",
      " 3   attributes_model                    12228 non-null  object \n",
      " 4   attributes_brand                    12228 non-null  object \n",
      " 5   parameters_Кузов                    12228 non-null  object \n",
      " 6   parameters_Объем двигателя, л       6127 non-null   object \n",
      " 7   parameters_Коробка передач          12228 non-null  Int64  \n",
      " 8   parameters_Привод                   12228 non-null  int32  \n",
      " 9   parameters_Руль                     12228 non-null  int64  \n",
      " 10  parameters_Растаможен в Казахстане  12228 non-null  int64  \n",
      " 11  year                                12228 non-null  Int64  \n",
      " 12  mileage                             12228 non-null  float64\n",
      " 13  Car_encoded                         12228 non-null  int32  \n",
      " 14  Body_encoded                        12228 non-null  int32  \n",
      " 15  engine_volume                       12228 non-null  float64\n",
      " 16  fuel_type                           12228 non-null  object \n",
      "dtypes: Int64(2), float64(3), int32(3), int64(2), object(7)\n",
      "memory usage: 1.8+ MB\n"
     ]
    }
   ],
   "source": [
    "df_new.info()"
   ]
  },
  {
   "cell_type": "code",
   "execution_count": 949,
   "id": "a8354bda-d4b9-4594-9132-1610e706f54b",
   "metadata": {},
   "outputs": [
    {
     "name": "stderr",
     "output_type": "stream",
     "text": [
      "C:\\Users\\temir\\AppData\\Local\\Temp\\ipykernel_5672\\1451867764.py:1: SettingWithCopyWarning: \n",
      "A value is trying to be set on a copy of a slice from a DataFrame\n",
      "\n",
      "See the caveats in the documentation: https://pandas.pydata.org/pandas-docs/stable/user_guide/indexing.html#returning-a-view-versus-a-copy\n",
      "  df_new.drop(columns=['parameters_Объем двигателя, л'], inplace=True)\n"
     ]
    }
   ],
   "source": [
    "df_new.drop(columns=['parameters_Объем двигателя, л'], inplace=True)"
   ]
  },
  {
   "cell_type": "code",
   "execution_count": 950,
   "id": "8593f294-711b-48e3-9afa-0f9975c5bce6",
   "metadata": {},
   "outputs": [
    {
     "name": "stdout",
     "output_type": "stream",
     "text": [
      "<class 'pandas.core.frame.DataFrame'>\n",
      "Index: 12228 entries, 0 to 84180\n",
      "Data columns (total 16 columns):\n",
      " #   Column                              Non-Null Count  Dtype  \n",
      "---  ------                              --------------  -----  \n",
      " 0   name                                12228 non-null  object \n",
      " 1   isNewAuto                           12228 non-null  object \n",
      " 2   unitPrice                           12228 non-null  float64\n",
      " 3   attributes_model                    12228 non-null  object \n",
      " 4   attributes_brand                    12228 non-null  object \n",
      " 5   parameters_Кузов                    12228 non-null  object \n",
      " 6   parameters_Коробка передач          12228 non-null  Int64  \n",
      " 7   parameters_Привод                   12228 non-null  int32  \n",
      " 8   parameters_Руль                     12228 non-null  int64  \n",
      " 9   parameters_Растаможен в Казахстане  12228 non-null  int64  \n",
      " 10  year                                12228 non-null  Int64  \n",
      " 11  mileage                             12228 non-null  float64\n",
      " 12  Car_encoded                         12228 non-null  int32  \n",
      " 13  Body_encoded                        12228 non-null  int32  \n",
      " 14  engine_volume                       12228 non-null  float64\n",
      " 15  fuel_type                           12228 non-null  object \n",
      "dtypes: Int64(2), float64(3), int32(3), int64(2), object(6)\n",
      "memory usage: 1.7+ MB\n"
     ]
    }
   ],
   "source": [
    "df_new.info()"
   ]
  },
  {
   "cell_type": "code",
   "execution_count": 951,
   "id": "56f3bfc6-e8fc-48fb-a771-d2aee35e4420",
   "metadata": {},
   "outputs": [
    {
     "data": {
      "text/plain": [
       "parameters_Кузов\n",
       "Седан           8984\n",
       "Кроссовер       1312\n",
       "Внедорожник      747\n",
       "Хэтчбек          335\n",
       "Минивэн          250\n",
       "Универсал        248\n",
       "Лифтбек          129\n",
       "Пикап            119\n",
       "Фургон            53\n",
       "Купе              30\n",
       "Микроавтобус      15\n",
       "Микровэн           2\n",
       "Кабриолет          2\n",
       "Тарга              1\n",
       "Родстер            1\n",
       "Name: count, dtype: int64"
      ]
     },
     "execution_count": 951,
     "metadata": {},
     "output_type": "execute_result"
    }
   ],
   "source": [
    "df_new['parameters_Кузов'].value_counts()"
   ]
  },
  {
   "cell_type": "code",
   "execution_count": 952,
   "id": "558b457b-a6b2-45bb-87a6-784fec098be8",
   "metadata": {},
   "outputs": [
    {
     "data": {
      "text/plain": [
       "isNewAuto\n",
       "False    11428\n",
       "True       800\n",
       "Name: count, dtype: int64"
      ]
     },
     "execution_count": 952,
     "metadata": {},
     "output_type": "execute_result"
    }
   ],
   "source": [
    "df_new['isNewAuto'].value_counts()"
   ]
  },
  {
   "cell_type": "code",
   "execution_count": 953,
   "id": "bb998ae3-b443-48af-b244-c9424cc12155",
   "metadata": {},
   "outputs": [
    {
     "name": "stderr",
     "output_type": "stream",
     "text": [
      "C:\\Users\\temir\\AppData\\Local\\Temp\\ipykernel_5672\\3451129360.py:1: SettingWithCopyWarning: \n",
      "A value is trying to be set on a copy of a slice from a DataFrame.\n",
      "Try using .loc[row_indexer,col_indexer] = value instead\n",
      "\n",
      "See the caveats in the documentation: https://pandas.pydata.org/pandas-docs/stable/user_guide/indexing.html#returning-a-view-versus-a-copy\n",
      "  df_new['isNewAuto'] = df_new['isNewAuto'].apply(lambda x: 0 if x == False else 1 if x == True else np.nan)\n"
     ]
    }
   ],
   "source": [
    "df_new['isNewAuto'] = df_new['isNewAuto'].apply(lambda x: 0 if x == False else 1 if x == True else np.nan)"
   ]
  },
  {
   "cell_type": "code",
   "execution_count": 954,
   "id": "a6697fca-1d91-485d-85e2-06421f03e68f",
   "metadata": {},
   "outputs": [
    {
     "data": {
      "text/plain": [
       "isNewAuto\n",
       "0    11428\n",
       "1      800\n",
       "Name: count, dtype: int64"
      ]
     },
     "execution_count": 954,
     "metadata": {},
     "output_type": "execute_result"
    }
   ],
   "source": [
    "df_new['isNewAuto'].value_counts()"
   ]
  },
  {
   "cell_type": "code",
   "execution_count": 955,
   "id": "cb656948-227d-42e4-b317-35c307c9554f",
   "metadata": {},
   "outputs": [
    {
     "name": "stdout",
     "output_type": "stream",
     "text": [
      "<class 'pandas.core.frame.DataFrame'>\n",
      "Index: 12228 entries, 0 to 84180\n",
      "Data columns (total 16 columns):\n",
      " #   Column                              Non-Null Count  Dtype  \n",
      "---  ------                              --------------  -----  \n",
      " 0   name                                12228 non-null  object \n",
      " 1   isNewAuto                           12228 non-null  int64  \n",
      " 2   unitPrice                           12228 non-null  float64\n",
      " 3   attributes_model                    12228 non-null  object \n",
      " 4   attributes_brand                    12228 non-null  object \n",
      " 5   parameters_Кузов                    12228 non-null  object \n",
      " 6   parameters_Коробка передач          12228 non-null  Int64  \n",
      " 7   parameters_Привод                   12228 non-null  int32  \n",
      " 8   parameters_Руль                     12228 non-null  int64  \n",
      " 9   parameters_Растаможен в Казахстане  12228 non-null  int64  \n",
      " 10  year                                12228 non-null  Int64  \n",
      " 11  mileage                             12228 non-null  float64\n",
      " 12  Car_encoded                         12228 non-null  int32  \n",
      " 13  Body_encoded                        12228 non-null  int32  \n",
      " 14  engine_volume                       12228 non-null  float64\n",
      " 15  fuel_type                           12228 non-null  object \n",
      "dtypes: Int64(2), float64(3), int32(3), int64(3), object(5)\n",
      "memory usage: 1.7+ MB\n"
     ]
    }
   ],
   "source": [
    "df_new.info()"
   ]
  },
  {
   "cell_type": "code",
   "execution_count": 956,
   "id": "4a239470-3fd2-40ef-bce7-729ebc6fe96a",
   "metadata": {},
   "outputs": [
    {
     "name": "stderr",
     "output_type": "stream",
     "text": [
      "C:\\Users\\temir\\AppData\\Local\\Temp\\ipykernel_5672\\3521230847.py:1: SettingWithCopyWarning: \n",
      "A value is trying to be set on a copy of a slice from a DataFrame\n",
      "\n",
      "See the caveats in the documentation: https://pandas.pydata.org/pandas-docs/stable/user_guide/indexing.html#returning-a-view-versus-a-copy\n",
      "  df_new.drop(columns=['parameters_Кузов'], axis=1, inplace=True)\n"
     ]
    }
   ],
   "source": [
    "df_new.drop(columns=['parameters_Кузов'], axis=1, inplace=True)"
   ]
  },
  {
   "cell_type": "code",
   "execution_count": 957,
   "id": "cb84bf80-8c49-4118-8895-6be288e631ff",
   "metadata": {},
   "outputs": [],
   "source": [
    "df_new = df_new.drop(columns=['name'], axis=1)"
   ]
  },
  {
   "cell_type": "code",
   "execution_count": 958,
   "id": "967d728a-7468-44cf-b4a8-f0d08237ba42",
   "metadata": {},
   "outputs": [
    {
     "name": "stdout",
     "output_type": "stream",
     "text": [
      "<class 'pandas.core.frame.DataFrame'>\n",
      "Index: 12228 entries, 0 to 84180\n",
      "Data columns (total 14 columns):\n",
      " #   Column                              Non-Null Count  Dtype  \n",
      "---  ------                              --------------  -----  \n",
      " 0   isNewAuto                           12228 non-null  int64  \n",
      " 1   unitPrice                           12228 non-null  float64\n",
      " 2   attributes_model                    12228 non-null  object \n",
      " 3   attributes_brand                    12228 non-null  object \n",
      " 4   parameters_Коробка передач          12228 non-null  Int64  \n",
      " 5   parameters_Привод                   12228 non-null  int32  \n",
      " 6   parameters_Руль                     12228 non-null  int64  \n",
      " 7   parameters_Растаможен в Казахстане  12228 non-null  int64  \n",
      " 8   year                                12228 non-null  Int64  \n",
      " 9   mileage                             12228 non-null  float64\n",
      " 10  Car_encoded                         12228 non-null  int32  \n",
      " 11  Body_encoded                        12228 non-null  int32  \n",
      " 12  engine_volume                       12228 non-null  float64\n",
      " 13  fuel_type                           12228 non-null  object \n",
      "dtypes: Int64(2), float64(3), int32(3), int64(3), object(3)\n",
      "memory usage: 1.5+ MB\n"
     ]
    }
   ],
   "source": [
    "df_new.info()"
   ]
  },
  {
   "cell_type": "code",
   "execution_count": 959,
   "id": "062d5f4d-6fb9-48b1-bdd3-968c6a241347",
   "metadata": {},
   "outputs": [
    {
     "data": {
      "text/plain": [
       "fuel_type\n",
       "бензин           11599\n",
       "гибрид             192\n",
       "дизель             178\n",
       "газ-бензин         135\n",
       "Электрический       78\n",
       "газ                 46\n",
       "Name: count, dtype: int64"
      ]
     },
     "execution_count": 959,
     "metadata": {},
     "output_type": "execute_result"
    }
   ],
   "source": [
    "df_new['fuel_type'].value_counts()"
   ]
  },
  {
   "cell_type": "code",
   "execution_count": 960,
   "id": "bc3b676d-4b34-481e-aa04-8cbcc593ddcf",
   "metadata": {},
   "outputs": [],
   "source": [
    "fuel_mapping = {\n",
    "    'бензин': 0,\n",
    "    'дизель': 1,\n",
    "    'гибрид': 2,\n",
    "    'газ-бензин': 3,\n",
    "    'Электрический': 4,\n",
    "    'газ': 5\n",
    "}\n",
    "\n",
    "df_new['fuel_type'] = df_new['fuel_type'].apply(lambda x: fuel_mapping.get(x, np.nan))"
   ]
  },
  {
   "cell_type": "code",
   "execution_count": 961,
   "id": "8352a3f1-704f-427b-a15e-7b27f1a052ed",
   "metadata": {},
   "outputs": [
    {
     "data": {
      "text/plain": [
       "fuel_type\n",
       "0    11599\n",
       "2      192\n",
       "1      178\n",
       "3      135\n",
       "4       78\n",
       "5       46\n",
       "Name: count, dtype: int64"
      ]
     },
     "execution_count": 961,
     "metadata": {},
     "output_type": "execute_result"
    }
   ],
   "source": [
    "df_new['fuel_type'].value_counts()"
   ]
  },
  {
   "cell_type": "code",
   "execution_count": 962,
   "id": "3ca20efa-ad43-43d1-8736-410515f99ea2",
   "metadata": {},
   "outputs": [
    {
     "name": "stdout",
     "output_type": "stream",
     "text": [
      "<class 'pandas.core.frame.DataFrame'>\n",
      "Index: 12228 entries, 0 to 84180\n",
      "Data columns (total 14 columns):\n",
      " #   Column                              Non-Null Count  Dtype  \n",
      "---  ------                              --------------  -----  \n",
      " 0   isNewAuto                           12228 non-null  int64  \n",
      " 1   unitPrice                           12228 non-null  float64\n",
      " 2   attributes_model                    12228 non-null  object \n",
      " 3   attributes_brand                    12228 non-null  object \n",
      " 4   parameters_Коробка передач          12228 non-null  Int64  \n",
      " 5   parameters_Привод                   12228 non-null  int32  \n",
      " 6   parameters_Руль                     12228 non-null  int64  \n",
      " 7   parameters_Растаможен в Казахстане  12228 non-null  int64  \n",
      " 8   year                                12228 non-null  Int64  \n",
      " 9   mileage                             12228 non-null  float64\n",
      " 10  Car_encoded                         12228 non-null  int32  \n",
      " 11  Body_encoded                        12228 non-null  int32  \n",
      " 12  engine_volume                       12228 non-null  float64\n",
      " 13  fuel_type                           12228 non-null  int64  \n",
      "dtypes: Int64(2), float64(3), int32(3), int64(4), object(2)\n",
      "memory usage: 1.5+ MB\n"
     ]
    }
   ],
   "source": [
    "df_new.info()"
   ]
  },
  {
   "cell_type": "code",
   "execution_count": 963,
   "id": "12973265-3ed9-440b-828f-a2e20e4ae37d",
   "metadata": {},
   "outputs": [
    {
     "data": {
      "text/html": [
       "<div>\n",
       "<style scoped>\n",
       "    .dataframe tbody tr th:only-of-type {\n",
       "        vertical-align: middle;\n",
       "    }\n",
       "\n",
       "    .dataframe tbody tr th {\n",
       "        vertical-align: top;\n",
       "    }\n",
       "\n",
       "    .dataframe thead th {\n",
       "        text-align: right;\n",
       "    }\n",
       "</style>\n",
       "<table border=\"1\" class=\"dataframe\">\n",
       "  <thead>\n",
       "    <tr style=\"text-align: right;\">\n",
       "      <th></th>\n",
       "      <th>isNewAuto</th>\n",
       "      <th>unitPrice</th>\n",
       "      <th>parameters_Коробка передач</th>\n",
       "      <th>parameters_Привод</th>\n",
       "      <th>parameters_Руль</th>\n",
       "      <th>parameters_Растаможен в Казахстане</th>\n",
       "      <th>year</th>\n",
       "      <th>mileage</th>\n",
       "      <th>Car_encoded</th>\n",
       "      <th>Body_encoded</th>\n",
       "      <th>engine_volume</th>\n",
       "      <th>fuel_type</th>\n",
       "    </tr>\n",
       "  </thead>\n",
       "  <tbody>\n",
       "    <tr>\n",
       "      <th>count</th>\n",
       "      <td>12228.000000</td>\n",
       "      <td>1.222800e+04</td>\n",
       "      <td>12228.0</td>\n",
       "      <td>12228.000000</td>\n",
       "      <td>12228.000000</td>\n",
       "      <td>12228.000000</td>\n",
       "      <td>12228.0</td>\n",
       "      <td>1.222800e+04</td>\n",
       "      <td>12228.000000</td>\n",
       "      <td>12228.000000</td>\n",
       "      <td>12228.000000</td>\n",
       "      <td>12228.000000</td>\n",
       "    </tr>\n",
       "    <tr>\n",
       "      <th>mean</th>\n",
       "      <td>0.065424</td>\n",
       "      <td>1.458930e+07</td>\n",
       "      <td>0.951914</td>\n",
       "      <td>0.887226</td>\n",
       "      <td>0.484135</td>\n",
       "      <td>0.491904</td>\n",
       "      <td>2012.505152</td>\n",
       "      <td>1.565075e+05</td>\n",
       "      <td>448.897776</td>\n",
       "      <td>8.524370</td>\n",
       "      <td>2.389066</td>\n",
       "      <td>0.123405</td>\n",
       "    </tr>\n",
       "    <tr>\n",
       "      <th>std</th>\n",
       "      <td>0.247282</td>\n",
       "      <td>5.592165e+07</td>\n",
       "      <td>0.45951</td>\n",
       "      <td>0.453577</td>\n",
       "      <td>0.499769</td>\n",
       "      <td>0.499955</td>\n",
       "      <td>9.818808</td>\n",
       "      <td>1.112995e+05</td>\n",
       "      <td>232.564193</td>\n",
       "      <td>3.482442</td>\n",
       "      <td>0.724602</td>\n",
       "      <td>0.598024</td>\n",
       "    </tr>\n",
       "    <tr>\n",
       "      <th>min</th>\n",
       "      <td>0.000000</td>\n",
       "      <td>1.000000e+05</td>\n",
       "      <td>0.0</td>\n",
       "      <td>0.000000</td>\n",
       "      <td>0.000000</td>\n",
       "      <td>0.000000</td>\n",
       "      <td>1962.0</td>\n",
       "      <td>0.000000e+00</td>\n",
       "      <td>0.000000</td>\n",
       "      <td>0.000000</td>\n",
       "      <td>0.000000</td>\n",
       "      <td>0.000000</td>\n",
       "    </tr>\n",
       "    <tr>\n",
       "      <th>25%</th>\n",
       "      <td>0.000000</td>\n",
       "      <td>3.980000e+06</td>\n",
       "      <td>1.0</td>\n",
       "      <td>1.000000</td>\n",
       "      <td>0.000000</td>\n",
       "      <td>0.000000</td>\n",
       "      <td>2006.0</td>\n",
       "      <td>6.200000e+04</td>\n",
       "      <td>247.000000</td>\n",
       "      <td>10.000000</td>\n",
       "      <td>2.000000</td>\n",
       "      <td>0.000000</td>\n",
       "    </tr>\n",
       "    <tr>\n",
       "      <th>50%</th>\n",
       "      <td>0.000000</td>\n",
       "      <td>7.600000e+06</td>\n",
       "      <td>1.0</td>\n",
       "      <td>1.000000</td>\n",
       "      <td>0.000000</td>\n",
       "      <td>0.000000</td>\n",
       "      <td>2014.0</td>\n",
       "      <td>1.652026e+05</td>\n",
       "      <td>468.000000</td>\n",
       "      <td>10.000000</td>\n",
       "      <td>2.500000</td>\n",
       "      <td>0.000000</td>\n",
       "    </tr>\n",
       "    <tr>\n",
       "      <th>75%</th>\n",
       "      <td>0.000000</td>\n",
       "      <td>1.307250e+07</td>\n",
       "      <td>1.0</td>\n",
       "      <td>1.000000</td>\n",
       "      <td>1.000000</td>\n",
       "      <td>1.000000</td>\n",
       "      <td>2021.0</td>\n",
       "      <td>2.389509e+05</td>\n",
       "      <td>656.000000</td>\n",
       "      <td>10.000000</td>\n",
       "      <td>2.500000</td>\n",
       "      <td>0.000000</td>\n",
       "    </tr>\n",
       "    <tr>\n",
       "      <th>max</th>\n",
       "      <td>1.000000</td>\n",
       "      <td>2.000000e+09</td>\n",
       "      <td>3.0</td>\n",
       "      <td>2.000000</td>\n",
       "      <td>1.000000</td>\n",
       "      <td>1.000000</td>\n",
       "      <td>2025.0</td>\n",
       "      <td>1.250665e+06</td>\n",
       "      <td>779.000000</td>\n",
       "      <td>14.000000</td>\n",
       "      <td>8.000000</td>\n",
       "      <td>5.000000</td>\n",
       "    </tr>\n",
       "  </tbody>\n",
       "</table>\n",
       "</div>"
      ],
      "text/plain": [
       "          isNewAuto     unitPrice  parameters_Коробка передач  \\\n",
       "count  12228.000000  1.222800e+04                     12228.0   \n",
       "mean       0.065424  1.458930e+07                    0.951914   \n",
       "std        0.247282  5.592165e+07                     0.45951   \n",
       "min        0.000000  1.000000e+05                         0.0   \n",
       "25%        0.000000  3.980000e+06                         1.0   \n",
       "50%        0.000000  7.600000e+06                         1.0   \n",
       "75%        0.000000  1.307250e+07                         1.0   \n",
       "max        1.000000  2.000000e+09                         3.0   \n",
       "\n",
       "       parameters_Привод  parameters_Руль  parameters_Растаможен в Казахстане  \\\n",
       "count       12228.000000     12228.000000                        12228.000000   \n",
       "mean            0.887226         0.484135                            0.491904   \n",
       "std             0.453577         0.499769                            0.499955   \n",
       "min             0.000000         0.000000                            0.000000   \n",
       "25%             1.000000         0.000000                            0.000000   \n",
       "50%             1.000000         0.000000                            0.000000   \n",
       "75%             1.000000         1.000000                            1.000000   \n",
       "max             2.000000         1.000000                            1.000000   \n",
       "\n",
       "              year       mileage   Car_encoded  Body_encoded  engine_volume  \\\n",
       "count      12228.0  1.222800e+04  12228.000000  12228.000000   12228.000000   \n",
       "mean   2012.505152  1.565075e+05    448.897776      8.524370       2.389066   \n",
       "std       9.818808  1.112995e+05    232.564193      3.482442       0.724602   \n",
       "min         1962.0  0.000000e+00      0.000000      0.000000       0.000000   \n",
       "25%         2006.0  6.200000e+04    247.000000     10.000000       2.000000   \n",
       "50%         2014.0  1.652026e+05    468.000000     10.000000       2.500000   \n",
       "75%         2021.0  2.389509e+05    656.000000     10.000000       2.500000   \n",
       "max         2025.0  1.250665e+06    779.000000     14.000000       8.000000   \n",
       "\n",
       "          fuel_type  \n",
       "count  12228.000000  \n",
       "mean       0.123405  \n",
       "std        0.598024  \n",
       "min        0.000000  \n",
       "25%        0.000000  \n",
       "50%        0.000000  \n",
       "75%        0.000000  \n",
       "max        5.000000  "
      ]
     },
     "execution_count": 963,
     "metadata": {},
     "output_type": "execute_result"
    }
   ],
   "source": [
    "df_new.describe()"
   ]
  },
  {
   "cell_type": "code",
   "execution_count": 964,
   "id": "3c88b909-93c6-4bb5-87b6-429713ae86c8",
   "metadata": {},
   "outputs": [
    {
     "data": {
      "image/png": "[encoded data removed]",
      "text/plain": [
       "<Figure size 1000x600 with 1 Axes>"
      ]
     },
     "metadata": {},
     "output_type": "display_data"
    }
   ],
   "source": [
    "import matplotlib.pyplot as plt\n",
    "import seaborn as sns\n",
    "\n",
    "plt.figure(figsize=(10, 6))\n",
    "sns.boxplot(data=df_new[['unitPrice']])  # Подставь нужный столбец\n",
    "plt.title('Выбросы в целевой переменной')\n",
    "plt.show()\n"
   ]
  },
  {
   "cell_type": "code",
   "execution_count": 965,
   "id": "28a58fd5-95ad-459c-b50a-50f61d28ecdd",
   "metadata": {},
   "outputs": [],
   "source": [
    "Q1 = df_new['unitPrice'].quantile(0.25)  \n",
    "Q3 = df_new['unitPrice'].quantile(0.75)  \n",
    "df_new = df_new[(df_new['unitPrice'] >= Q1) & (df_new['unitPrice'] <= Q3)]"
   ]
  },
  {
   "cell_type": "code",
   "execution_count": 966,
   "id": "574ae2a9-d6e5-4f90-a27f-cda5a588279e",
   "metadata": {},
   "outputs": [
    {
     "data": {
      "image/png": "[encoded data removed]",
      "text/plain": [
       "<Figure size 1000x600 with 1 Axes>"
      ]
     },
     "metadata": {},
     "output_type": "display_data"
    }
   ],
   "source": [
    "plt.figure(figsize=(10, 6))\n",
    "sns.boxplot(data=df_new[['unitPrice']])  # Подставь нужный столбец\n",
    "plt.title('Выбросы в целевой переменной')\n",
    "plt.show()\n"
   ]
  },
  {
   "cell_type": "code",
   "execution_count": 967,
   "id": "ec12ed96-4eeb-4014-827d-fec4685c78e8",
   "metadata": {
    "scrolled": true
   },
   "outputs": [
    {
     "data": {
      "text/html": [
       "<div>\n",
       "<style scoped>\n",
       "    .dataframe tbody tr th:only-of-type {\n",
       "        vertical-align: middle;\n",
       "    }\n",
       "\n",
       "    .dataframe tbody tr th {\n",
       "        vertical-align: top;\n",
       "    }\n",
       "\n",
       "    .dataframe thead th {\n",
       "        text-align: right;\n",
       "    }\n",
       "</style>\n",
       "<table border=\"1\" class=\"dataframe\">\n",
       "  <thead>\n",
       "    <tr style=\"text-align: right;\">\n",
       "      <th></th>\n",
       "      <th>isNewAuto</th>\n",
       "      <th>unitPrice</th>\n",
       "      <th>parameters_Коробка передач</th>\n",
       "      <th>parameters_Привод</th>\n",
       "      <th>parameters_Руль</th>\n",
       "      <th>parameters_Растаможен в Казахстане</th>\n",
       "      <th>year</th>\n",
       "      <th>mileage</th>\n",
       "      <th>Car_encoded</th>\n",
       "      <th>Body_encoded</th>\n",
       "      <th>engine_volume</th>\n",
       "      <th>fuel_type</th>\n",
       "    </tr>\n",
       "  </thead>\n",
       "  <tbody>\n",
       "    <tr>\n",
       "      <th>count</th>\n",
       "      <td>6115.00000</td>\n",
       "      <td>6.115000e+03</td>\n",
       "      <td>6115.0</td>\n",
       "      <td>6115.000000</td>\n",
       "      <td>6115.000000</td>\n",
       "      <td>6115.000000</td>\n",
       "      <td>6115.0</td>\n",
       "      <td>6.115000e+03</td>\n",
       "      <td>6115.000000</td>\n",
       "      <td>6115.000000</td>\n",
       "      <td>6115.000000</td>\n",
       "      <td>6115.000000</td>\n",
       "    </tr>\n",
       "    <tr>\n",
       "      <th>mean</th>\n",
       "      <td>0.04399</td>\n",
       "      <td>7.932117e+06</td>\n",
       "      <td>1.036958</td>\n",
       "      <td>0.918888</td>\n",
       "      <td>0.489779</td>\n",
       "      <td>0.494522</td>\n",
       "      <td>2014.264759</td>\n",
       "      <td>1.508229e+05</td>\n",
       "      <td>430.308422</td>\n",
       "      <td>8.648406</td>\n",
       "      <td>2.353639</td>\n",
       "      <td>0.114800</td>\n",
       "    </tr>\n",
       "    <tr>\n",
       "      <th>std</th>\n",
       "      <td>0.20509</td>\n",
       "      <td>2.575755e+06</td>\n",
       "      <td>0.437012</td>\n",
       "      <td>0.396206</td>\n",
       "      <td>0.499936</td>\n",
       "      <td>0.500011</td>\n",
       "      <td>7.287389</td>\n",
       "      <td>9.562015e+04</td>\n",
       "      <td>220.299394</td>\n",
       "      <td>3.221312</td>\n",
       "      <td>0.677396</td>\n",
       "      <td>0.611392</td>\n",
       "    </tr>\n",
       "    <tr>\n",
       "      <th>min</th>\n",
       "      <td>0.00000</td>\n",
       "      <td>3.980000e+06</td>\n",
       "      <td>0.0</td>\n",
       "      <td>0.000000</td>\n",
       "      <td>0.000000</td>\n",
       "      <td>0.000000</td>\n",
       "      <td>1962.0</td>\n",
       "      <td>0.000000e+00</td>\n",
       "      <td>3.000000</td>\n",
       "      <td>0.000000</td>\n",
       "      <td>1.000000</td>\n",
       "      <td>0.000000</td>\n",
       "    </tr>\n",
       "    <tr>\n",
       "      <th>25%</th>\n",
       "      <td>0.00000</td>\n",
       "      <td>5.700000e+06</td>\n",
       "      <td>1.0</td>\n",
       "      <td>1.000000</td>\n",
       "      <td>0.000000</td>\n",
       "      <td>0.000000</td>\n",
       "      <td>2009.0</td>\n",
       "      <td>7.245131e+04</td>\n",
       "      <td>238.000000</td>\n",
       "      <td>10.000000</td>\n",
       "      <td>2.000000</td>\n",
       "      <td>0.000000</td>\n",
       "    </tr>\n",
       "    <tr>\n",
       "      <th>50%</th>\n",
       "      <td>0.00000</td>\n",
       "      <td>7.600000e+06</td>\n",
       "      <td>1.0</td>\n",
       "      <td>1.000000</td>\n",
       "      <td>0.000000</td>\n",
       "      <td>0.000000</td>\n",
       "      <td>2015.0</td>\n",
       "      <td>1.600000e+05</td>\n",
       "      <td>392.000000</td>\n",
       "      <td>10.000000</td>\n",
       "      <td>2.500000</td>\n",
       "      <td>0.000000</td>\n",
       "    </tr>\n",
       "    <tr>\n",
       "      <th>75%</th>\n",
       "      <td>0.00000</td>\n",
       "      <td>1.000000e+07</td>\n",
       "      <td>1.0</td>\n",
       "      <td>1.000000</td>\n",
       "      <td>1.000000</td>\n",
       "      <td>1.000000</td>\n",
       "      <td>2021.0</td>\n",
       "      <td>2.183535e+05</td>\n",
       "      <td>656.000000</td>\n",
       "      <td>10.000000</td>\n",
       "      <td>2.500000</td>\n",
       "      <td>0.000000</td>\n",
       "    </tr>\n",
       "    <tr>\n",
       "      <th>max</th>\n",
       "      <td>1.00000</td>\n",
       "      <td>1.307000e+07</td>\n",
       "      <td>3.0</td>\n",
       "      <td>2.000000</td>\n",
       "      <td>1.000000</td>\n",
       "      <td>1.000000</td>\n",
       "      <td>2025.0</td>\n",
       "      <td>1.250665e+06</td>\n",
       "      <td>778.000000</td>\n",
       "      <td>14.000000</td>\n",
       "      <td>6.000000</td>\n",
       "      <td>5.000000</td>\n",
       "    </tr>\n",
       "  </tbody>\n",
       "</table>\n",
       "</div>"
      ],
      "text/plain": [
       "        isNewAuto     unitPrice  parameters_Коробка передач  \\\n",
       "count  6115.00000  6.115000e+03                      6115.0   \n",
       "mean      0.04399  7.932117e+06                    1.036958   \n",
       "std       0.20509  2.575755e+06                    0.437012   \n",
       "min       0.00000  3.980000e+06                         0.0   \n",
       "25%       0.00000  5.700000e+06                         1.0   \n",
       "50%       0.00000  7.600000e+06                         1.0   \n",
       "75%       0.00000  1.000000e+07                         1.0   \n",
       "max       1.00000  1.307000e+07                         3.0   \n",
       "\n",
       "       parameters_Привод  parameters_Руль  parameters_Растаможен в Казахстане  \\\n",
       "count        6115.000000      6115.000000                         6115.000000   \n",
       "mean            0.918888         0.489779                            0.494522   \n",
       "std             0.396206         0.499936                            0.500011   \n",
       "min             0.000000         0.000000                            0.000000   \n",
       "25%             1.000000         0.000000                            0.000000   \n",
       "50%             1.000000         0.000000                            0.000000   \n",
       "75%             1.000000         1.000000                            1.000000   \n",
       "max             2.000000         1.000000                            1.000000   \n",
       "\n",
       "              year       mileage  Car_encoded  Body_encoded  engine_volume  \\\n",
       "count       6115.0  6.115000e+03  6115.000000   6115.000000    6115.000000   \n",
       "mean   2014.264759  1.508229e+05   430.308422      8.648406       2.353639   \n",
       "std       7.287389  9.562015e+04   220.299394      3.221312       0.677396   \n",
       "min         1962.0  0.000000e+00     3.000000      0.000000       1.000000   \n",
       "25%         2009.0  7.245131e+04   238.000000     10.000000       2.000000   \n",
       "50%         2015.0  1.600000e+05   392.000000     10.000000       2.500000   \n",
       "75%         2021.0  2.183535e+05   656.000000     10.000000       2.500000   \n",
       "max         2025.0  1.250665e+06   778.000000     14.000000       6.000000   \n",
       "\n",
       "         fuel_type  \n",
       "count  6115.000000  \n",
       "mean      0.114800  \n",
       "std       0.611392  \n",
       "min       0.000000  \n",
       "25%       0.000000  \n",
       "50%       0.000000  \n",
       "75%       0.000000  \n",
       "max       5.000000  "
      ]
     },
     "execution_count": 967,
     "metadata": {},
     "output_type": "execute_result"
    }
   ],
   "source": [
    "df_new.describe()"
   ]
  },
  {
   "cell_type": "code",
   "execution_count": 968,
   "id": "220ca378-edf2-48a3-b0c9-998d0c5bc627",
   "metadata": {},
   "outputs": [],
   "source": [
    "df_new.to_csv('clean_dataset.csv')"
   ]
  },
  {
   "cell_type": "code",
   "execution_count": 969,
   "id": "e5cbc25e-ab54-49d8-a33d-b46f0df29137",
   "metadata": {},
   "outputs": [],
   "source": [
    "# df_new = pd.get_dummies(df_new, columns=['attributes_model', 'attributes_brand', 'parameters_Кузов'], dtype=int)\n",
    "df_new.drop(columns=['attributes_model','attributes_brand'], axis=1, inplace=True)"
   ]
  },
  {
   "cell_type": "code",
   "execution_count": null,
   "id": "c6debd8a-1be8-4c32-b5fc-6b5ab0a5e38c",
   "metadata": {},
   "outputs": [],
   "source": []
  },
  {
   "cell_type": "code",
   "execution_count": 970,
   "id": "581beac5-3af5-4c6d-be46-7932f942001a",
   "metadata": {},
   "outputs": [],
   "source": [
    "y = df_new['unitPrice']  \n",
    "X = df_new.drop(columns=['unitPrice'])  "
   ]
  },
  {
   "cell_type": "code",
   "execution_count": 971,
   "id": "69b03536-cdca-4da2-9c50-00431008aed9",
   "metadata": {},
   "outputs": [],
   "source": [
    "X_train, X_test, y_train, y_test = train_test_split(X, y, test_size=0.2, random_state=42)"
   ]
  },
  {
   "cell_type": "code",
   "execution_count": 972,
   "id": "43cf2c50-2d14-4be7-b9e7-98375ae10ca1",
   "metadata": {},
   "outputs": [
    {
     "data": {
      "text/html": [
       "<div>\n",
       "<style scoped>\n",
       "    .dataframe tbody tr th:only-of-type {\n",
       "        vertical-align: middle;\n",
       "    }\n",
       "\n",
       "    .dataframe tbody tr th {\n",
       "        vertical-align: top;\n",
       "    }\n",
       "\n",
       "    .dataframe thead th {\n",
       "        text-align: right;\n",
       "    }\n",
       "</style>\n",
       "<table border=\"1\" class=\"dataframe\">\n",
       "  <thead>\n",
       "    <tr style=\"text-align: right;\">\n",
       "      <th></th>\n",
       "      <th>isNewAuto</th>\n",
       "      <th>unitPrice</th>\n",
       "      <th>parameters_Коробка передач</th>\n",
       "      <th>parameters_Привод</th>\n",
       "      <th>parameters_Руль</th>\n",
       "      <th>parameters_Растаможен в Казахстане</th>\n",
       "      <th>year</th>\n",
       "      <th>mileage</th>\n",
       "      <th>Car_encoded</th>\n",
       "      <th>Body_encoded</th>\n",
       "      <th>engine_volume</th>\n",
       "      <th>fuel_type</th>\n",
       "    </tr>\n",
       "  </thead>\n",
       "  <tbody>\n",
       "    <tr>\n",
       "      <th>0</th>\n",
       "      <td>0</td>\n",
       "      <td>8500000.0</td>\n",
       "      <td>1</td>\n",
       "      <td>2</td>\n",
       "      <td>1</td>\n",
       "      <td>1</td>\n",
       "      <td>2008</td>\n",
       "      <td>229052.941176</td>\n",
       "      <td>508</td>\n",
       "      <td>10</td>\n",
       "      <td>5.5</td>\n",
       "      <td>0</td>\n",
       "    </tr>\n",
       "    <tr>\n",
       "      <th>2</th>\n",
       "      <td>0</td>\n",
       "      <td>5050000.0</td>\n",
       "      <td>1</td>\n",
       "      <td>1</td>\n",
       "      <td>1</td>\n",
       "      <td>1</td>\n",
       "      <td>2022</td>\n",
       "      <td>74564.000000</td>\n",
       "      <td>135</td>\n",
       "      <td>14</td>\n",
       "      <td>1.0</td>\n",
       "      <td>0</td>\n",
       "    </tr>\n",
       "    <tr>\n",
       "      <th>8</th>\n",
       "      <td>0</td>\n",
       "      <td>7300000.0</td>\n",
       "      <td>1</td>\n",
       "      <td>1</td>\n",
       "      <td>1</td>\n",
       "      <td>1</td>\n",
       "      <td>2004</td>\n",
       "      <td>230000.000000</td>\n",
       "      <td>647</td>\n",
       "      <td>7</td>\n",
       "      <td>2.5</td>\n",
       "      <td>0</td>\n",
       "    </tr>\n",
       "    <tr>\n",
       "      <th>20</th>\n",
       "      <td>0</td>\n",
       "      <td>11340000.0</td>\n",
       "      <td>2</td>\n",
       "      <td>1</td>\n",
       "      <td>1</td>\n",
       "      <td>1</td>\n",
       "      <td>2016</td>\n",
       "      <td>224180.000000</td>\n",
       "      <td>695</td>\n",
       "      <td>2</td>\n",
       "      <td>2.0</td>\n",
       "      <td>0</td>\n",
       "    </tr>\n",
       "    <tr>\n",
       "      <th>26</th>\n",
       "      <td>0</td>\n",
       "      <td>9060000.0</td>\n",
       "      <td>1</td>\n",
       "      <td>1</td>\n",
       "      <td>1</td>\n",
       "      <td>1</td>\n",
       "      <td>2021</td>\n",
       "      <td>107279.000000</td>\n",
       "      <td>231</td>\n",
       "      <td>10</td>\n",
       "      <td>1.5</td>\n",
       "      <td>0</td>\n",
       "    </tr>\n",
       "  </tbody>\n",
       "</table>\n",
       "</div>"
      ],
      "text/plain": [
       "    isNewAuto   unitPrice  parameters_Коробка передач  parameters_Привод  \\\n",
       "0           0   8500000.0                           1                  2   \n",
       "2           0   5050000.0                           1                  1   \n",
       "8           0   7300000.0                           1                  1   \n",
       "20          0  11340000.0                           2                  1   \n",
       "26          0   9060000.0                           1                  1   \n",
       "\n",
       "    parameters_Руль  parameters_Растаможен в Казахстане  year        mileage  \\\n",
       "0                 1                                   1  2008  229052.941176   \n",
       "2                 1                                   1  2022   74564.000000   \n",
       "8                 1                                   1  2004  230000.000000   \n",
       "20                1                                   1  2016  224180.000000   \n",
       "26                1                                   1  2021  107279.000000   \n",
       "\n",
       "    Car_encoded  Body_encoded  engine_volume  fuel_type  \n",
       "0           508            10            5.5          0  \n",
       "2           135            14            1.0          0  \n",
       "8           647             7            2.5          0  \n",
       "20          695             2            2.0          0  \n",
       "26          231            10            1.5          0  "
      ]
     },
     "execution_count": 972,
     "metadata": {},
     "output_type": "execute_result"
    }
   ],
   "source": [
    "df_new.head()"
   ]
  },
  {
   "cell_type": "code",
   "execution_count": 973,
   "id": "e50be881-f635-4584-8465-0000da5ff249",
   "metadata": {},
   "outputs": [
    {
     "data": {
      "text/plain": [
       "Index(['isNewAuto', 'unitPrice', 'parameters_Коробка передач',\n",
       "       'parameters_Привод', 'parameters_Руль',\n",
       "       'parameters_Растаможен в Казахстане', 'year', 'mileage', 'Car_encoded',\n",
       "       'Body_encoded', 'engine_volume', 'fuel_type'],\n",
       "      dtype='object')"
      ]
     },
     "execution_count": 973,
     "metadata": {},
     "output_type": "execute_result"
    }
   ],
   "source": [
    "df_new.columns"
   ]
  },
  {
   "cell_type": "code",
   "execution_count": 974,
   "id": "1c1c1a7d-a1a6-4867-a948-9e6454848ddb",
   "metadata": {},
   "outputs": [
    {
     "data": {
      "text/html": [
       "<style>#sk-container-id-5 {\n",
       "  /* Definition of color scheme common for light and dark mode */\n",
       "  --sklearn-color-text: black;\n",
       "  --sklearn-color-line: gray;\n",
       "  /* Definition of color scheme for unfitted estimators */\n",
       "  --sklearn-color-unfitted-level-0: #fff5e6;\n",
       "  --sklearn-color-unfitted-level-1: #f6e4d2;\n",
       "  --sklearn-color-unfitted-level-2: #ffe0b3;\n",
       "  --sklearn-color-unfitted-level-3: chocolate;\n",
       "  /* Definition of color scheme for fitted estimators */\n",
       "  --sklearn-color-fitted-level-0: #f0f8ff;\n",
       "  --sklearn-color-fitted-level-1: #d4ebff;\n",
       "  --sklearn-color-fitted-level-2: #b3dbfd;\n",
       "  --sklearn-color-fitted-level-3: cornflowerblue;\n",
       "\n",
       "  /* Specific color for light theme */\n",
       "  --sklearn-color-text-on-default-background: var(--sg-text-color, var(--theme-code-foreground, var(--jp-content-font-color1, black)));\n",
       "  --sklearn-color-background: var(--sg-background-color, var(--theme-background, var(--jp-layout-color0, white)));\n",
       "  --sklearn-color-border-box: var(--sg-text-color, var(--theme-code-foreground, var(--jp-content-font-color1, black)));\n",
       "  --sklearn-color-icon: #696969;\n",
       "\n",
       "  @media (prefers-color-scheme: dark) {\n",
       "    /* Redefinition of color scheme for dark theme */\n",
       "    --sklearn-color-text-on-default-background: var(--sg-text-color, var(--theme-code-foreground, var(--jp-content-font-color1, white)));\n",
       "    --sklearn-color-background: var(--sg-background-color, var(--theme-background, var(--jp-layout-color0, #111)));\n",
       "    --sklearn-color-border-box: var(--sg-text-color, var(--theme-code-foreground, var(--jp-content-font-color1, white)));\n",
       "    --sklearn-color-icon: #878787;\n",
       "  }\n",
       "}\n",
       "\n",
       "#sk-container-id-5 {\n",
       "  color: var(--sklearn-color-text);\n",
       "}\n",
       "\n",
       "#sk-container-id-5 pre {\n",
       "  padding: 0;\n",
       "}\n",
       "\n",
       "#sk-container-id-5 input.sk-hidden--visually {\n",
       "  border: 0;\n",
       "  clip: rect(1px 1px 1px 1px);\n",
       "  clip: rect(1px, 1px, 1px, 1px);\n",
       "  height: 1px;\n",
       "  margin: -1px;\n",
       "  overflow: hidden;\n",
       "  padding: 0;\n",
       "  position: absolute;\n",
       "  width: 1px;\n",
       "}\n",
       "\n",
       "#sk-container-id-5 div.sk-dashed-wrapped {\n",
       "  border: 1px dashed var(--sklearn-color-line);\n",
       "  margin: 0 0.4em 0.5em 0.4em;\n",
       "  box-sizing: border-box;\n",
       "  padding-bottom: 0.4em;\n",
       "  background-color: var(--sklearn-color-background);\n",
       "}\n",
       "\n",
       "#sk-container-id-5 div.sk-container {\n",
       "  /* jupyter's `normalize.less` sets `[hidden] { display: none; }`\n",
       "     but bootstrap.min.css set `[hidden] { display: none !important; }`\n",
       "     so we also need the `!important` here to be able to override the\n",
       "     default hidden behavior on the sphinx rendered scikit-learn.org.\n",
       "     See: https://github.com/scikit-learn/scikit-learn/issues/21755 */\n",
       "  display: inline-block !important;\n",
       "  position: relative;\n",
       "}\n",
       "\n",
       "#sk-container-id-5 div.sk-text-repr-fallback {\n",
       "  display: none;\n",
       "}\n",
       "\n",
       "div.sk-parallel-item,\n",
       "div.sk-serial,\n",
       "div.sk-item {\n",
       "  /* draw centered vertical line to link estimators */\n",
       "  background-image: linear-gradient(var(--sklearn-color-text-on-default-background), var(--sklearn-color-text-on-default-background));\n",
       "  background-size: 2px 100%;\n",
       "  background-repeat: no-repeat;\n",
       "  background-position: center center;\n",
       "}\n",
       "\n",
       "/* Parallel-specific style estimator block */\n",
       "\n",
       "#sk-container-id-5 div.sk-parallel-item::after {\n",
       "  content: \"\";\n",
       "  width: 100%;\n",
       "  border-bottom: 2px solid var(--sklearn-color-text-on-default-background);\n",
       "  flex-grow: 1;\n",
       "}\n",
       "\n",
       "#sk-container-id-5 div.sk-parallel {\n",
       "  display: flex;\n",
       "  align-items: stretch;\n",
       "  justify-content: center;\n",
       "  background-color: var(--sklearn-color-background);\n",
       "  position: relative;\n",
       "}\n",
       "\n",
       "#sk-container-id-5 div.sk-parallel-item {\n",
       "  display: flex;\n",
       "  flex-direction: column;\n",
       "}\n",
       "\n",
       "#sk-container-id-5 div.sk-parallel-item:first-child::after {\n",
       "  align-self: flex-end;\n",
       "  width: 50%;\n",
       "}\n",
       "\n",
       "#sk-container-id-5 div.sk-parallel-item:last-child::after {\n",
       "  align-self: flex-start;\n",
       "  width: 50%;\n",
       "}\n",
       "\n",
       "#sk-container-id-5 div.sk-parallel-item:only-child::after {\n",
       "  width: 0;\n",
       "}\n",
       "\n",
       "/* Serial-specific style estimator block */\n",
       "\n",
       "#sk-container-id-5 div.sk-serial {\n",
       "  display: flex;\n",
       "  flex-direction: column;\n",
       "  align-items: center;\n",
       "  background-color: var(--sklearn-color-background);\n",
       "  padding-right: 1em;\n",
       "  padding-left: 1em;\n",
       "}\n",
       "\n",
       "\n",
       "/* Toggleable style: style used for estimator/Pipeline/ColumnTransformer box that is\n",
       "clickable and can be expanded/collapsed.\n",
       "- Pipeline and ColumnTransformer use this feature and define the default style\n",
       "- Estimators will overwrite some part of the style using the `sk-estimator` class\n",
       "*/\n",
       "\n",
       "/* Pipeline and ColumnTransformer style (default) */\n",
       "\n",
       "#sk-container-id-5 div.sk-toggleable {\n",
       "  /* Default theme specific background. It is overwritten whether we have a\n",
       "  specific estimator or a Pipeline/ColumnTransformer */\n",
       "  background-color: var(--sklearn-color-background);\n",
       "}\n",
       "\n",
       "/* Toggleable label */\n",
       "#sk-container-id-5 label.sk-toggleable__label {\n",
       "  cursor: pointer;\n",
       "  display: block;\n",
       "  width: 100%;\n",
       "  margin-bottom: 0;\n",
       "  padding: 0.5em;\n",
       "  box-sizing: border-box;\n",
       "  text-align: center;\n",
       "}\n",
       "\n",
       "#sk-container-id-5 label.sk-toggleable__label-arrow:before {\n",
       "  /* Arrow on the left of the label */\n",
       "  content: \"▸\";\n",
       "  float: left;\n",
       "  margin-right: 0.25em;\n",
       "  color: var(--sklearn-color-icon);\n",
       "}\n",
       "\n",
       "#sk-container-id-5 label.sk-toggleable__label-arrow:hover:before {\n",
       "  color: var(--sklearn-color-text);\n",
       "}\n",
       "\n",
       "/* Toggleable content - dropdown */\n",
       "\n",
       "#sk-container-id-5 div.sk-toggleable__content {\n",
       "  max-height: 0;\n",
       "  max-width: 0;\n",
       "  overflow: hidden;\n",
       "  text-align: left;\n",
       "  /* unfitted */\n",
       "  background-color: var(--sklearn-color-unfitted-level-0);\n",
       "}\n",
       "\n",
       "#sk-container-id-5 div.sk-toggleable__content.fitted {\n",
       "  /* fitted */\n",
       "  background-color: var(--sklearn-color-fitted-level-0);\n",
       "}\n",
       "\n",
       "#sk-container-id-5 div.sk-toggleable__content pre {\n",
       "  margin: 0.2em;\n",
       "  border-radius: 0.25em;\n",
       "  color: var(--sklearn-color-text);\n",
       "  /* unfitted */\n",
       "  background-color: var(--sklearn-color-unfitted-level-0);\n",
       "}\n",
       "\n",
       "#sk-container-id-5 div.sk-toggleable__content.fitted pre {\n",
       "  /* unfitted */\n",
       "  background-color: var(--sklearn-color-fitted-level-0);\n",
       "}\n",
       "\n",
       "#sk-container-id-5 input.sk-toggleable__control:checked~div.sk-toggleable__content {\n",
       "  /* Expand drop-down */\n",
       "  max-height: 200px;\n",
       "  max-width: 100%;\n",
       "  overflow: auto;\n",
       "}\n",
       "\n",
       "#sk-container-id-5 input.sk-toggleable__control:checked~label.sk-toggleable__label-arrow:before {\n",
       "  content: \"▾\";\n",
       "}\n",
       "\n",
       "/* Pipeline/ColumnTransformer-specific style */\n",
       "\n",
       "#sk-container-id-5 div.sk-label input.sk-toggleable__control:checked~label.sk-toggleable__label {\n",
       "  color: var(--sklearn-color-text);\n",
       "  background-color: var(--sklearn-color-unfitted-level-2);\n",
       "}\n",
       "\n",
       "#sk-container-id-5 div.sk-label.fitted input.sk-toggleable__control:checked~label.sk-toggleable__label {\n",
       "  background-color: var(--sklearn-color-fitted-level-2);\n",
       "}\n",
       "\n",
       "/* Estimator-specific style */\n",
       "\n",
       "/* Colorize estimator box */\n",
       "#sk-container-id-5 div.sk-estimator input.sk-toggleable__control:checked~label.sk-toggleable__label {\n",
       "  /* unfitted */\n",
       "  background-color: var(--sklearn-color-unfitted-level-2);\n",
       "}\n",
       "\n",
       "#sk-container-id-5 div.sk-estimator.fitted input.sk-toggleable__control:checked~label.sk-toggleable__label {\n",
       "  /* fitted */\n",
       "  background-color: var(--sklearn-color-fitted-level-2);\n",
       "}\n",
       "\n",
       "#sk-container-id-5 div.sk-label label.sk-toggleable__label,\n",
       "#sk-container-id-5 div.sk-label label {\n",
       "  /* The background is the default theme color */\n",
       "  color: var(--sklearn-color-text-on-default-background);\n",
       "}\n",
       "\n",
       "/* On hover, darken the color of the background */\n",
       "#sk-container-id-5 div.sk-label:hover label.sk-toggleable__label {\n",
       "  color: var(--sklearn-color-text);\n",
       "  background-color: var(--sklearn-color-unfitted-level-2);\n",
       "}\n",
       "\n",
       "/* Label box, darken color on hover, fitted */\n",
       "#sk-container-id-5 div.sk-label.fitted:hover label.sk-toggleable__label.fitted {\n",
       "  color: var(--sklearn-color-text);\n",
       "  background-color: var(--sklearn-color-fitted-level-2);\n",
       "}\n",
       "\n",
       "/* Estimator label */\n",
       "\n",
       "#sk-container-id-5 div.sk-label label {\n",
       "  font-family: monospace;\n",
       "  font-weight: bold;\n",
       "  display: inline-block;\n",
       "  line-height: 1.2em;\n",
       "}\n",
       "\n",
       "#sk-container-id-5 div.sk-label-container {\n",
       "  text-align: center;\n",
       "}\n",
       "\n",
       "/* Estimator-specific */\n",
       "#sk-container-id-5 div.sk-estimator {\n",
       "  font-family: monospace;\n",
       "  border: 1px dotted var(--sklearn-color-border-box);\n",
       "  border-radius: 0.25em;\n",
       "  box-sizing: border-box;\n",
       "  margin-bottom: 0.5em;\n",
       "  /* unfitted */\n",
       "  background-color: var(--sklearn-color-unfitted-level-0);\n",
       "}\n",
       "\n",
       "#sk-container-id-5 div.sk-estimator.fitted {\n",
       "  /* fitted */\n",
       "  background-color: var(--sklearn-color-fitted-level-0);\n",
       "}\n",
       "\n",
       "/* on hover */\n",
       "#sk-container-id-5 div.sk-estimator:hover {\n",
       "  /* unfitted */\n",
       "  background-color: var(--sklearn-color-unfitted-level-2);\n",
       "}\n",
       "\n",
       "#sk-container-id-5 div.sk-estimator.fitted:hover {\n",
       "  /* fitted */\n",
       "  background-color: var(--sklearn-color-fitted-level-2);\n",
       "}\n",
       "\n",
       "/* Specification for estimator info (e.g. \"i\" and \"?\") */\n",
       "\n",
       "/* Common style for \"i\" and \"?\" */\n",
       "\n",
       ".sk-estimator-doc-link,\n",
       "a:link.sk-estimator-doc-link,\n",
       "a:visited.sk-estimator-doc-link {\n",
       "  float: right;\n",
       "  font-size: smaller;\n",
       "  line-height: 1em;\n",
       "  font-family: monospace;\n",
       "  background-color: var(--sklearn-color-background);\n",
       "  border-radius: 1em;\n",
       "  height: 1em;\n",
       "  width: 1em;\n",
       "  text-decoration: none !important;\n",
       "  margin-left: 1ex;\n",
       "  /* unfitted */\n",
       "  border: var(--sklearn-color-unfitted-level-1) 1pt solid;\n",
       "  color: var(--sklearn-color-unfitted-level-1);\n",
       "}\n",
       "\n",
       ".sk-estimator-doc-link.fitted,\n",
       "a:link.sk-estimator-doc-link.fitted,\n",
       "a:visited.sk-estimator-doc-link.fitted {\n",
       "  /* fitted */\n",
       "  border: var(--sklearn-color-fitted-level-1) 1pt solid;\n",
       "  color: var(--sklearn-color-fitted-level-1);\n",
       "}\n",
       "\n",
       "/* On hover */\n",
       "div.sk-estimator:hover .sk-estimator-doc-link:hover,\n",
       ".sk-estimator-doc-link:hover,\n",
       "div.sk-label-container:hover .sk-estimator-doc-link:hover,\n",
       ".sk-estimator-doc-link:hover {\n",
       "  /* unfitted */\n",
       "  background-color: var(--sklearn-color-unfitted-level-3);\n",
       "  color: var(--sklearn-color-background);\n",
       "  text-decoration: none;\n",
       "}\n",
       "\n",
       "div.sk-estimator.fitted:hover .sk-estimator-doc-link.fitted:hover,\n",
       ".sk-estimator-doc-link.fitted:hover,\n",
       "div.sk-label-container:hover .sk-estimator-doc-link.fitted:hover,\n",
       ".sk-estimator-doc-link.fitted:hover {\n",
       "  /* fitted */\n",
       "  background-color: var(--sklearn-color-fitted-level-3);\n",
       "  color: var(--sklearn-color-background);\n",
       "  text-decoration: none;\n",
       "}\n",
       "\n",
       "/* Span, style for the box shown on hovering the info icon */\n",
       ".sk-estimator-doc-link span {\n",
       "  display: none;\n",
       "  z-index: 9999;\n",
       "  position: relative;\n",
       "  font-weight: normal;\n",
       "  right: .2ex;\n",
       "  padding: .5ex;\n",
       "  margin: .5ex;\n",
       "  width: min-content;\n",
       "  min-width: 20ex;\n",
       "  max-width: 50ex;\n",
       "  color: var(--sklearn-color-text);\n",
       "  box-shadow: 2pt 2pt 4pt #999;\n",
       "  /* unfitted */\n",
       "  background: var(--sklearn-color-unfitted-level-0);\n",
       "  border: .5pt solid var(--sklearn-color-unfitted-level-3);\n",
       "}\n",
       "\n",
       ".sk-estimator-doc-link.fitted span {\n",
       "  /* fitted */\n",
       "  background: var(--sklearn-color-fitted-level-0);\n",
       "  border: var(--sklearn-color-fitted-level-3);\n",
       "}\n",
       "\n",
       ".sk-estimator-doc-link:hover span {\n",
       "  display: block;\n",
       "}\n",
       "\n",
       "/* \"?\"-specific style due to the `<a>` HTML tag */\n",
       "\n",
       "#sk-container-id-5 a.estimator_doc_link {\n",
       "  float: right;\n",
       "  font-size: 1rem;\n",
       "  line-height: 1em;\n",
       "  font-family: monospace;\n",
       "  background-color: var(--sklearn-color-background);\n",
       "  border-radius: 1rem;\n",
       "  height: 1rem;\n",
       "  width: 1rem;\n",
       "  text-decoration: none;\n",
       "  /* unfitted */\n",
       "  color: var(--sklearn-color-unfitted-level-1);\n",
       "  border: var(--sklearn-color-unfitted-level-1) 1pt solid;\n",
       "}\n",
       "\n",
       "#sk-container-id-5 a.estimator_doc_link.fitted {\n",
       "  /* fitted */\n",
       "  border: var(--sklearn-color-fitted-level-1) 1pt solid;\n",
       "  color: var(--sklearn-color-fitted-level-1);\n",
       "}\n",
       "\n",
       "/* On hover */\n",
       "#sk-container-id-5 a.estimator_doc_link:hover {\n",
       "  /* unfitted */\n",
       "  background-color: var(--sklearn-color-unfitted-level-3);\n",
       "  color: var(--sklearn-color-background);\n",
       "  text-decoration: none;\n",
       "}\n",
       "\n",
       "#sk-container-id-5 a.estimator_doc_link.fitted:hover {\n",
       "  /* fitted */\n",
       "  background-color: var(--sklearn-color-fitted-level-3);\n",
       "}\n",
       "</style><div id=\"sk-container-id-5\" class=\"sk-top-container\"><div class=\"sk-text-repr-fallback\"><pre>LinearRegression()</pre><b>In a Jupyter environment, please rerun this cell to show the HTML representation or trust the notebook. <br />On GitHub, the HTML representation is unable to render, please try loading this page with nbviewer.org.</b></div><div class=\"sk-container\" hidden><div class=\"sk-item\"><div class=\"sk-estimator fitted sk-toggleable\"><input class=\"sk-toggleable__control sk-hidden--visually\" id=\"sk-estimator-id-5\" type=\"checkbox\" checked><label for=\"sk-estimator-id-5\" class=\"sk-toggleable__label fitted sk-toggleable__label-arrow fitted\">&nbsp;&nbsp;LinearRegression<a class=\"sk-estimator-doc-link fitted\" rel=\"noreferrer\" target=\"_blank\" href=\"https://scikit-learn.org/1.5/modules/generated/sklearn.linear_model.LinearRegression.html\">?<span>Documentation for LinearRegression</span></a><span class=\"sk-estimator-doc-link fitted\">i<span>Fitted</span></span></label><div class=\"sk-toggleable__content fitted\"><pre>LinearRegression()</pre></div> </div></div></div></div>"
      ],
      "text/plain": [
       "LinearRegression()"
      ]
     },
     "execution_count": 974,
     "metadata": {},
     "output_type": "execute_result"
    }
   ],
   "source": [
    "model = LinearRegression()\n",
    "model.fit(X_train, y_train)"
   ]
  },
  {
   "cell_type": "code",
   "execution_count": 975,
   "id": "6358daa9-4e20-4284-9ddf-52beb2d47053",
   "metadata": {},
   "outputs": [],
   "source": [
    "y_pred = model.predict(X_test)"
   ]
  },
  {
   "cell_type": "code",
   "execution_count": 976,
   "id": "255c6e19-66f7-4d62-b9a2-139e2a20ed38",
   "metadata": {},
   "outputs": [
    {
     "name": "stdout",
     "output_type": "stream",
     "text": [
      "MAE: 1733188.93\n",
      "MSE: 4615648960762.62\n",
      "RMSE: 2148406.14\n",
      "R²: 0.32\n"
     ]
    }
   ],
   "source": [
    "print(f'MAE: {mean_absolute_error(y_test, y_pred):.2f}')\n",
    "print(f'MSE: {mean_squared_error(y_test, y_pred):.2f}')\n",
    "print(f'RMSE: {np.sqrt(mean_squared_error(y_test, y_pred)):.2f}')\n",
    "print(f'R²: {r2_score(y_test, y_pred):.2f}')"
   ]
  },
  {
   "cell_type": "code",
   "execution_count": 977,
   "id": "c5581ff4-c778-496e-be1d-91cdcb5808fd",
   "metadata": {},
   "outputs": [
    {
     "name": "stdout",
     "output_type": "stream",
     "text": [
      "MAPE: 23.72%\n"
     ]
    }
   ],
   "source": [
    "mape = np.mean(np.abs((y_test - y_pred) / y_test)) * 100\n",
    "print(f\"MAPE: {mape:.2f}%\")\n"
   ]
  },
  {
   "cell_type": "code",
   "execution_count": 978,
   "id": "e2f64e1f-945c-4136-9d81-0d7c8ce90b12",
   "metadata": {},
   "outputs": [
    {
     "data": {
      "text/plain": [
       "Index(['isNewAuto', 'unitPrice', 'parameters_Коробка передач',\n",
       "       'parameters_Привод', 'parameters_Руль',\n",
       "       'parameters_Растаможен в Казахстане', 'year', 'mileage', 'Car_encoded',\n",
       "       'Body_encoded', 'engine_volume', 'fuel_type'],\n",
       "      dtype='object')"
      ]
     },
     "execution_count": 978,
     "metadata": {},
     "output_type": "execute_result"
    }
   ],
   "source": [
    "df_new.columns"
   ]
  },
  {
   "cell_type": "code",
   "execution_count": 979,
   "id": "b0073900-65b7-47bb-bc70-168269af63a2",
   "metadata": {},
   "outputs": [
    {
     "name": "stdout",
     "output_type": "stream",
     "text": [
      "Модель и LabelEncoder сохранены!\n"
     ]
    }
   ],
   "source": [
    "import pickle\n",
    "\n",
    "# Сохранение модели\n",
    "with open(\"model.pkl\", \"wb\") as f:\n",
    "    pickle.dump(model, f)\n",
    "\n",
    "# Сохранение LabelEncoder\n",
    "with open(\"encoder.pkl\", \"wb\") as f:\n",
    "    pickle.dump(encoder, f)\n",
    "\n",
    "print(\"Модель и LabelEncoder сохранены!\")\n"
   ]
  },
  {
   "cell_type": "code",
   "execution_count": null,
   "id": "57c20ba8-e1bc-45c6-81d7-a24a2ed8a235",
   "metadata": {},
   "outputs": [],
   "source": [
    "\n"
   ]
  },
  {
   "cell_type": "code",
   "execution_count": 980,
   "id": "d5347898-d52d-4ff2-9f33-abf937516888",
   "metadata": {},
   "outputs": [],
   "source": [
    "#Седан           8927\n",
    "# Кроссовер       1370\n",
    "# Внедорожник      780\n",
    "# Хэтчбек          348\n",
    "# Минивэн          268\n",
    "# Универсал        252\n",
    "# Лифтбек          132\n",
    "# Пикап            128\n",
    "# Фургон            54\n",
    "# Купе              34\n",
    "# Микроавтобус      17\n",
    "# Микровэн           2\n",
    "# Кабриолет          2\n",
    "# Родстер            2\n",
    "# Тарга              1\n",
    "# Фастбек            1"
   ]
  },
  {
   "cell_type": "code",
   "execution_count": null,
   "id": "db17c68d-3c4e-4a7b-8509-1fe51316d15b",
   "metadata": {},
   "outputs": [],
   "source": []
  },
  {
   "cell_type": "code",
   "execution_count": 981,
   "id": "7da7ca3f-037a-4690-b58d-eee2a3542438",
   "metadata": {},
   "outputs": [
    {
     "name": "stdout",
     "output_type": "stream",
     "text": [
      "    Car_encoded Original_name\n",
      "0             0   Внедорожник\n",
      "1             1     Кабриолет\n",
      "2             2     Кроссовер\n",
      "3             3          Купе\n",
      "4             4       Лифтбек\n",
      "5             5  Микроавтобус\n",
      "6             6      Микровэн\n",
      "7             7       Минивэн\n",
      "8             8         Пикап\n",
      "9             9       Родстер\n",
      "10           10         Седан\n",
      "11           11         Тарга\n",
      "12           12     Универсал\n",
      "13           13        Фургон\n",
      "14           14       Хэтчбек\n"
     ]
    }
   ],
   "source": [
    "label_mapping_body = pd.DataFrame({\n",
    "    \"Car_encoded\": range(len(encoder.classes_)),  # Индексы\n",
    "    \"Original_name\": encoder.classes_  # Исходные названия\n",
    "})\n",
    "\n",
    "print(label_mapping_body)  # Таблица соответстви"
   ]
  },
  {
   "cell_type": "code",
   "execution_count": 982,
   "id": "15c9ff53-73ee-4db2-b613-8476535532ec",
   "metadata": {},
   "outputs": [
    {
     "name": "stdout",
     "output_type": "stream",
     "text": [
      "     Car_encoded Original_name\n",
      "0              0       AITO M9\n",
      "1              1      Audi 100\n",
      "2              2       Audi 80\n",
      "3              3       Audi A3\n",
      "4              4       Audi A4\n",
      "..           ...           ...\n",
      "775          775    УАЗ Hunter\n",
      "776          776   УАЗ Patriot\n",
      "777          777    УАЗ Pickup\n",
      "778          778   УАЗ Буханка\n",
      "779          779    УАЗ Фермер\n",
      "\n",
      "[780 rows x 2 columns]\n"
     ]
    }
   ],
   "source": [
    "label_mapping_name = pd.DataFrame({\n",
    "    \"Car_encoded\": range(len(encodera.classes_)),  \n",
    "    \"Original_name\": encodera.classes_  \n",
    "})\n",
    "\n",
    "print(label_mapping_name)  "
   ]
  },
  {
   "cell_type": "code",
   "execution_count": 983,
   "id": "af0a201c-9f15-4a22-934e-869711a56f17",
   "metadata": {},
   "outputs": [],
   "source": [
    "df_label = label_mapping_name"
   ]
  },
  {
   "cell_type": "code",
   "execution_count": 984,
   "id": "b80c1c9f-6c09-447a-9afe-ac9c58a30350",
   "metadata": {},
   "outputs": [],
   "source": [
    "df_label.to_csv(\"label_mapping_name.csv\")"
   ]
  },
  {
   "cell_type": "code",
   "execution_count": 985,
   "id": "756050d5-6da8-4ae4-b13c-69461a51a87f",
   "metadata": {},
   "outputs": [
    {
     "data": {
      "text/html": [
       "<div>\n",
       "<style scoped>\n",
       "    .dataframe tbody tr th:only-of-type {\n",
       "        vertical-align: middle;\n",
       "    }\n",
       "\n",
       "    .dataframe tbody tr th {\n",
       "        vertical-align: top;\n",
       "    }\n",
       "\n",
       "    .dataframe thead th {\n",
       "        text-align: right;\n",
       "    }\n",
       "</style>\n",
       "<table border=\"1\" class=\"dataframe\">\n",
       "  <thead>\n",
       "    <tr style=\"text-align: right;\">\n",
       "      <th></th>\n",
       "      <th>Car_encoded</th>\n",
       "      <th>Original_name</th>\n",
       "    </tr>\n",
       "  </thead>\n",
       "  <tbody>\n",
       "    <tr>\n",
       "      <th>0</th>\n",
       "      <td>0</td>\n",
       "      <td>AITO M9</td>\n",
       "    </tr>\n",
       "    <tr>\n",
       "      <th>1</th>\n",
       "      <td>1</td>\n",
       "      <td>Audi 100</td>\n",
       "    </tr>\n",
       "    <tr>\n",
       "      <th>2</th>\n",
       "      <td>2</td>\n",
       "      <td>Audi 80</td>\n",
       "    </tr>\n",
       "    <tr>\n",
       "      <th>3</th>\n",
       "      <td>3</td>\n",
       "      <td>Audi A3</td>\n",
       "    </tr>\n",
       "    <tr>\n",
       "      <th>4</th>\n",
       "      <td>4</td>\n",
       "      <td>Audi A4</td>\n",
       "    </tr>\n",
       "    <tr>\n",
       "      <th>...</th>\n",
       "      <td>...</td>\n",
       "      <td>...</td>\n",
       "    </tr>\n",
       "    <tr>\n",
       "      <th>775</th>\n",
       "      <td>775</td>\n",
       "      <td>УАЗ Hunter</td>\n",
       "    </tr>\n",
       "    <tr>\n",
       "      <th>776</th>\n",
       "      <td>776</td>\n",
       "      <td>УАЗ Patriot</td>\n",
       "    </tr>\n",
       "    <tr>\n",
       "      <th>777</th>\n",
       "      <td>777</td>\n",
       "      <td>УАЗ Pickup</td>\n",
       "    </tr>\n",
       "    <tr>\n",
       "      <th>778</th>\n",
       "      <td>778</td>\n",
       "      <td>УАЗ Буханка</td>\n",
       "    </tr>\n",
       "    <tr>\n",
       "      <th>779</th>\n",
       "      <td>779</td>\n",
       "      <td>УАЗ Фермер</td>\n",
       "    </tr>\n",
       "  </tbody>\n",
       "</table>\n",
       "<p>780 rows × 2 columns</p>\n",
       "</div>"
      ],
      "text/plain": [
       "     Car_encoded Original_name\n",
       "0              0       AITO M9\n",
       "1              1      Audi 100\n",
       "2              2       Audi 80\n",
       "3              3       Audi A3\n",
       "4              4       Audi A4\n",
       "..           ...           ...\n",
       "775          775    УАЗ Hunter\n",
       "776          776   УАЗ Patriot\n",
       "777          777    УАЗ Pickup\n",
       "778          778   УАЗ Буханка\n",
       "779          779    УАЗ Фермер\n",
       "\n",
       "[780 rows x 2 columns]"
      ]
     },
     "execution_count": 985,
     "metadata": {},
     "output_type": "execute_result"
    }
   ],
   "source": [
    "df_label"
   ]
  },
  {
   "cell_type": "code",
   "execution_count": 986,
   "id": "d1bf3bec-e35b-497f-bb8f-007a6a6ef105",
   "metadata": {},
   "outputs": [],
   "source": [
    "df_label_body = label_mapping_body \n",
    "df_label_body.to_csv('label_mapping_body.csv')"
   ]
  },
  {
   "cell_type": "code",
   "execution_count": 987,
   "id": "fb9448b7-d8d5-4c5c-a619-9da6cff97901",
   "metadata": {},
   "outputs": [
    {
     "name": "stdout",
     "output_type": "stream",
     "text": [
      "   Car_encoded Original_name\n",
      "0            0       AITO M9\n",
      "1            1      Audi 100\n",
      "2            2       Audi 80\n",
      "3            3       Audi A3\n",
      "4            4       Audi A4\n"
     ]
    }
   ],
   "source": [
    "print(label_mapping_name.head())  # Выведет первые строки таблицы\n",
    "\n"
   ]
  },
  {
   "cell_type": "code",
   "execution_count": 988,
   "id": "a0cf29e4-2fb8-45e3-8a70-3969a00cbb6f",
   "metadata": {},
   "outputs": [
    {
     "name": "stdout",
     "output_type": "stream",
     "text": [
      "    Car_encoded Original_name\n",
      "0             0   Внедорожник\n",
      "1             1     Кабриолет\n",
      "2             2     Кроссовер\n",
      "3             3          Купе\n",
      "4             4       Лифтбек\n",
      "5             5  Микроавтобус\n",
      "6             6      Микровэн\n",
      "7             7       Минивэн\n",
      "8             8         Пикап\n",
      "9             9       Родстер\n",
      "10           10         Седан\n",
      "11           11         Тарга\n",
      "12           12     Универсал\n",
      "13           13        Фургон\n",
      "14           14       Хэтчбек\n"
     ]
    }
   ],
   "source": [
    "print(df_label_body)"
   ]
  },
  {
   "cell_type": "code",
   "execution_count": 989,
   "id": "a14c2f43-154d-400b-88b9-c19bf3524988",
   "metadata": {},
   "outputs": [
    {
     "name": "stdout",
     "output_type": "stream",
     "text": [
      "     Car_encoded Original_name\n",
      "0              0       AITO M9\n",
      "1              1      Audi 100\n",
      "2              2       Audi 80\n",
      "3              3       Audi A3\n",
      "4              4       Audi A4\n",
      "..           ...           ...\n",
      "775          775    УАЗ Hunter\n",
      "776          776   УАЗ Patriot\n",
      "777          777    УАЗ Pickup\n",
      "778          778   УАЗ Буханка\n",
      "779          779    УАЗ Фермер\n",
      "\n",
      "[780 rows x 2 columns]\n"
     ]
    }
   ],
   "source": [
    "print(df_label)"
   ]
  }
 ],
 "metadata": {
  "kernelspec": {
   "display_name": "Python 3 (ipykernel)",
   "language": "python",
   "name": "python3"
  },
  "language_info": {
   "codemirror_mode": {
    "name": "ipython",
    "version": 3
   },
   "file_extension": ".py",
   "mimetype": "text/x-python",
   "name": "python",
   "nbconvert_exporter": "python",
   "pygments_lexer": "ipython3",
   "version": "3.12.7"
  }
 },
 "nbformat": 4,
 "nbformat_minor": 5
}
